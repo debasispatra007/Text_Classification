{
 "cells": [
  {
   "cell_type": "code",
   "execution_count": 1,
   "metadata": {
    "colab": {
     "base_uri": "https://localhost:8080/",
     "height": 34
    },
    "colab_type": "code",
    "id": "_yVbURGIY9iu",
    "outputId": "0ace1ae2-7ad5-489b-ef6c-1bc6e11cbd8e"
   },
   "outputs": [
    {
     "name": "stderr",
     "output_type": "stream",
     "text": [
      "Using TensorFlow backend.\n"
     ]
    }
   ],
   "source": [
    "import os, sys\n",
    "import numpy as np\n",
    "import pandas as pd\n",
    "from keras.layers import Input, Dense, Flatten,Activation\n",
    "from keras.layers import Conv1D, MaxPooling1D,Dropout,LSTM\n",
    "from keras.layers import Embedding\n",
    "from keras.preprocessing.text import Tokenizer\n",
    "from keras.preprocessing.sequence import pad_sequences\n",
    "from keras.utils import to_categorical\n",
    "from numpy import zeros\n",
    "from numpy import asarray\n",
    "from keras.preprocessing.text import Tokenizer\n",
    "from keras.preprocessing.sequence import pad_sequences\n",
    "from keras.models import Sequential\n",
    "from keras.layers import Dense\n",
    "from keras.layers import Flatten\n",
    "from keras.layers.embeddings import Embedding\n",
    "import matplotlib.pyplot as plt\n",
    "%matplotlib inline\n",
    "np.random.seed(1445)"
   ]
  },
  {
   "cell_type": "markdown",
   "metadata": {},
   "source": [
    "### Reading  the Data"
   ]
  },
  {
   "cell_type": "code",
   "execution_count": 61,
   "metadata": {
    "colab": {},
    "colab_type": "code",
    "collapsed": true,
    "id": "oy6L6xFTY9i8"
   },
   "outputs": [],
   "source": [
    "Data = pd.read_csv(\"train-1546603042473.csv\")\n",
    "Data_Test = pd.read_csv(\"test-1546603743049.csv\")"
   ]
  },
  {
   "cell_type": "code",
   "execution_count": 62,
   "metadata": {
    "colab": {
     "base_uri": "https://localhost:8080/",
     "height": 204
    },
    "colab_type": "code",
    "id": "KZArqJwbY9jC",
    "outputId": "a4465352-fad0-4cad-ad4c-515c4bb0e081"
   },
   "outputs": [
    {
     "data": {
      "text/html": [
       "<div>\n",
       "<style scoped>\n",
       "    .dataframe tbody tr th:only-of-type {\n",
       "        vertical-align: middle;\n",
       "    }\n",
       "\n",
       "    .dataframe tbody tr th {\n",
       "        vertical-align: top;\n",
       "    }\n",
       "\n",
       "    .dataframe thead th {\n",
       "        text-align: right;\n",
       "    }\n",
       "</style>\n",
       "<table border=\"1\" class=\"dataframe\">\n",
       "  <thead>\n",
       "    <tr style=\"text-align: right;\">\n",
       "      <th></th>\n",
       "      <th>categories</th>\n",
       "      <th>converse</th>\n",
       "    </tr>\n",
       "  </thead>\n",
       "  <tbody>\n",
       "    <tr>\n",
       "      <th>0</th>\n",
       "      <td>QUERIES FROM PHARMACY</td>\n",
       "      <td>please to verify instructions for drugname pat...</td>\n",
       "    </tr>\n",
       "    <tr>\n",
       "      <th>1</th>\n",
       "      <td>NEW APPOINTMENT</td>\n",
       "      <td>lmovm for patients mother to and schd rov trac...</td>\n",
       "    </tr>\n",
       "    <tr>\n",
       "      <th>2</th>\n",
       "      <td>OTHERS</td>\n",
       "      <td>labtype and insurance approval other incoming ...</td>\n",
       "    </tr>\n",
       "    <tr>\n",
       "      <th>3</th>\n",
       "      <td>OTHERS</td>\n",
       "      <td>clinical list changes medfusion secure electro...</td>\n",
       "    </tr>\n",
       "    <tr>\n",
       "      <th>4</th>\n",
       "      <td>MEDICATION RELATED</td>\n",
       "      <td>wants to wean off medication work phone name d...</td>\n",
       "    </tr>\n",
       "  </tbody>\n",
       "</table>\n",
       "</div>"
      ],
      "text/plain": [
       "              categories                                           converse\n",
       "0  QUERIES FROM PHARMACY  please to verify instructions for drugname pat...\n",
       "1        NEW APPOINTMENT  lmovm for patients mother to and schd rov trac...\n",
       "2                 OTHERS  labtype and insurance approval other incoming ...\n",
       "3                 OTHERS  clinical list changes medfusion secure electro...\n",
       "4     MEDICATION RELATED  wants to wean off medication work phone name d..."
      ]
     },
     "execution_count": 62,
     "metadata": {},
     "output_type": "execute_result"
    }
   ],
   "source": [
    "Data.head()"
   ]
  },
  {
   "cell_type": "code",
   "execution_count": 63,
   "metadata": {},
   "outputs": [
    {
     "data": {
      "text/html": [
       "<div>\n",
       "<style scoped>\n",
       "    .dataframe tbody tr th:only-of-type {\n",
       "        vertical-align: middle;\n",
       "    }\n",
       "\n",
       "    .dataframe tbody tr th {\n",
       "        vertical-align: top;\n",
       "    }\n",
       "\n",
       "    .dataframe thead th {\n",
       "        text-align: right;\n",
       "    }\n",
       "</style>\n",
       "<table border=\"1\" class=\"dataframe\">\n",
       "  <thead>\n",
       "    <tr style=\"text-align: right;\">\n",
       "      <th></th>\n",
       "      <th>id</th>\n",
       "      <th>converse</th>\n",
       "    </tr>\n",
       "  </thead>\n",
       "  <tbody>\n",
       "    <tr>\n",
       "      <th>0</th>\n",
       "      <td>1</td>\n",
       "      <td>request to speak with rn no given patients ref...</td>\n",
       "    </tr>\n",
       "    <tr>\n",
       "      <th>1</th>\n",
       "      <td>2</td>\n",
       "      <td>patients husband ret name spouse for other pat...</td>\n",
       "    </tr>\n",
       "    <tr>\n",
       "      <th>2</th>\n",
       "      <td>3</td>\n",
       "      <td>fyi in his szs mom other he has an appointment...</td>\n",
       "    </tr>\n",
       "    <tr>\n",
       "      <th>3</th>\n",
       "      <td>4</td>\n",
       "      <td>Rx refill drugname from pharmacy name reason f...</td>\n",
       "    </tr>\n",
       "    <tr>\n",
       "      <th>4</th>\n",
       "      <td>5</td>\n",
       "      <td>need more time for testing dad is requesting a...</td>\n",
       "    </tr>\n",
       "  </tbody>\n",
       "</table>\n",
       "</div>"
      ],
      "text/plain": [
       "   id                                           converse\n",
       "0   1  request to speak with rn no given patients ref...\n",
       "1   2  patients husband ret name spouse for other pat...\n",
       "2   3  fyi in his szs mom other he has an appointment...\n",
       "3   4  Rx refill drugname from pharmacy name reason f...\n",
       "4   5  need more time for testing dad is requesting a..."
      ]
     },
     "execution_count": 63,
     "metadata": {},
     "output_type": "execute_result"
    }
   ],
   "source": [
    "Data_Test.head()"
   ]
  },
  {
   "cell_type": "code",
   "execution_count": 64,
   "metadata": {
    "colab": {
     "base_uri": "https://localhost:8080/",
     "height": 34
    },
    "colab_type": "code",
    "id": "h6oqMJkQY9jO",
    "outputId": "a5fc9077-71a1-44aa-f5d5-5a0a768d482c"
   },
   "outputs": [
    {
     "data": {
      "text/plain": [
       "(48699, 2)"
      ]
     },
     "execution_count": 64,
     "metadata": {},
     "output_type": "execute_result"
    }
   ],
   "source": [
    "Data.shape"
   ]
  },
  {
   "cell_type": "markdown",
   "metadata": {},
   "source": [
    "### Checking for Na's and Removing Na's"
   ]
  },
  {
   "cell_type": "code",
   "execution_count": 68,
   "metadata": {
    "colab": {},
    "colab_type": "code",
    "collapsed": true,
    "id": "oG2dyefjY9ja"
   },
   "outputs": [],
   "source": [
    "def remove_nas(ds):\n",
    "    print(ds.shape)\n",
    "    mis_val = ds.isnull().sum()\n",
    "    print(mis_val)\n",
    "    ds.dropna(inplace=True)\n",
    "    print(ds.shape)\n",
    "    print(ds.info())"
   ]
  },
  {
   "cell_type": "code",
   "execution_count": 69,
   "metadata": {
    "colab": {
     "base_uri": "https://localhost:8080/",
     "height": 238
    },
    "colab_type": "code",
    "id": "HJ1i1cH2Y9jh",
    "outputId": "ec553a58-41d3-4221-dc7d-0605a6f5cee7"
   },
   "outputs": [
    {
     "name": "stdout",
     "output_type": "stream",
     "text": [
      "(48699, 2)\n",
      "categories     0\n",
      "converse      32\n",
      "dtype: int64\n",
      "(48667, 2)\n",
      "<class 'pandas.core.frame.DataFrame'>\n",
      "Int64Index: 48667 entries, 0 to 48698\n",
      "Data columns (total 2 columns):\n",
      "categories    48667 non-null int32\n",
      "converse      48667 non-null object\n",
      "dtypes: int32(1), object(1)\n",
      "memory usage: 950.5+ KB\n",
      "None\n"
     ]
    }
   ],
   "source": [
    "remove_nas(Data)"
   ]
  },
  {
   "cell_type": "code",
   "execution_count": 70,
   "metadata": {
    "colab": {
     "base_uri": "https://localhost:8080/",
     "height": 238
    },
    "colab_type": "code",
    "id": "zJ04TzMBY9js",
    "outputId": "e9b95c93-0462-4a81-cc4c-e3415c5830df"
   },
   "outputs": [
    {
     "name": "stdout",
     "output_type": "stream",
     "text": [
      "(8581, 2)\n",
      "id          0\n",
      "converse    4\n",
      "dtype: int64\n",
      "(8577, 2)\n",
      "<class 'pandas.core.frame.DataFrame'>\n",
      "Int64Index: 8577 entries, 0 to 8580\n",
      "Data columns (total 2 columns):\n",
      "id          8577 non-null int64\n",
      "converse    8577 non-null object\n",
      "dtypes: int64(1), object(1)\n",
      "memory usage: 201.0+ KB\n",
      "None\n"
     ]
    }
   ],
   "source": [
    "remove_nas(Data_Test)"
   ]
  },
  {
   "cell_type": "markdown",
   "metadata": {},
   "source": [
    "### Checking For Unique Categories"
   ]
  },
  {
   "cell_type": "code",
   "execution_count": 71,
   "metadata": {
    "colab": {
     "base_uri": "https://localhost:8080/",
     "height": 187
    },
    "colab_type": "code",
    "id": "sXqM1HamY9j1",
    "outputId": "d7f27fd5-e744-48a4-c876-00d9ce636e0e"
   },
   "outputs": [
    {
     "data": {
      "text/plain": [
       "array([13,  8,  9,  7, 18, 15, 10, 16, 20,  6,  4, 11,  3, 19, 14, 17,  0,\n",
       "        2, 12,  5,  1], dtype=int64)"
      ]
     },
     "execution_count": 71,
     "metadata": {},
     "output_type": "execute_result"
    }
   ],
   "source": [
    "Data['categories'].unique()"
   ]
  },
  {
   "cell_type": "code",
   "execution_count": 72,
   "metadata": {
    "colab": {
     "base_uri": "https://localhost:8080/",
     "height": 509
    },
    "colab_type": "code",
    "id": "Op1gcrBeY9j9",
    "outputId": "2cdaff47-ac82-4c34-debf-53e02c5f617b"
   },
   "outputs": [
    {
     "data": {
      "image/png": "[encoded data removed]",
      "text/plain": [
       "<Figure size 720x288 with 1 Axes>"
      ]
     },
     "metadata": {
      "needs_background": "light"
     },
     "output_type": "display_data"
    }
   ],
   "source": [
    "my_tags =['QUERIES FROM PHARMACY', 'NEW APPOINTMENT', 'OTHERS',\n",
    "       'MEDICATION RELATED',\n",
    "       'SHARING OF HEALTH RECORDS (FAX, E-MAIL, ETC.)', 'REFILL',\n",
    "       'PRIOR AUTHORIZATION', 'RESCHEDULING', 'SYMPTOMS', 'LAB RESULTS',\n",
    "       'FOLLOW UP ON PREVIOUS REQUEST', 'PROVIDER', 'CHANGE OF PROVIDER',\n",
    "       'SHARING OF LAB RECORDS (FAX, E-MAIL, ETC.)',\n",
    "       'QUERY ON CURRENT APPOINTMENT', 'RUNNING LATE TO APPOINTMENT',\n",
    "       'CANCELLATION', 'CHANGE OF PHARMACY',\n",
    "       'QUERIES FROM INSURANCE FIRM', 'JUNK', 'CHANGE OF HOSPITAL']\n",
    "plt.figure(figsize=(10,4))\n",
    "Data.categories.value_counts().plot(kind='bar');"
   ]
  },
  {
   "cell_type": "markdown",
   "metadata": {},
   "source": [
    "### Label Encoding"
   ]
  },
  {
   "cell_type": "code",
   "execution_count": 73,
   "metadata": {
    "colab": {},
    "colab_type": "code",
    "collapsed": true,
    "id": "gIXQtnNqY9kH"
   },
   "outputs": [],
   "source": [
    "from sklearn.preprocessing import LabelEncoder\n",
    "labelencoder = LabelEncoder()\n",
    "Data['categories'] = labelencoder.fit_transform(Data['categories'])"
   ]
  },
  {
   "cell_type": "markdown",
   "metadata": {},
   "source": [
    "### Stop Words Removal"
   ]
  },
  {
   "cell_type": "code",
   "execution_count": 74,
   "metadata": {},
   "outputs": [
    {
     "data": {
      "text/plain": [
       "0    please verify instructions drugname patients w...\n",
       "1    lmovm patients mother schd rov tracy dominguez...\n",
       "2    labtype insurance approval incoming name lpn c...\n",
       "3    clinical list changes medfusion secure electro...\n",
       "4    wants wean medication work phone name dad pati...\n",
       "Name: converse, dtype: object"
      ]
     },
     "execution_count": 74,
     "metadata": {},
     "output_type": "execute_result"
    }
   ],
   "source": [
    "#Remove stop words\n",
    "from nltk.corpus import stopwords\n",
    "stop = stopwords.words('english')\n",
    "Data['converse'] = Data['converse'].apply(lambda x: \" \".join(x for x in x.split() if x not in stop))\n",
    "Data['converse'].head()"
   ]
  },
  {
   "cell_type": "code",
   "execution_count": 76,
   "metadata": {
    "colab": {
     "base_uri": "https://localhost:8080/",
     "height": 51
    },
    "colab_type": "code",
    "id": "0m-40lUZY9kO",
    "outputId": "eb2cb032-3d00-43bc-903e-24e75962d22f"
   },
   "outputs": [
    {
     "data": {
      "text/plain": [
       "array([13,  8,  9,  7, 18, 15, 10, 16, 20,  6,  4, 11,  3, 19, 14, 17,  0,\n",
       "        2, 12,  5,  1], dtype=int64)"
      ]
     },
     "execution_count": 76,
     "metadata": {},
     "output_type": "execute_result"
    }
   ],
   "source": [
    "Data['categories'].unique()"
   ]
  },
  {
   "cell_type": "code",
   "execution_count": 14,
   "metadata": {
    "colab": {},
    "colab_type": "code",
    "collapsed": true,
    "id": "D02Qhg7nY9kU"
   },
   "outputs": [],
   "source": [
    "#Total 20 Categories"
   ]
  },
  {
   "cell_type": "code",
   "execution_count": 15,
   "metadata": {
    "colab": {
     "base_uri": "https://localhost:8080/",
     "height": 204
    },
    "colab_type": "code",
    "id": "r7sTGzxIY9kY",
    "outputId": "cac011c3-aa52-41df-92a0-e632ebf67bb9"
   },
   "outputs": [
    {
     "data": {
      "text/html": [
       "<div>\n",
       "<style scoped>\n",
       "    .dataframe tbody tr th:only-of-type {\n",
       "        vertical-align: middle;\n",
       "    }\n",
       "\n",
       "    .dataframe tbody tr th {\n",
       "        vertical-align: top;\n",
       "    }\n",
       "\n",
       "    .dataframe thead th {\n",
       "        text-align: right;\n",
       "    }\n",
       "</style>\n",
       "<table border=\"1\" class=\"dataframe\">\n",
       "  <thead>\n",
       "    <tr style=\"text-align: right;\">\n",
       "      <th></th>\n",
       "      <th>categories</th>\n",
       "      <th>converse</th>\n",
       "    </tr>\n",
       "  </thead>\n",
       "  <tbody>\n",
       "    <tr>\n",
       "      <th>0</th>\n",
       "      <td>13</td>\n",
       "      <td>please verify instructions drugname patients w...</td>\n",
       "    </tr>\n",
       "    <tr>\n",
       "      <th>1</th>\n",
       "      <td>8</td>\n",
       "      <td>lmovm patients mother schd rov tracy dominguez...</td>\n",
       "    </tr>\n",
       "    <tr>\n",
       "      <th>2</th>\n",
       "      <td>9</td>\n",
       "      <td>labtype insurance approval incoming name lpn c...</td>\n",
       "    </tr>\n",
       "    <tr>\n",
       "      <th>3</th>\n",
       "      <td>9</td>\n",
       "      <td>clinical list changes medfusion secure electro...</td>\n",
       "    </tr>\n",
       "    <tr>\n",
       "      <th>4</th>\n",
       "      <td>7</td>\n",
       "      <td>wants wean medication work phone name dad pati...</td>\n",
       "    </tr>\n",
       "  </tbody>\n",
       "</table>\n",
       "</div>"
      ],
      "text/plain": [
       "   categories                                           converse\n",
       "0          13  please verify instructions drugname patients w...\n",
       "1           8  lmovm patients mother schd rov tracy dominguez...\n",
       "2           9  labtype insurance approval incoming name lpn c...\n",
       "3           9  clinical list changes medfusion secure electro...\n",
       "4           7  wants wean medication work phone name dad pati..."
      ]
     },
     "execution_count": 15,
     "metadata": {},
     "output_type": "execute_result"
    }
   ],
   "source": [
    "Data.head()"
   ]
  },
  {
   "cell_type": "code",
   "execution_count": 78,
   "metadata": {},
   "outputs": [
    {
     "data": {
      "text/plain": [
       "0    request to speak with rn no given patients ref...\n",
       "1    patients husband ret name spouse for other pat...\n",
       "2    fyi in his szs mom other he has an appointment...\n",
       "3    Rx refill drugname from pharmacy name reason f...\n",
       "4    need more time for testing dad is requesting a...\n",
       "Name: converse, dtype: object"
      ]
     },
     "execution_count": 78,
     "metadata": {},
     "output_type": "execute_result"
    }
   ],
   "source": [
    "Data_Test_converse = Data_Test['converse']\n",
    "Data_Test_converse.head()"
   ]
  },
  {
   "cell_type": "code",
   "execution_count": 17,
   "metadata": {},
   "outputs": [
    {
     "name": "stdout",
     "output_type": "stream",
     "text": [
      "(8577,)\n",
      "<class 'pandas.core.series.Series'>\n"
     ]
    }
   ],
   "source": [
    "Data_Test_converse.head()\n",
    "print(Data_Test_converse.shape)\n",
    "print(type(Data_Test_converse))"
   ]
  },
  {
   "cell_type": "markdown",
   "metadata": {},
   "source": [
    "### Dividing the Data to docs and Labels"
   ]
  },
  {
   "cell_type": "code",
   "execution_count": 18,
   "metadata": {
    "colab": {},
    "colab_type": "code",
    "collapsed": true,
    "id": "O2tDZy4_Y9kc"
   },
   "outputs": [],
   "source": [
    "# define documents\n",
    "docs = []\n",
    "labels =[]\n",
    "docs_Test =[]\n",
    "for row in Data['converse']:\n",
    "    docs.append(row)\n",
    "for row_1 in Data['categories']:\n",
    "    labels.append(row_1)\n",
    "for row_t in Data_Test_converse:\n",
    "    docs_Test.append(row)"
   ]
  },
  {
   "cell_type": "code",
   "execution_count": 19,
   "metadata": {
    "colab": {
     "base_uri": "https://localhost:8080/",
     "height": 71
    },
    "colab_type": "code",
    "id": "Dj8cU9B2Y9kg",
    "outputId": "7643056a-882b-4ed3-a81a-4fefc7ddaf48"
   },
   "outputs": [
    {
     "name": "stdout",
     "output_type": "stream",
     "text": [
      "['please verify instructions drugname patients wi pharmacy target reason call details please verify instructions drugname patients picking Rx timephrase clarified Rx pharmacy lisa gilligan rn', 'lmovm patients mother schd rov tracy dominguez kellee currie pm rhonda fanning', 'labtype insurance approval incoming name lpn clinical review cigna reason call details inform enough information provided patients approved home labtype whitney fax need filled sent questions please whintey rna follow routed wendy upchurch lisa mohamed rn auth obtained routed sleep schedulers tammy byrd fyi wendy upchurch clinical list changes', 'clinical list changes medfusion secure electronic message subject genetic testing hello jennifer wanted update stand far genetic testing concerned working building standard order testing testing administered ground floor building next door seen today contact order sent able obtain cost estimate look forward speaking soon angela cma end message body route responses ansmith notify read failure notice days message queued notanimer timephrase', 'wants wean medication work phone name dad patients dad request sw rn discuss patients care timephrase pm lmtcb regarding dad question timephrase pm lmtcb x patient dad asking patients could weaned medicine since last seizure months ago patients currently taken lamictal mg tab tabs pm hoping try weaning patients since school summer provider notified timephrase pm would suggest arrange sleep deprived labtype make sure truly outgrown order done promptly meet seen discuss weaning medication md timephrase pm dad says please order labtype provider notified timephrase']\n",
      "[13, 8, 9, 9, 7]\n",
      "0    request to speak with rn no given patients ref...\n",
      "1    patients husband ret name spouse for other pat...\n",
      "2    fyi in his szs mom other he has an appointment...\n",
      "3    Rx refill drugname from pharmacy name reason f...\n",
      "4    need more time for testing dad is requesting a...\n",
      "Name: converse, dtype: object\n"
     ]
    }
   ],
   "source": [
    "print(docs[0:5])\n",
    "print(labels[0:5])\n",
    "print(Data_Test_converse[0:5])"
   ]
  },
  {
   "cell_type": "code",
   "execution_count": 20,
   "metadata": {},
   "outputs": [
    {
     "data": {
      "text/plain": [
       "48667"
      ]
     },
     "execution_count": 20,
     "metadata": {},
     "output_type": "execute_result"
    }
   ],
   "source": [
    "maxlength = len(Data.converse)\n",
    "maxlength"
   ]
  },
  {
   "cell_type": "markdown",
   "metadata": {},
   "source": [
    "### Tokeninization"
   ]
  },
  {
   "cell_type": "code",
   "execution_count": 21,
   "metadata": {
    "colab": {
     "base_uri": "https://localhost:8080/",
     "height": 34
    },
    "colab_type": "code",
    "id": "0-U1I5Q8Y9kx",
    "outputId": "1f46aa1a-5367-4945-bb60-c0b308ed369f"
   },
   "outputs": [
    {
     "name": "stdout",
     "output_type": "stream",
     "text": [
      "35607\n"
     ]
    }
   ],
   "source": [
    "# Prepare tokenizer\n",
    "t = Tokenizer()\n",
    "t.fit_on_texts(docs)\n",
    "#t1.fit_on_texts(docs_Test)\n",
    "#print (t.word_index)\n",
    "\n",
    "vocab_size = len(t.word_index) + 1\n",
    "#vocab_size1 = len(t1.word_index) + 1\n",
    "print (vocab_size)\n",
    "#print (vocab_size1)"
   ]
  },
  {
   "cell_type": "code",
   "execution_count": 81,
   "metadata": {},
   "outputs": [
    {
     "data": {
      "text/plain": [
       "{'patients': 1,\n",
       " 'patient': 2,\n",
       " 'timephrase': 3,\n",
       " 'mg': 4,\n",
       " 'rn': 5,\n",
       " 'drugname': 6,\n",
       " 'please': 7,\n",
       " 'rx': 8,\n",
       " 'rna': 9,\n",
       " 'labtype': 10,\n",
       " 'pm': 11,\n",
       " 'follow': 12,\n",
       " 'appointment': 13,\n",
       " 'po': 14,\n",
       " 'mom': 15,\n",
       " 'tabs': 16,\n",
       " 'md': 17,\n",
       " 'clinical': 18,\n",
       " 'doctor': 19,\n",
       " 'list': 20,\n",
       " 'changes': 21,\n",
       " 'x': 22,\n",
       " 'would': 23,\n",
       " 'name': 24,\n",
       " 'phone': 25,\n",
       " 'message': 26,\n",
       " 'pharmacy': 27,\n",
       " 'authorized': 28,\n",
       " 'entered': 29,\n",
       " 'medication': 30,\n",
       " 'prescription': 31,\n",
       " 'states': 32,\n",
       " 'like': 33,\n",
       " 'refill': 34,\n",
       " 'completed': 35,\n",
       " 'advise': 36,\n",
       " 'fax': 37,\n",
       " 'new': 38,\n",
       " 'back': 39,\n",
       " 'schedule': 40,\n",
       " 'request': 41,\n",
       " 'medications': 42,\n",
       " 'updated': 43,\n",
       " 'tab': 44,\n",
       " 'sent': 45,\n",
       " 'results': 46,\n",
       " 'needs': 47,\n",
       " 'know': 48,\n",
       " 'spoke': 49,\n",
       " 'last': 50,\n",
       " 'pain': 51,\n",
       " 'order': 52,\n",
       " 'signed': 53,\n",
       " 'prior': 54,\n",
       " 'see': 55,\n",
       " 'prn': 56,\n",
       " 'details': 57,\n",
       " 'need': 58,\n",
       " 'take': 59,\n",
       " 'give': 60,\n",
       " 'rov': 61,\n",
       " 'scheduled': 62,\n",
       " 'time': 63,\n",
       " 'authorization': 64,\n",
       " 'days': 65,\n",
       " 'lpn': 66,\n",
       " 'understanding': 67,\n",
       " 'medicines': 68,\n",
       " 'provider': 69,\n",
       " 'hcl': 70,\n",
       " 'q': 71,\n",
       " 'wants': 72,\n",
       " 'get': 73,\n",
       " 'office': 74,\n",
       " 'discuss': 75,\n",
       " 'w': 76,\n",
       " 'appointments': 77,\n",
       " 'work': 78,\n",
       " 'note': 79,\n",
       " 'instructions': 80,\n",
       " 'notified': 81,\n",
       " 'says': 82,\n",
       " 'call': 83,\n",
       " 'faxed': 84,\n",
       " 'verbalized': 85,\n",
       " 'bid': 86,\n",
       " 'print': 87,\n",
       " 'per': 88,\n",
       " 'reason': 89,\n",
       " 'also': 90,\n",
       " 'day': 91,\n",
       " 'one': 92,\n",
       " 'fill': 93,\n",
       " 'electronically': 94,\n",
       " 'nc': 95,\n",
       " 'used': 96,\n",
       " 'ph': 97,\n",
       " 'lisa': 98,\n",
       " 'ok': 99,\n",
       " 'medfusion': 100,\n",
       " 'left': 101,\n",
       " 'oral': 102,\n",
       " 'np': 103,\n",
       " 'prescriptions': 104,\n",
       " 'next': 105,\n",
       " 'orders': 106,\n",
       " 'referral': 107,\n",
       " 'information': 108,\n",
       " 'week': 109,\n",
       " 'raleigh': 110,\n",
       " 'id': 111,\n",
       " 'changed': 112,\n",
       " 'needed': 113,\n",
       " 'nurse': 114,\n",
       " 'mary': 115,\n",
       " 'hours': 116,\n",
       " 'since': 117,\n",
       " 'sleep': 118,\n",
       " 'requesting': 119,\n",
       " 'seen': 120,\n",
       " 'tablet': 121,\n",
       " 'subject': 122,\n",
       " 'method': 123,\n",
       " 'told': 124,\n",
       " 'clinic': 125,\n",
       " 'caps': 126,\n",
       " 'doctype': 127,\n",
       " 'send': 128,\n",
       " 'notify': 129,\n",
       " 'stated': 130,\n",
       " 'form': 131,\n",
       " 'home': 132,\n",
       " 'letter': 133,\n",
       " 'visit': 134,\n",
       " 'go': 135,\n",
       " 'read': 136,\n",
       " 'done': 137,\n",
       " 'regarding': 138,\n",
       " 'cb': 139,\n",
       " 'taking': 140,\n",
       " 'p': 141,\n",
       " 'advised': 142,\n",
       " 'let': 143,\n",
       " 'qhs': 144,\n",
       " 'linda': 145,\n",
       " 'records': 146,\n",
       " 'spouse': 147,\n",
       " 'contact': 148,\n",
       " 'could': 149,\n",
       " 'pcp': 150,\n",
       " 'end': 151,\n",
       " 'electronic': 152,\n",
       " 'secure': 153,\n",
       " 'body': 154,\n",
       " 'clark': 155,\n",
       " 'due': 156,\n",
       " 'thanks': 157,\n",
       " 'still': 158,\n",
       " 'dose': 159,\n",
       " 'said': 160,\n",
       " 'insurance': 161,\n",
       " 'come': 162,\n",
       " 'xrh': 163,\n",
       " 'notes': 164,\n",
       " 'questions': 165,\n",
       " 'code': 166,\n",
       " 'daughter': 167,\n",
       " 'jennifer': 168,\n",
       " 'denny': 169,\n",
       " 'date': 170,\n",
       " 'status': 171,\n",
       " 'pamela': 172,\n",
       " 'tid': 173,\n",
       " 'informed': 174,\n",
       " 'cook': 175,\n",
       " 'placed': 176,\n",
       " 'xr': 177,\n",
       " 'must': 178,\n",
       " 'er': 179,\n",
       " 'member': 180,\n",
       " 'pick': 181,\n",
       " 'another': 182,\n",
       " 'received': 183,\n",
       " 'ms': 184,\n",
       " 'thank': 185,\n",
       " 'increase': 186,\n",
       " 'rxid': 187,\n",
       " 'care': 188,\n",
       " 'richardson': 189,\n",
       " 'daily': 190,\n",
       " 'type': 191,\n",
       " 'dad': 192,\n",
       " 'wanted': 193,\n",
       " 'triage': 194,\n",
       " 'try': 195,\n",
       " 'marcia': 196,\n",
       " 'added': 197,\n",
       " 'queued': 198,\n",
       " 'given': 199,\n",
       " 'headache': 200,\n",
       " 'testing': 201,\n",
       " 'going': 202,\n",
       " 'cma': 203,\n",
       " 'ha': 204,\n",
       " 'speak': 205,\n",
       " 'wife': 206,\n",
       " 'lm': 207,\n",
       " 'lov': 208,\n",
       " 'number': 209,\n",
       " 'report': 210,\n",
       " 'gina': 211,\n",
       " 'gave': 212,\n",
       " 'well': 213,\n",
       " 'hydrocodone': 214,\n",
       " 'make': 215,\n",
       " 'want': 216,\n",
       " 'lab': 217,\n",
       " 'methylphenidate': 218,\n",
       " 'weeks': 219,\n",
       " 'comments': 220,\n",
       " 'able': 221,\n",
       " 'check': 222,\n",
       " 'mail': 223,\n",
       " 'school': 224,\n",
       " 'us': 225,\n",
       " 'oxycodone': 226,\n",
       " 'portal': 227,\n",
       " 'refills': 228,\n",
       " 'vm': 229,\n",
       " 'chart': 230,\n",
       " 'migraine': 231,\n",
       " 'night': 232,\n",
       " 'side': 233,\n",
       " 'spivey': 234,\n",
       " 'auth': 235,\n",
       " 'change': 236,\n",
       " 'hold': 237,\n",
       " 'asked': 238,\n",
       " 'description': 239,\n",
       " 'qam': 240,\n",
       " 'maureen': 241,\n",
       " 'built': 242,\n",
       " 'return': 243,\n",
       " 'ashley': 244,\n",
       " 'gonzales': 245,\n",
       " 'morton': 246,\n",
       " 'keppra': 247,\n",
       " 'started': 248,\n",
       " 'sure': 249,\n",
       " 'help': 250,\n",
       " 'adderall': 251,\n",
       " 'beal': 252,\n",
       " 'getting': 253,\n",
       " 'bc': 254,\n",
       " 'brittany': 255,\n",
       " 'family': 256,\n",
       " 'joyce': 257,\n",
       " 'nicole': 258,\n",
       " 'following': 259,\n",
       " 'month': 260,\n",
       " 'copy': 261,\n",
       " 'brain': 262,\n",
       " 'ml': 263,\n",
       " 'possible': 264,\n",
       " 'printed': 265,\n",
       " 'route': 266,\n",
       " 'cvs': 267,\n",
       " 'qd': 268,\n",
       " 'pages': 269,\n",
       " 'cpap': 270,\n",
       " 'taylor': 271,\n",
       " 'wake': 272,\n",
       " 'long': 273,\n",
       " 'labs': 274,\n",
       " 'pt': 275,\n",
       " 'mp': 276,\n",
       " 'asking': 277,\n",
       " 'lamictal': 278,\n",
       " 'transmission': 279,\n",
       " 'responses': 280,\n",
       " 'level': 281,\n",
       " 'start': 282,\n",
       " 'medical': 283,\n",
       " 'iov': 284,\n",
       " 'noted': 285,\n",
       " 'biscom': 286,\n",
       " 'adult': 287,\n",
       " 'schwartz': 288,\n",
       " 'unable': 289,\n",
       " 'reschedule': 290,\n",
       " 'returned': 291,\n",
       " 'seizure': 292,\n",
       " 'pharmacist': 293,\n",
       " 'notice': 294,\n",
       " 'kellee': 295,\n",
       " 'cancel': 296,\n",
       " 'okay': 297,\n",
       " 'keep': 298,\n",
       " 'incoming': 299,\n",
       " 'requested': 300,\n",
       " 'rhonda': 301,\n",
       " 'minutes': 302,\n",
       " 'holly': 303,\n",
       " 'mohamed': 304,\n",
       " 'failure': 305,\n",
       " 'result': 306,\n",
       " 'times': 307,\n",
       " 'rxs': 308,\n",
       " 'walgreens': 309,\n",
       " 'ask': 310,\n",
       " 'rs': 311,\n",
       " 'normal': 312,\n",
       " 'cr': 313,\n",
       " 'admin': 314,\n",
       " 'anp': 315,\n",
       " 'script': 316,\n",
       " 'use': 317,\n",
       " 'doesnt': 318,\n",
       " 'duke': 319,\n",
       " 'confirm': 320,\n",
       " 'shes': 321,\n",
       " 'hs': 322,\n",
       " 'explained': 323,\n",
       " 'aware': 324,\n",
       " 'valerie': 325,\n",
       " 'add': 326,\n",
       " 'right': 327,\n",
       " 'clld': 328,\n",
       " 'stating': 329,\n",
       " 'available': 330,\n",
       " 'continue': 331,\n",
       " 'currie': 332,\n",
       " 'made': 333,\n",
       " 'supply': 334,\n",
       " 'symptoms': 335,\n",
       " 'sz': 336,\n",
       " 'sw': 337,\n",
       " 'gilligan': 338,\n",
       " 'hospital': 339,\n",
       " 'talk': 340,\n",
       " 'discussed': 341,\n",
       " 'rex': 342,\n",
       " 'first': 343,\n",
       " 'update': 344,\n",
       " 'talked': 345,\n",
       " 'vu': 346,\n",
       " 'increased': 347,\n",
       " 'ready': 348,\n",
       " 'anything': 349,\n",
       " 'ov': 350,\n",
       " 'currently': 351,\n",
       " 'severe': 352,\n",
       " 'issues': 353,\n",
       " 'retail': 354,\n",
       " 'via': 355,\n",
       " 'stacy': 356,\n",
       " 'jones': 357,\n",
       " 'brown': 358,\n",
       " 'head': 359,\n",
       " 'past': 360,\n",
       " 'two': 361,\n",
       " 'mead': 362,\n",
       " 'feels': 363,\n",
       " 'went': 364,\n",
       " 'harry': 365,\n",
       " 'complete': 366,\n",
       " 'file': 367,\n",
       " 'botox': 368,\n",
       " 'release': 369,\n",
       " 'lori': 370,\n",
       " 'injection': 371,\n",
       " 'sign': 372,\n",
       " 'every': 373,\n",
       " 'blood': 374,\n",
       " 'repeat': 375,\n",
       " 'wendy': 376,\n",
       " 'better': 377,\n",
       " 'estep': 378,\n",
       " 'iv': 379,\n",
       " 'headaches': 380,\n",
       " 'filled': 381,\n",
       " 'sooner': 382,\n",
       " 'cheryl': 383,\n",
       " 'address': 384,\n",
       " 'mailed': 385,\n",
       " 'health': 386,\n",
       " 'migraines': 387,\n",
       " 'stop': 388,\n",
       " 'review': 389,\n",
       " 'tried': 390,\n",
       " 'plan': 391,\n",
       " 'arnold': 392,\n",
       " 'susannah': 393,\n",
       " 'didnt': 394,\n",
       " 'samples': 395,\n",
       " 'vyvanse': 396,\n",
       " 'line': 397,\n",
       " 'pdf': 398,\n",
       " 'mgml': 399,\n",
       " 'effects': 400,\n",
       " 'erica': 401,\n",
       " 'find': 402,\n",
       " 'cant': 403,\n",
       " 'upchurch': 404,\n",
       " 'wait': 405,\n",
       " 'working': 406,\n",
       " 'drug': 407,\n",
       " 'com': 408,\n",
       " 'months': 409,\n",
       " 'st': 410,\n",
       " 'something': 411,\n",
       " 'forms': 412,\n",
       " 'fyi': 413,\n",
       " 'walker': 414,\n",
       " 'transfer': 415,\n",
       " 'patch': 416,\n",
       " 'waiting': 417,\n",
       " 'seizures': 418,\n",
       " 'th': 419,\n",
       " 'denise': 420,\n",
       " 'already': 421,\n",
       " 'mother': 422,\n",
       " 'set': 423,\n",
       " 'put': 424,\n",
       " 'late': 425,\n",
       " 'ellis': 426,\n",
       " 'taken': 427,\n",
       " 'took': 428,\n",
       " 'eval': 429,\n",
       " 'fine': 430,\n",
       " 'soon': 431,\n",
       " 'durham': 432,\n",
       " 'stewart': 433,\n",
       " 'removed': 434,\n",
       " 'adams': 435,\n",
       " 'job': 436,\n",
       " 'brand': 437,\n",
       " 'rd': 438,\n",
       " 'white': 439,\n",
       " 'written': 440,\n",
       " 'gilenya': 441,\n",
       " 'returning': 442,\n",
       " 'hipaa': 443,\n",
       " 'tisha': 444,\n",
       " 'lay': 445,\n",
       " 'case': 446,\n",
       " 'dont': 447,\n",
       " 'lmtcb': 448,\n",
       " 'yes': 449,\n",
       " 'ordered': 450,\n",
       " 'got': 451,\n",
       " 'r': 452,\n",
       " 'treatment': 453,\n",
       " 'jethro': 454,\n",
       " 'fuv': 455,\n",
       " 'deese': 456,\n",
       " 'ago': 457,\n",
       " 'barg': 458,\n",
       " 'wo': 459,\n",
       " 'approved': 460,\n",
       " 'virginia': 461,\n",
       " 'husband': 462,\n",
       " 'co': 463,\n",
       " 'concerns': 464,\n",
       " 'worse': 465,\n",
       " 'lyons': 466,\n",
       " 'concussion': 467,\n",
       " 'approval': 468,\n",
       " 'think': 469,\n",
       " 'b': 470,\n",
       " 'j': 471,\n",
       " 'schd': 472,\n",
       " 'reports': 473,\n",
       " 'hollie': 474,\n",
       " 'asap': 475,\n",
       " 'mriradiology': 476,\n",
       " 'depakote': 477,\n",
       " 'attached': 478,\n",
       " 'seconds': 479,\n",
       " 'cannot': 480,\n",
       " 'son': 481,\n",
       " 'takes': 482,\n",
       " 'good': 483,\n",
       " 'brandy': 484,\n",
       " 'saltis': 485,\n",
       " 'concerned': 486,\n",
       " 'namenda': 487,\n",
       " 'successful': 488,\n",
       " 'question': 489,\n",
       " 'prescribed': 490,\n",
       " 'rate': 491,\n",
       " 'explanation': 492,\n",
       " 'yet': 493,\n",
       " 'stacey': 494,\n",
       " 'esi': 495,\n",
       " 'cap': 496,\n",
       " 'therapy': 497,\n",
       " 'inform': 498,\n",
       " 'starnes': 499,\n",
       " 'iii': 500,\n",
       " 'c': 501,\n",
       " 'aid': 502,\n",
       " 'recent': 503,\n",
       " 'erin': 504,\n",
       " 'mo': 505,\n",
       " 'paperwork': 506,\n",
       " 'maloney': 507,\n",
       " 'center': 508,\n",
       " 'around': 509,\n",
       " 'recipient': 510,\n",
       " 'retry': 511,\n",
       " 'pky': 512,\n",
       " 'numbness': 513,\n",
       " 'year': 514,\n",
       " 'connect': 515,\n",
       " 'much': 516,\n",
       " 'leave': 517,\n",
       " 'generic': 518,\n",
       " 'answer': 519,\n",
       " 'nd': 520,\n",
       " 'transmit': 521,\n",
       " 'fnp': 522,\n",
       " 'ed': 523,\n",
       " 'inc': 524,\n",
       " 'current': 525,\n",
       " 'norris': 526,\n",
       " 'rite': 527,\n",
       " 'amphetamine': 528,\n",
       " 'early': 529,\n",
       " 'problems': 530,\n",
       " 'smf': 531,\n",
       " 'dx': 532,\n",
       " 'email': 533,\n",
       " 'ref': 534,\n",
       " 'topiramate': 535,\n",
       " 'capsule': 536,\n",
       " 'without': 537,\n",
       " 'attachments': 538,\n",
       " 'surgery': 539,\n",
       " 'sunday': 540,\n",
       " 'msg': 541,\n",
       " 'treat': 542,\n",
       " 'high': 543,\n",
       " 'maxalt': 544,\n",
       " 'count': 545,\n",
       " 'server': 546,\n",
       " 'scripts': 547,\n",
       " 'pending': 548,\n",
       " 'really': 549,\n",
       " 'sulfate': 550,\n",
       " 'unique': 551,\n",
       " 'shed': 552,\n",
       " 'neck': 553,\n",
       " 'smtpfaxq': 554,\n",
       " 'product': 555,\n",
       " 'lmovm': 556,\n",
       " 'assoc': 557,\n",
       " 'l': 558,\n",
       " 'ct': 559,\n",
       " 'someone': 560,\n",
       " 'httpwww': 561,\n",
       " 'lyrica': 562,\n",
       " 'feeling': 563,\n",
       " 'related': 564,\n",
       " 'cancelled': 565,\n",
       " 'wilson': 566,\n",
       " 'kmc': 567,\n",
       " 'bring': 568,\n",
       " 'problem': 569,\n",
       " 'later': 570,\n",
       " 'trying': 571,\n",
       " 'feel': 572,\n",
       " 'h': 573,\n",
       " 'cary': 574,\n",
       " 'prednisone': 575,\n",
       " 'hard': 576,\n",
       " 'bad': 577,\n",
       " 'procedure': 578,\n",
       " 'confirmed': 579,\n",
       " 'previous': 580,\n",
       " 'requests': 581,\n",
       " 'verbal': 582,\n",
       " 'else': 583,\n",
       " 'different': 584,\n",
       " 'starting': 585,\n",
       " 'scheduling': 586,\n",
       " 'mauldin': 587,\n",
       " 'mouth': 588,\n",
       " 'jacqueline': 589,\n",
       " 'tracy': 590,\n",
       " 'leg': 591,\n",
       " 'ginger': 592,\n",
       " 'missed': 593,\n",
       " 'atp': 594,\n",
       " 'stopped': 595,\n",
       " 'nausea': 596,\n",
       " 'soln': 597,\n",
       " 'voiced': 598,\n",
       " 'advises': 599,\n",
       " 'way': 600,\n",
       " 'pills': 601,\n",
       " 'onset': 602,\n",
       " 'never': 603,\n",
       " 'drive': 604,\n",
       " 'established': 605,\n",
       " 'recommend': 606,\n",
       " 'fentanyl': 607,\n",
       " 'gower': 608,\n",
       " 'lp': 609,\n",
       " 'hasnt': 610,\n",
       " 'sodium': 611,\n",
       " 'dosage': 612,\n",
       " 'mliform': 613,\n",
       " 'tonya': 614,\n",
       " 'mri': 615,\n",
       " 'qid': 616,\n",
       " 'unspecified': 617,\n",
       " 'longer': 618,\n",
       " 'carroll': 619,\n",
       " 'hr': 620,\n",
       " 'unc': 621,\n",
       " 'running': 622,\n",
       " 'lvm': 623,\n",
       " 'rowley': 624,\n",
       " 'came': 625,\n",
       " 'anxiety': 626,\n",
       " 'earlier': 627,\n",
       " 'qhrs': 628,\n",
       " 'thinks': 629,\n",
       " 'twice': 630,\n",
       " 'max': 631,\n",
       " 'company': 632,\n",
       " 'eye': 633,\n",
       " 'green': 634,\n",
       " 'pa': 635,\n",
       " 'disability': 636,\n",
       " 'injections': 637,\n",
       " 'hes': 638,\n",
       " 'referred': 639,\n",
       " 'coming': 640,\n",
       " 'worked': 641,\n",
       " 'diazepam': 642,\n",
       " 'express': 643,\n",
       " 'card': 644,\n",
       " 'hrs': 645,\n",
       " 'min': 646,\n",
       " 'ritalin': 647,\n",
       " 'foreman': 648,\n",
       " 'reach': 649,\n",
       " 'write': 650,\n",
       " 'multiple': 651,\n",
       " 'dhe': 652,\n",
       " 'bcbs': 653,\n",
       " 'dizziness': 654,\n",
       " 'tablets': 655,\n",
       " 'contrast': 656,\n",
       " 'marisol': 657,\n",
       " 'saw': 658,\n",
       " 'today': 659,\n",
       " 'denied': 660,\n",
       " 'aricept': 661,\n",
       " 'trileptal': 662,\n",
       " 'caremark': 663,\n",
       " 'store': 664,\n",
       " 'issue': 665,\n",
       " 'patientp': 666,\n",
       " 'state': 667,\n",
       " 'correct': 668,\n",
       " 'response': 669,\n",
       " 'concerta': 670,\n",
       " 'vitamin': 671,\n",
       " 'medicine': 672,\n",
       " 'ambien': 673,\n",
       " 'im': 674,\n",
       " 'avonex': 675,\n",
       " 'necessary': 676,\n",
       " 'sag': 677,\n",
       " 'approve': 678,\n",
       " 'elig': 679,\n",
       " 'offer': 680,\n",
       " 'seeing': 681,\n",
       " 'reviewed': 682,\n",
       " 'nerve': 683,\n",
       " 'clarify': 684,\n",
       " 'gets': 685,\n",
       " 'listed': 686,\n",
       " 'relpax': 687,\n",
       " 'instead': 688,\n",
       " 'road': 689,\n",
       " 'provided': 690,\n",
       " 'nuvigil': 691,\n",
       " 'verify': 692,\n",
       " 'medically': 693,\n",
       " 'ragland': 694,\n",
       " 'weekend': 695,\n",
       " 'pay': 696,\n",
       " 'bloodwork': 697,\n",
       " 'sx': 698,\n",
       " 'bed': 699,\n",
       " 'appreciative': 700,\n",
       " 'receive': 701,\n",
       " 'fu': 702,\n",
       " 'history': 703,\n",
       " 'ext': 704,\n",
       " 'tell': 705,\n",
       " 'byrd': 706,\n",
       " 'tenex': 707,\n",
       " 'town': 708,\n",
       " 'dominguez': 709,\n",
       " 'low': 710,\n",
       " 'wk': 711,\n",
       " 'amanda': 712,\n",
       " 'spine': 713,\n",
       " 'helping': 714,\n",
       " 'clarification': 715,\n",
       " 'reqs': 716,\n",
       " 'peds': 717,\n",
       " 'rachel': 718,\n",
       " 'away': 719,\n",
       " 'options': 720,\n",
       " 'obtained': 721,\n",
       " 'show': 722,\n",
       " 'experiencing': 723,\n",
       " 'qday': 724,\n",
       " 'pack': 725,\n",
       " 'either': 726,\n",
       " 'vision': 727,\n",
       " 'gabapentin': 728,\n",
       " 'legs': 729,\n",
       " 'record': 730,\n",
       " 'old': 731,\n",
       " 'hull': 732,\n",
       " 'say': 733,\n",
       " 'look': 734,\n",
       " 'offered': 735,\n",
       " 'several': 736,\n",
       " 'proceed': 737,\n",
       " 'rc': 738,\n",
       " 'small': 739,\n",
       " 'norco': 740,\n",
       " 'appts': 741,\n",
       " 'appt': 742,\n",
       " 'area': 743,\n",
       " 'hour': 744,\n",
       " 'checked': 745,\n",
       " 'butalbital': 746,\n",
       " 'alert': 747,\n",
       " 'boyce': 748,\n",
       " 'thru': 749,\n",
       " 'sumatriptan': 750,\n",
       " 'diastat': 751,\n",
       " 'full': 752,\n",
       " 'lisdexamfetamine': 753,\n",
       " 'rescheduled': 754,\n",
       " 'flare': 755,\n",
       " 'dimesylate': 756,\n",
       " 'lvmtcb': 757,\n",
       " 'tartrate': 758,\n",
       " 'increasing': 759,\n",
       " 'renee': 760,\n",
       " 'instructed': 761,\n",
       " 'cvspharmacy': 762,\n",
       " 'process': 763,\n",
       " 'research': 764,\n",
       " 'bin': 765,\n",
       " 'etc': 766,\n",
       " 'e': 767,\n",
       " 'place': 768,\n",
       " 'tx': 769,\n",
       " 'none': 770,\n",
       " 'flag': 771,\n",
       " 'icd': 772,\n",
       " 'thinh': 773,\n",
       " 'confirmation': 774,\n",
       " 'stay': 775,\n",
       " 'dak': 776,\n",
       " 'things': 777,\n",
       " 'enough': 778,\n",
       " 'rice': 779,\n",
       " 'relief': 780,\n",
       " 'using': 781,\n",
       " 'christy': 782,\n",
       " 'dtr': 783,\n",
       " 'faxcom': 784,\n",
       " 'alprazolam': 785,\n",
       " 'little': 786,\n",
       " 'wanting': 787,\n",
       " 'wgf': 788,\n",
       " 'causing': 789,\n",
       " 'facility': 790,\n",
       " 'cpt': 791,\n",
       " 'levetiracetam': 792,\n",
       " 'signs': 793,\n",
       " 'recently': 794,\n",
       " 'heard': 795,\n",
       " 'cambia': 796,\n",
       " 'balance': 797,\n",
       " 'along': 798,\n",
       " 'weakness': 799,\n",
       " 'nothing': 800,\n",
       " 'lot': 801,\n",
       " 'schmidt': 802,\n",
       " 'titration': 803,\n",
       " 'attn': 804,\n",
       " 'agreed': 805,\n",
       " 'lmohamed': 806,\n",
       " 'trokendi': 807,\n",
       " 'wondering': 808,\n",
       " 'even': 809,\n",
       " 'mohamedrn': 810,\n",
       " 'hand': 811,\n",
       " 'smith': 812,\n",
       " 'sleeping': 813,\n",
       " 'fioricet': 814,\n",
       " 'avail': 815,\n",
       " 'driving': 816,\n",
       " 'muscle': 817,\n",
       " 'directed': 818,\n",
       " 'pill': 819,\n",
       " 'quillivant': 820,\n",
       " 'n': 821,\n",
       " 'directions': 822,\n",
       " 'denies': 823,\n",
       " 'concerning': 824,\n",
       " 'jrs': 825,\n",
       " 'upset': 826,\n",
       " 'pressure': 827,\n",
       " 'forward': 828,\n",
       " 'infusion': 829,\n",
       " 'contacted': 830,\n",
       " 'walmart': 831,\n",
       " 'looks': 832,\n",
       " 'mcg': 833,\n",
       " 'open': 834,\n",
       " 'david': 835,\n",
       " 'doses': 836,\n",
       " 'checking': 837,\n",
       " 'felt': 838,\n",
       " 'cd': 839,\n",
       " 'however': 840,\n",
       " 'effect': 841,\n",
       " 'inj': 842,\n",
       " 'matthias': 843,\n",
       " 'general': 844,\n",
       " 'donepezil': 845,\n",
       " 'john': 846,\n",
       " 'diagnosed': 847,\n",
       " 'apply': 848,\n",
       " 'tingling': 849,\n",
       " 'thought': 850,\n",
       " 'isnt': 851,\n",
       " 'move': 852,\n",
       " 'found': 853,\n",
       " 'lmor': 854,\n",
       " 'paper': 855,\n",
       " 'condition': 856,\n",
       " 'maykou': 857,\n",
       " 'arm': 858,\n",
       " 'external': 859,\n",
       " 'arrive': 860,\n",
       " 'couple': 861,\n",
       " 'obtain': 862,\n",
       " 'lamotrigine': 863,\n",
       " 'voicemail': 864,\n",
       " 'stone': 865,\n",
       " 'taper': 866,\n",
       " 'declined': 867,\n",
       " 'advice': 868,\n",
       " 'face': 869,\n",
       " 'kirk': 870,\n",
       " 'evaluation': 871,\n",
       " 'recommended': 872,\n",
       " 'solumedrol': 873,\n",
       " 'clonazepam': 874,\n",
       " 'pkn': 875,\n",
       " 'brooke': 876,\n",
       " 'switch': 877,\n",
       " 'reaction': 878,\n",
       " 'ahead': 879,\n",
       " 'ly': 880,\n",
       " 'aubagio': 881,\n",
       " 'zinn': 882,\n",
       " 'decrease': 883,\n",
       " 'drawn': 884,\n",
       " 'cause': 885,\n",
       " 'pediatric': 886,\n",
       " 'dept': 887,\n",
       " 'saying': 888,\n",
       " 'dmv': 889,\n",
       " 'wont': 890,\n",
       " 'obrien': 891,\n",
       " 'cymbalta': 892,\n",
       " 'mins': 893,\n",
       " 'pre': 894,\n",
       " 'morning': 895,\n",
       " 'scheduler': 896,\n",
       " 'amy': 897,\n",
       " 'clonidine': 898,\n",
       " 'services': 899,\n",
       " 'mirapex': 900,\n",
       " 'short': 901,\n",
       " 'hippa': 902,\n",
       " 'noon': 903,\n",
       " 'attempted': 904,\n",
       " 'cover': 905,\n",
       " 'mask': 906,\n",
       " 'trouble': 907,\n",
       " 'years': 908,\n",
       " 'assistance': 909,\n",
       " 'refer': 910,\n",
       " 'traci': 911,\n",
       " 'urgent': 912,\n",
       " 'might': 913,\n",
       " 'sc': 914,\n",
       " 'recd': 915,\n",
       " 'north': 916,\n",
       " 'point': 917,\n",
       " 'converted': 918,\n",
       " 'associates': 919,\n",
       " 'ret': 920,\n",
       " 'signature': 921,\n",
       " 'falls': 922,\n",
       " 'neuropsych': 923,\n",
       " 'memory': 924,\n",
       " 'klh': 925,\n",
       " 'cost': 926,\n",
       " 'tianna': 927,\n",
       " 'medicaid': 928,\n",
       " 'three': 929,\n",
       " 'desk': 930,\n",
       " 'mcghr': 931,\n",
       " 'drayer': 932,\n",
       " 'unsure': 933,\n",
       " 'sister': 934,\n",
       " 'thats': 935,\n",
       " 'option': 936,\n",
       " 'supposed': 937,\n",
       " 'local': 938,\n",
       " 'rehab': 939,\n",
       " 'arrival': 940,\n",
       " 'walking': 941,\n",
       " 'carolina': 942,\n",
       " 'whether': 943,\n",
       " 'within': 944,\n",
       " 'appeal': 945,\n",
       " 'scanned': 946,\n",
       " 'mike': 947,\n",
       " 'attend': 948,\n",
       " 'james': 949,\n",
       " 'neuro': 950,\n",
       " 'parent': 951,\n",
       " 'emg': 952,\n",
       " 'answering': 953,\n",
       " 'wasnt': 954,\n",
       " 'succinate': 955,\n",
       " 'yr': 956,\n",
       " 'rep': 957,\n",
       " 'refaxed': 958,\n",
       " 'lloyd': 959,\n",
       " 'provide': 960,\n",
       " 'best': 961,\n",
       " 'hx': 962,\n",
       " 'dosing': 963,\n",
       " 'elizabeth': 964,\n",
       " 'dc': 965,\n",
       " 'risperdal': 966,\n",
       " 'pak': 967,\n",
       " 'zomig': 968,\n",
       " 'tracey': 969,\n",
       " 'walk': 970,\n",
       " 'pn': 971,\n",
       " 'bowman': 972,\n",
       " 'sending': 973,\n",
       " 'ibuprofen': 974,\n",
       " 'lumbar': 975,\n",
       " 'fluoxetine': 976,\n",
       " 'qh': 977,\n",
       " 'concern': 978,\n",
       " 'fmla': 979,\n",
       " 'dexmethylphenidate': 980,\n",
       " 'resent': 981,\n",
       " 'kevin': 982,\n",
       " 'usually': 983,\n",
       " 'second': 984,\n",
       " 'evening': 985,\n",
       " 'mhb': 986,\n",
       " 'carnes': 987,\n",
       " 'klonopin': 988,\n",
       " 'difficulty': 989,\n",
       " 'required': 990,\n",
       " 'active': 991,\n",
       " 'intuniv': 992,\n",
       " 'mr': 993,\n",
       " 'abv': 994,\n",
       " 'wmc': 995,\n",
       " 'lets': 996,\n",
       " 'imaging': 997,\n",
       " 'helped': 998,\n",
       " 'ot': 999,\n",
       " 'medicaiton': 1000,\n",
       " ...}"
      ]
     },
     "execution_count": 81,
     "metadata": {},
     "output_type": "execute_result"
    }
   ],
   "source": [
    "t.word_index"
   ]
  },
  {
   "cell_type": "code",
   "execution_count": 22,
   "metadata": {
    "colab": {},
    "colab_type": "code",
    "collapsed": true,
    "id": "0t-TFPS3Y9k5"
   },
   "outputs": [],
   "source": [
    "# integer encode the documents\n",
    "encoded_docs = t.texts_to_sequences(docs)\n",
    "#encoded_docs_Test = t.texts_to_sequences(docs_Test)\n",
    "encoded_docs_Test = t.texts_to_sequences(Data_Test_converse)\n",
    "#Data_Test\n",
    "# print(docs)\n",
    "# print(encoded_docs)"
   ]
  },
  {
   "cell_type": "code",
   "execution_count": 83,
   "metadata": {},
   "outputs": [
    {
     "name": "stderr",
     "output_type": "stream",
     "text": [
      "IOPub data rate exceeded.\n",
      "The notebook server will temporarily stop sending output\n",
      "to the client in order to avoid crashing it.\n",
      "To change this limit, set the config variable\n",
      "`--NotebookApp.iopub_data_rate_limit`.\n",
      "\n",
      "Current values:\n",
      "NotebookApp.iopub_data_rate_limit=1000000.0 (bytes/sec)\n",
      "NotebookApp.rate_limit_window=3.0 (secs)\n",
      "\n"
     ]
    }
   ],
   "source": [
    "print(encoded_docs)\n",
    "print(encoded_docs_Test)"
   ]
  },
  {
   "cell_type": "code",
   "execution_count": 84,
   "metadata": {
    "colab": {
     "base_uri": "https://localhost:8080/",
     "height": 102
    },
    "colab_type": "code",
    "id": "B2oIhysCY9k8",
    "outputId": "38a78ffb-6713-47bf-a138-ba8fdad0c9ef"
   },
   "outputs": [
    {
     "name": "stdout",
     "output_type": "stream",
     "text": [
      "[[   7  692   80 ...    0    0    0]\n",
      " [ 556    1  422 ...    0    0    0]\n",
      " [  10  161  468 ...    0    0    0]\n",
      " [  18   20   21 ...    0    0    0]\n",
      " [  72 1972   30 ...    0    0    0]]\n"
     ]
    }
   ],
   "source": [
    "max_length = 500\n",
    "padded_docs = pad_sequences(encoded_docs, maxlen=max_length, padding='post')\n",
    "padded_docs_Test = pad_sequences(encoded_docs_Test, maxlen=max_length, padding='post')\n",
    "print(padded_docs[0:5])"
   ]
  },
  {
   "cell_type": "code",
   "execution_count": 85,
   "metadata": {
    "collapsed": true
   },
   "outputs": [],
   "source": [
    "labels = to_categorical(np.asarray(labels))"
   ]
  },
  {
   "cell_type": "markdown",
   "metadata": {},
   "source": [
    "### Splitting the data 80 20"
   ]
  },
  {
   "cell_type": "code",
   "execution_count": 25,
   "metadata": {
    "colab": {},
    "colab_type": "code",
    "id": "jP0fUU9RY9k_"
   },
   "outputs": [
    {
     "name": "stdout",
     "output_type": "stream",
     "text": [
      "<class 'numpy.ndarray'>\n",
      "<class 'numpy.ndarray'>\n",
      "<class 'numpy.ndarray'>\n",
      "<class 'numpy.ndarray'>\n"
     ]
    }
   ],
   "source": [
    "#Performing train test split on the data\n",
    "from sklearn.model_selection import train_test_split\n",
    "X_train, X_test, y_train, y_test = train_test_split(padded_docs, labels, test_size=0.2, random_state=14, stratify = labels)\n",
    "print(type(X_train))\n",
    "print(type( X_test))\n",
    "print(type(y_train))\n",
    "print(type( y_test))"
   ]
  },
  {
   "cell_type": "code",
   "execution_count": 26,
   "metadata": {
    "colab": {
     "base_uri": "https://localhost:8080/",
     "height": 51
    },
    "colab_type": "code",
    "id": "pyM5IB7UY9lI",
    "outputId": "64e2573e-36ef-48ed-cfa4-dbdd1a2f0df0"
   },
   "outputs": [
    {
     "name": "stdout",
     "output_type": "stream",
     "text": [
      "(38933, 500)\n",
      "(9734, 500)\n",
      "<class 'numpy.ndarray'>\n",
      "<class 'numpy.ndarray'>\n",
      "(38933, 21)\n",
      "(9734, 21)\n"
     ]
    }
   ],
   "source": [
    "#To get the distribution in the target in train and test\n",
    "print(X_train.shape)\n",
    "print(X_test.shape)\n",
    "print(type(X_train))\n",
    "print(type(y_train))\n",
    "print(y_train.shape)\n",
    "print(y_test.shape)"
   ]
  },
  {
   "cell_type": "markdown",
   "metadata": {},
   "source": [
    "# MLP Model"
   ]
  },
  {
   "cell_type": "code",
   "execution_count": 27,
   "metadata": {
    "colab": {},
    "colab_type": "code",
    "collapsed": true,
    "id": "gs9iX0rRY9lP"
   },
   "outputs": [],
   "source": [
    "# define the model\n",
    "model = Sequential()\n",
    "model.add(Embedding(vocab_size, 50, input_length=max_length))\n",
    "#model.add(Flatten())\n",
    "model.add(Flatten())\n",
    "model.add(Dense(21,activation='softmax'))\n",
    "#model.add(Activation('softmax'))"
   ]
  },
  {
   "cell_type": "code",
   "execution_count": 28,
   "metadata": {
    "colab": {},
    "colab_type": "code",
    "collapsed": true,
    "id": "2TEnj4VWY9lT"
   },
   "outputs": [],
   "source": [
    "# compile the model\n",
    "model.compile(optimizer='adam', loss='categorical_crossentropy', metrics=['accuracy'])"
   ]
  },
  {
   "cell_type": "code",
   "execution_count": 29,
   "metadata": {
    "colab": {
     "base_uri": "https://localhost:8080/",
     "height": 255
    },
    "colab_type": "code",
    "id": "avpUxWFkY9lV",
    "outputId": "1689184b-d26d-4761-f517-fdc510141392"
   },
   "outputs": [
    {
     "name": "stdout",
     "output_type": "stream",
     "text": [
      "_________________________________________________________________\n",
      "Layer (type)                 Output Shape              Param #   \n",
      "=================================================================\n",
      "embedding_1 (Embedding)      (None, 500, 50)           1780350   \n",
      "_________________________________________________________________\n",
      "flatten_1 (Flatten)          (None, 25000)             0         \n",
      "_________________________________________________________________\n",
      "dense_1 (Dense)              (None, 21)                525021    \n",
      "=================================================================\n",
      "Total params: 2,305,371\n",
      "Trainable params: 2,305,371\n",
      "Non-trainable params: 0\n",
      "_________________________________________________________________\n",
      "None\n"
     ]
    }
   ],
   "source": [
    "# summarize the model\n",
    "print(model.summary())"
   ]
  },
  {
   "cell_type": "code",
   "execution_count": 30,
   "metadata": {
    "colab": {
     "base_uri": "https://localhost:8080/",
     "height": 71
    },
    "colab_type": "code",
    "id": "m4zTpNNqY9la",
    "outputId": "9b324f1f-c90a-44a3-944e-a4c130d96903"
   },
   "outputs": [
    {
     "name": "stdout",
     "output_type": "stream",
     "text": [
      "Train on 38933 samples, validate on 9734 samples\n",
      "Epoch 1/2\n",
      "38933/38933 [==============================] - 80s 2ms/step - loss: 1.1465 - acc: 0.6511 - val_loss: 0.8679 - val_acc: 0.7257\n",
      "Epoch 2/2\n",
      "38933/38933 [==============================] - 80s 2ms/step - loss: 0.6454 - acc: 0.7923 - val_loss: 0.8491 - val_acc: 0.7288\n"
     ]
    },
    {
     "data": {
      "text/plain": [
       "<keras.callbacks.History at 0x1fee9e904a8>"
      ]
     },
     "execution_count": 30,
     "metadata": {},
     "output_type": "execute_result"
    }
   ],
   "source": [
    "# fit the model\n",
    "#model.fit(padded_docs, labels, epochs=50, verbose=0)\n",
    "model.fit(X_train, y_train, validation_data=(X_test, y_test), epochs=2,verbose=1)"
   ]
  },
  {
   "cell_type": "code",
   "execution_count": 31,
   "metadata": {
    "colab": {},
    "colab_type": "code",
    "id": "y0x2IdX2Y9ld"
   },
   "outputs": [
    {
     "name": "stdout",
     "output_type": "stream",
     "text": [
      "Accuracy: 72.878570\n"
     ]
    }
   ],
   "source": [
    "# evaluate the model\n",
    "loss, accuracy = model.evaluate(X_test, y_test, verbose=0)\n",
    "print('Accuracy: %f' % (accuracy*100))"
   ]
  },
  {
   "cell_type": "code",
   "execution_count": 32,
   "metadata": {},
   "outputs": [
    {
     "name": "stdout",
     "output_type": "stream",
     "text": [
      "[[3.87952605e-04 3.19981598e-03 2.49547709e-04 4.10718983e-03\n",
      "  9.67041962e-03 3.76252974e-05 1.86957605e-03 2.50118524e-02\n",
      "  2.79155723e-03 7.79503956e-02 4.80592344e-03 6.54341141e-03\n",
      "  7.15535076e-04 1.07757689e-03 3.59886792e-04 6.66558370e-03\n",
      "  2.81692599e-04 1.24185928e-04 7.91184187e-01 6.25210777e-02\n",
      "  4.44964040e-04]\n",
      " [1.41127128e-03 2.25139735e-03 8.89355579e-05 4.29285737e-03\n",
      "  1.49699394e-03 8.01630085e-06 2.37766490e-03 5.12825370e-01\n",
      "  9.08570830e-04 4.26875889e-01 1.89830642e-03 2.90976209e-03\n",
      "  9.65455023e-04 5.99364867e-05 1.40880086e-02 8.24580714e-03\n",
      "  5.22280287e-04 1.26885192e-04 1.27912126e-02 8.21351190e-04\n",
      "  5.03397500e-03]\n",
      " [1.18981814e-02 1.56050641e-02 5.20200774e-05 9.27877240e-03\n",
      "  2.73088692e-03 9.84388134e-06 6.04283111e-03 2.05028191e-01\n",
      "  1.53604507e-01 8.79466161e-03 5.03632182e-04 4.02233154e-01\n",
      "  2.69528478e-04 3.08951239e-05 3.95404249e-02 2.08376395e-03\n",
      "  7.30491616e-03 1.60679265e-04 7.67029542e-03 1.19969428e-01\n",
      "  7.18825636e-03]\n",
      " [1.33302035e-02 8.01818259e-03 2.77571788e-04 2.80053522e-02\n",
      "  5.71706158e-04 5.57904650e-06 5.51252486e-03 4.76079166e-01\n",
      "  3.28794241e-01 1.34234577e-02 1.15703675e-03 3.29774953e-02\n",
      "  1.42670935e-04 2.55352988e-05 3.89734730e-02 4.69058612e-03\n",
      "  3.90456710e-03 2.06904282e-04 3.97776137e-04 3.60180135e-03\n",
      "  3.99041697e-02]\n",
      " [2.59564877e-06 2.88751198e-06 2.43954957e-04 2.39547148e-06\n",
      "  7.34475674e-04 6.60475416e-06 6.14180590e-06 2.31653010e-03\n",
      "  2.89753400e-04 5.93121862e-04 6.81314792e-04 2.85452232e-04\n",
      "  1.60524069e-05 6.65355110e-05 1.93586166e-05 9.94656801e-01\n",
      "  1.42491781e-05 1.43590460e-05 4.10500215e-05 3.68007727e-06\n",
      "  2.75727052e-06]]\n"
     ]
    }
   ],
   "source": [
    "Y_pred_test = model.predict(X_test)\n",
    "print(Y_pred_test[0:5])"
   ]
  },
  {
   "cell_type": "code",
   "execution_count": 33,
   "metadata": {},
   "outputs": [
    {
     "name": "stdout",
     "output_type": "stream",
     "text": [
      "[18, 7, 11, 7, 15, 8, 9, 10, 8, 7, 7, 10, 16, 7, 18, 8, 7, 6, 15, 13, 15, 9, 9, 7, 6, 15, 8, 7, 7, 9, 18, 9, 7, 15, 7, 7, 15, 16, 9, 11, 15, 3, 3, 7, 15, 8, 8, 15, 18, 15, 7, 8, 7, 13, 15, 6, 11, 15, 7, 8, 8, 7, 9, 8, 6, 9, 8, 7, 7, 8, 9, 8, 8, 7, 6, 9, 15, 7, 9, 8, 8, 15, 7, 19, 15, 6, 7, 15, 15, 7, 15, 15, 11, 8, 4, 15, 15, 15, 7, 6, 7, 11, 7, 10, 15, 13, 7, 3, 18, 8, 9, 15, 7, 6, 8, 7, 19, 7, 7, 11, 11, 9, 7, 8, 18, 15, 7, 18, 7, 10, 7, 11, 13, 9, 17, 7, 9, 7, 7, 14, 7, 9, 7, 8, 18, 9, 15, 9, 7, 7, 6, 7, 16, 9, 0, 15, 8, 15, 13, 7, 15, 9, 15, 8, 7, 7, 18, 15, 8, 7, 6, 19, 0, 9, 7, 13, 18, 15, 15, 7, 8, 15, 11, 16, 18, 9, 9, 7, 18, 9, 15, 8, 15, 8, 15, 19, 9, 15, 9, 15, 15, 18, 15, 3, 8, 7, 6, 8, 6, 8, 15, 7, 10, 8, 6, 6, 9, 7, 9, 8, 15, 13, 11, 18, 7, 15, 7, 7, 15, 13, 15, 15, 11, 8, 9, 9, 8, 18, 15, 8, 18, 9, 9, 8, 13, 8, 7, 8, 7, 18, 7, 7, 8, 19, 6, 8, 16, 16, 7, 7, 9, 9, 7, 15, 15, 7, 9, 9, 8, 7, 15, 8, 9, 8, 20, 8, 9, 10, 7, 9, 15, 7, 7, 15, 8, 7, 15, 17, 9, 9, 18, 9, 7, 15, 7, 7, 7, 9, 15, 6, 8, 7, 9, 9, 7, 7, 7, 15, 11, 7, 8, 15, 7, 8, 15, 15, 8, 13, 9, 15, 18, 16, 9, 15, 7, 8, 8, 15, 15, 18, 10, 15, 8, 18, 11, 8, 9, 8, 7, 8, 8, 16, 8, 7, 13, 9, 8, 8, 8, 6, 3, 15, 9, 15, 15, 15, 9, 18, 15, 15, 9, 7, 7, 7, 18, 8, 15, 15, 15, 6, 11, 15, 10, 19, 8, 7, 8, 7, 19, 11, 6, 7, 15, 13, 9, 7, 8, 8, 7, 11, 8, 8, 9, 15, 18, 9, 8, 7, 7, 9, 7, 15, 15, 6, 18, 8, 8, 8, 7, 9, 7, 15, 15, 7, 8, 9, 7, 0, 7, 7, 7, 13, 7, 19, 16, 7, 15, 8, 7, 18, 12, 7, 18, 13, 15, 6, 18, 8, 7, 16, 9, 16, 18, 7, 10, 8, 15, 8, 6, 10, 9, 7, 14, 8, 8, 15, 15, 7, 8, 7, 15, 7, 7, 9, 9, 6, 15, 15, 7, 15, 9, 7, 9, 8, 8, 16, 9, 9, 7, 7, 15, 3, 13, 8, 16, 16, 8, 19, 9, 15, 8, 15, 7, 7, 8, 0, 6, 6, 9, 8, 7, 15, 7, 7, 9, 0, 8, 7, 8, 17, 15, 6, 9, 8, 7, 13, 13, 15, 15, 15, 8, 7, 19, 16, 7, 15, 3, 9, 8, 6, 9, 18, 7, 15, 8, 18, 7, 7, 8, 13, 8, 9, 10, 13, 8, 7, 7, 9, 9, 8, 7, 7, 7, 15, 8, 15, 7, 9, 18, 9, 7, 8, 18, 8, 15, 7, 7, 9, 8, 6, 7, 8, 18, 18, 9, 8, 9, 15, 11, 8, 15, 15, 13, 8, 15, 8, 15, 15, 15, 7, 7, 8, 7, 15, 7, 6, 9, 7, 6, 9, 9, 7, 8, 7, 19, 7, 9, 15, 15, 8, 8, 8, 7, 8, 6, 15, 18, 8, 7, 9, 6, 7, 13, 4, 7, 15, 18, 18, 9, 8, 8, 8, 7, 15, 7, 18, 7, 7, 9, 15, 7, 9, 7, 15, 15, 7, 15, 7, 7, 7, 8, 8, 7, 7, 7, 15, 15, 20, 8, 18, 8, 15, 9, 11, 7, 9, 8, 7, 8, 9, 8, 7, 7, 8, 8, 15, 16, 9, 18, 15, 15, 8, 15, 13, 8, 9, 18, 8, 7, 6, 9, 15, 8, 7, 10, 8, 11, 8, 15, 7, 8, 7, 7, 15, 15, 6, 7, 15, 8, 8, 15, 13, 15, 7, 7, 7, 9, 18, 7, 6, 7, 9, 6, 6, 11, 10, 9, 9, 8, 7, 9, 15, 15, 7, 1, 8, 15, 9, 8, 7, 7, 18, 15, 15, 13, 11, 7, 15, 16, 8, 7, 7, 7, 11, 7, 15, 18, 15, 9, 7, 8, 15, 6, 8, 13, 8, 18, 15, 16, 18, 8, 7, 10, 3, 9, 17, 7, 7, 15, 9, 15, 9, 18, 9, 14, 13, 8, 7, 7, 9, 8, 9, 9, 8, 15, 9, 15, 15, 15, 9, 8, 7, 6, 15, 8, 7, 15, 10, 8, 11, 8, 7, 15, 15, 8, 8, 8, 14, 6, 16, 18, 10, 8, 8, 6, 19, 19, 7, 18, 15, 19, 19, 7, 9, 18, 11, 6, 7, 13, 8, 8, 7, 9, 18, 9, 7, 3, 18, 15, 8, 15, 3, 15, 7, 15, 6, 13, 8, 11, 6, 18, 8, 7, 8, 7, 11, 8, 6, 6, 8, 8, 7, 7, 15, 9, 9, 9, 16, 7, 17, 9, 7, 7, 9, 7, 9, 3, 15, 18, 7, 13, 9, 7, 8, 9, 6, 9, 6, 18, 18, 18, 18, 15, 3, 13, 6, 10, 9, 18, 7, 9, 11, 8, 6, 9, 20, 8, 9, 18, 16, 18, 7, 9, 6, 8, 9, 8, 15, 10, 15, 9, 6, 9, 15, 3, 8, 0, 15, 15, 15, 15, 19, 7, 10, 15, 8, 8, 9, 15, 8, 9, 7, 15, 18, 15, 15, 8, 7, 9, 17, 18, 0, 15, 15, 9, 7, 13, 9, 7, 8, 10, 15, 8, 6, 6, 9, 15, 7, 7, 9, 15, 10, 7, 7, 18, 9, 15, 8, 7, 8, 9, 8, 8, 18, 13, 15, 19, 15, 11, 15, 7, 9, 7, 15, 7, 7, 9, 7, 0, 8, 7, 9, 11, 9, 4, 15, 18, 9, 7, 8, 3, 7, 7, 6, 10, 9, 8, 7, 16, 0, 9, 15, 15, 15, 15, 7, 9, 7, 13, 9, 8, 7, 15, 9, 11, 11, 3, 6, 9, 7, 7, 7, 15, 16, 15, 15, 9, 6, 8, 9, 7, 7, 7, 9, 15, 9, 15, 11, 9, 9, 15, 8, 7, 11, 15, 8, 8, 7, 7, 8, 8, 15, 8, 15, 15, 8, 8, 9, 8, 10, 8, 7, 11, 7, 7, 7, 15, 11, 7, 15, 7, 7, 8, 6, 7, 8, 7, 8, 8, 18, 7, 15, 7, 15, 19, 7, 8, 8, 10, 7, 7, 7, 9, 9, 7, 7, 7, 15, 6, 9, 7, 9, 7, 9, 15, 8, 8, 7, 15, 7, 7, 9, 18, 10, 9, 8, 15, 9, 7, 15, 9, 7, 10, 13, 8, 9, 9, 9, 7, 7, 11, 18, 6, 0, 6, 8, 13, 9, 6, 7, 8, 8, 18, 15, 8, 8, 7, 18, 7, 7, 3, 18, 6, 15, 7, 9, 18, 18, 9, 9, 8, 18, 10, 15, 9, 7, 6, 18, 18, 8, 18, 6, 13, 15, 7, 3, 15, 8, 7, 11, 19, 8, 6, 15, 8, 15, 7, 8, 8, 7, 7, 7, 8, 9, 9, 6, 18, 13, 9, 9, 7, 7, 15, 7, 7, 15, 7, 15, 0, 7, 18, 13, 8, 7, 15, 8, 7, 18, 17, 9, 7, 7, 18, 18, 11, 14, 6, 7, 16, 15, 9, 18, 8, 7, 15, 17, 19, 17, 17, 8, 7, 16, 6, 8, 15, 8, 15, 15, 18, 15, 7, 7, 16, 15, 15, 7, 15, 16, 15, 7, 8, 7, 15, 9, 7, 9, 7, 7, 7, 10, 8, 8, 9, 9, 15, 7, 16, 7, 6, 8, 9, 11, 7, 15, 9, 15, 7, 15, 15, 9, 11, 8, 15, 13, 20, 8, 9, 7, 7, 15, 7, 15, 7, 15, 18, 7, 7, 8, 11, 7, 11, 13, 9, 7, 0, 7, 16, 8, 4, 7, 7, 15, 7, 8, 7, 7, 7, 13, 8, 7, 13, 15, 7, 6, 1, 0, 8, 8, 10, 15, 11, 19, 9, 9, 7, 15, 6, 15, 8, 18, 8, 15, 13, 7, 18, 15, 9, 9, 16, 18, 16, 8, 8, 19, 8, 10, 7, 15, 8, 8, 8, 13, 9, 6, 9, 8, 15, 15, 7, 9, 18, 6, 7, 13, 6, 10, 7, 8, 9, 8, 18, 9, 18, 6, 6, 14, 13, 18, 8, 3, 15, 9, 19, 15, 9, 16, 9, 18, 9, 7, 15, 7, 8, 7, 7, 8, 19, 10, 7, 3, 7, 9, 18, 8, 8, 16, 7, 7, 9, 8, 8, 16, 7, 8, 18, 8, 8, 4, 8, 7, 7, 8, 8, 10, 7, 9, 8, 9, 8, 3, 8, 15, 9, 8, 16, 13, 15, 8, 16, 13, 19, 7, 16, 3, 7, 15, 8, 8, 13, 8, 6, 15, 8, 8, 9, 9, 7, 15, 8, 8, 13, 7, 9, 15, 3, 18, 9, 3, 15, 6, 15, 9, 7, 9, 8, 7, 9, 9, 6, 15, 8, 9, 7, 13, 9, 15, 9, 15, 11, 8, 15, 9, 8, 9, 8, 7, 6, 18, 9, 7, 15, 9, 8, 15, 9, 8, 9, 8, 8, 7, 15, 8, 15, 7, 15, 15, 7, 15, 18, 7, 18, 7, 9, 9, 7, 13, 18, 8, 10, 7, 7, 15, 8, 7, 9, 8, 9, 7, 15, 6, 15, 8, 8, 18, 15, 0, 7, 15, 8, 13, 10, 7, 15, 11, 7, 13, 9, 7, 18, 8, 7, 9, 9, 7, 7, 15, 15, 6, 15, 9, 6, 8, 9, 15, 15, 9, 7, 8, 7, 15, 15, 7, 8, 15, 9, 15, 19, 11, 18, 8, 8, 15, 18, 8, 8, 13, 15, 8, 8, 9, 18, 11, 7, 15, 13, 13, 9, 8, 18, 8, 18, 7, 8, 18, 7, 9, 19, 15, 8, 8, 15, 7, 7, 6, 15, 8, 8, 16, 8, 18, 6, 15, 10, 15, 8, 15, 19, 17, 7, 6, 7, 9, 7, 7, 7, 9, 7, 9, 7, 15, 7, 15, 15, 7, 13, 6, 9, 8, 10, 9, 3, 8, 7, 7, 15, 17, 19, 8, 7, 8, 15, 8, 15, 8, 15, 9, 9, 8, 9, 15, 8, 9, 7, 7, 7, 7, 15, 15, 16, 6, 9, 18, 8, 9, 15, 15, 15, 15, 7, 7, 7, 16, 13, 7, 8, 15, 7, 7, 11, 8, 6, 7, 15, 9, 9, 9, 15, 8, 9, 16, 8, 6, 13, 8, 15, 15, 7, 10, 6, 7, 15, 7, 8, 18, 13, 6, 8, 8, 9, 8, 8, 13, 9, 8, 8, 7, 9, 7, 8, 8, 13, 18, 15, 10, 7, 11, 7, 7, 9, 8, 8, 19, 9, 16, 9, 7, 8, 7, 18, 8, 7, 18, 6, 18, 16, 8, 7, 7, 7, 7, 8, 8, 6, 9, 16, 19, 13, 9, 6, 8, 7, 8, 7, 7, 19, 7, 16, 11, 0, 7, 16, 7, 7, 15, 7, 7, 7, 7, 16, 18, 10, 7, 18, 9, 9, 3, 8, 17, 17, 8, 7, 7, 16, 8, 8, 11, 6, 7, 14, 19, 9, 7, 7, 8, 9, 7, 16, 7, 13, 7, 15, 7, 15, 15, 19, 16, 8, 15, 8, 9, 7, 7, 16, 9, 10, 8, 15, 16, 9, 7, 15, 7, 16, 15, 9, 13, 8, 15, 8, 15, 7, 15, 7, 9, 15, 17, 8, 7, 9, 10, 7, 7, 15, 8, 8, 7, 7, 16, 7, 9, 19, 9, 8, 9, 16, 15, 18, 15, 7, 8, 7, 8, 10, 15, 6, 9, 8, 8, 7, 18, 7, 6, 15, 10, 8, 7, 8, 7, 8, 13, 15, 13, 18, 9, 16, 9, 7, 8, 9, 18, 15, 9, 8, 6, 11, 9, 9, 15, 9, 7, 7, 10, 15, 7, 8, 7, 9, 9, 7, 8, 17, 11, 15, 6, 15, 9, 7, 18, 7, 7, 7, 16, 7, 15, 8, 9, 6, 8, 8, 7, 7, 7, 9, 18, 8, 19, 11, 15, 18, 8, 8, 7, 7, 11, 9, 13, 7, 16, 15, 8, 7, 8, 11, 8, 9, 18, 15, 15, 7, 18, 9, 9, 9, 8, 18, 16, 8, 8, 9, 10, 15, 10, 15, 15, 19, 15, 8, 7, 19, 8, 8, 7, 18, 16, 7, 7, 19, 8, 8, 9, 6, 7, 7, 17, 8, 9, 7, 9, 9, 8, 8, 7, 7, 9, 15, 6, 8, 7, 11, 7, 8, 15, 15, 7, 0, 9, 16, 15, 8, 18, 7, 9, 0, 15, 15, 8, 8, 10, 7, 15, 15, 7, 15, 9, 9, 20, 9, 9, 11, 7, 7, 7, 15, 7, 6, 7, 8, 10, 7, 6, 7, 15, 8, 13, 15, 11, 7, 7, 13, 13, 16, 18, 9, 7, 6, 15, 15, 15, 15, 6, 16, 9, 8, 7, 7, 9, 8, 16, 7, 17, 8, 9, 7, 9, 7, 6, 9, 8, 8, 15, 7, 9, 18, 9, 9, 19, 8, 8, 0, 9, 7, 7, 15, 9, 8, 9, 15, 8, 7, 8, 8, 7, 7, 18, 11, 7, 6, 6, 7, 8, 9, 9, 6, 7, 19, 8, 8, 15, 9, 7, 9, 18, 9, 7, 8, 8, 13, 8, 15, 18, 15, 8, 8, 15, 18, 16, 9, 15, 15, 7, 9, 10, 0, 7, 18, 9, 7, 8, 8, 7, 7, 8, 7, 15, 7, 7, 9, 7, 7, 8, 7, 7, 8, 13, 15, 9, 9, 8, 18, 8, 8, 7, 8, 0, 17, 7, 9, 8, 18, 15, 9, 8, 17, 18, 7, 7, 15, 8, 7, 9, 7, 19, 8, 7, 8, 7, 15, 18, 11, 9, 7, 15, 15, 13, 8, 9, 6, 15, 15, 9, 8, 7, 7, 6, 6, 8, 7, 9, 7, 7, 15, 9, 8, 15, 7, 15, 7, 8, 15, 15, 9, 8, 19, 7, 17, 7, 15, 7, 13, 11, 6, 10, 9, 15, 8, 8, 18, 9, 8, 7, 9, 15, 7, 3, 7, 7, 7, 7, 9, 7, 7, 11, 9, 15, 11, 9, 11, 7, 7, 8, 7, 9, 15, 8, 11, 7, 11, 7, 15, 15, 9, 7, 15, 8, 7, 8, 8, 7, 15, 9, 15, 9, 8, 15, 7, 13, 6, 7, 18, 8, 16, 18, 7, 15, 15, 15, 8, 0, 15, 10, 8, 8, 7, 11, 8, 7, 8, 19, 16, 8, 9, 7, 11, 6, 15, 7, 9, 15, 9, 7, 7, 9, 9, 9, 8, 7, 0, 7, 9, 17, 7, 16, 13, 9, 18, 7, 8, 7, 9, 18, 16, 15, 7, 7, 15, 9, 8, 8, 17, 8, 15, 9, 8, 9, 7, 8, 7, 13, 7, 7, 15, 8, 15, 7, 15, 7, 7, 19, 15, 3, 11, 6, 16, 8, 18, 15, 8, 3, 15, 15, 9, 7, 16, 9, 7, 9, 7, 7, 15, 15, 7, 9, 9, 18, 7, 7, 18, 17, 9, 8, 3, 7, 7, 17, 9, 9, 8, 7, 8, 7, 15, 16, 10, 9, 8, 7, 7, 8, 15, 8, 0, 13, 9, 9, 8, 15, 8, 7, 9, 19, 7, 7, 7, 7, 8, 3, 7, 15, 9, 8, 9, 7, 7, 15, 9, 8, 9, 7, 8, 13, 8, 16, 17, 8, 18, 7, 8, 11, 7, 17, 8, 11, 15, 9, 9, 9, 18, 7, 7, 17, 9, 8, 8, 9, 8, 9, 15, 6, 11, 9, 15, 7, 7, 9, 6, 15, 18, 8, 15, 15, 9, 9, 15, 18, 15, 6, 9, 15, 8, 9, 19, 11, 6, 20, 11, 8, 9, 8, 7, 15, 18, 7, 18, 9, 9, 15, 7, 7, 15, 13, 7, 16, 9, 15, 15, 15, 11, 7, 8, 15, 9, 10, 7, 0, 15, 9, 7, 7, 9, 8, 7, 7, 9, 11, 7, 8, 13, 7, 0, 9, 3, 18, 7, 7, 8, 8, 8, 8, 7, 15, 8, 15, 7, 7, 15, 8, 9, 9, 11, 16, 7, 9, 11, 6, 13, 18, 7, 15, 15, 18, 18, 15, 15, 7, 9, 8, 9, 7, 8, 8, 7, 9, 9, 19, 8, 15, 9, 18, 9, 7, 7, 8, 9, 8, 13, 15, 9, 8, 8, 8, 7, 18, 9, 18, 7, 15, 7, 11, 7, 7, 7, 7, 10, 6, 7, 10, 16, 6, 7, 8, 11, 9, 7, 11, 8, 8, 8, 7, 7, 8, 15, 15, 7, 9, 7, 7, 6, 7, 15, 3, 8, 7, 6, 15, 7, 15, 9, 8, 9, 7, 14, 15, 7, 11, 9, 7, 8, 20, 7, 11, 11, 6, 16, 9, 8, 7, 18, 8, 6, 9, 0, 6, 8, 16, 9, 15, 18, 18, 18, 8, 15, 11, 9, 6, 7, 15, 15, 17, 7, 9, 15, 9, 16, 8, 8, 6, 9, 7, 15, 8, 16, 20, 8, 9, 7, 17, 19, 3, 10, 7, 11, 7, 11, 18, 15, 15, 10, 7, 15, 6, 6, 16, 7, 16, 9, 19, 18, 7, 9, 7, 4, 18, 8, 15, 8, 15, 7, 7, 15, 15, 7, 8, 7, 9, 11, 8, 7, 15, 6, 9, 7, 9, 8, 7, 9, 6, 9, 15, 7, 8, 6, 16, 8, 15, 15, 11, 8, 15, 15, 15, 10, 7, 6, 7, 7, 7, 8, 16, 18, 6, 8, 7, 8, 7, 7, 18, 7, 8, 11, 9, 6, 18, 13, 7, 7, 13, 8, 15, 13, 8, 6, 7, 7, 11, 15, 16, 9, 3, 15, 10, 9, 15, 15, 15, 7, 8, 8, 16, 15, 3, 8, 8, 11, 10, 7, 7, 15, 7, 13, 15, 15, 15, 15, 7, 7, 18, 7, 7, 6, 7, 8, 9, 8, 9, 9, 8, 9, 9, 9, 15, 9, 10, 8, 10, 11, 18, 16, 15, 7, 15, 18, 7, 8, 8, 11, 8, 8, 9, 3, 7, 15, 7, 7, 8, 9, 16, 7, 9, 7, 18, 15, 9, 8, 17, 11, 7, 9, 15, 15, 9, 7, 15, 7, 9, 15, 16, 7, 18, 7, 9, 11, 8, 8, 14, 9, 6, 8, 15, 11, 7, 0, 8, 7, 7, 9, 9, 7, 8, 9, 11, 15, 13, 9, 16, 9, 18, 11, 7, 7, 10, 13, 15, 7, 6, 17, 8, 8, 9, 8, 9, 8, 7, 15, 7, 13, 8, 7, 8, 7, 10, 15, 20, 9, 19, 13, 9, 15, 10, 7, 3, 15, 4, 18, 7, 11, 10, 16, 15, 8, 7, 18, 8, 15, 9, 9, 15, 6, 13, 19, 8, 18, 9, 18, 9, 14, 7, 7, 19, 7, 8, 19, 11, 19, 18, 9, 7, 11, 9, 9, 7, 9, 7, 3, 18, 9, 8, 15, 4, 10, 8, 7, 15, 8, 8, 11, 17, 7, 7, 16, 15, 8, 9, 8, 7, 8, 8, 9, 7, 15, 8, 8, 15, 15, 3, 8, 15, 7, 15, 6, 7, 7, 15, 9, 0, 15, 8, 16, 9, 8, 7, 18, 9, 9, 11, 7, 7, 9, 15, 7, 13, 7, 7, 8, 8, 18, 9, 15, 18, 0, 8, 8, 15, 7, 13, 15, 7, 13, 6, 8, 15, 9, 11, 8, 8, 8, 7, 9, 7, 9, 8, 10, 9, 7, 7, 9, 7, 7, 9, 16, 6, 15, 8, 7, 7, 11, 9, 7, 9, 18, 7, 15, 7, 9, 8, 7, 15, 16, 7, 8, 16, 15, 15, 8, 7, 6, 8, 8, 7, 7, 11, 8, 6, 7, 7, 15, 7, 7, 18, 7, 9, 15, 7, 7, 7, 8, 15, 17, 13, 15, 7, 9, 15, 15, 7, 15, 7, 8, 7, 6, 8, 7, 9, 7, 7, 7, 13, 11, 7, 16, 9, 15, 15, 15, 6, 16, 9, 11, 15, 9, 7, 19, 9, 7, 9, 18, 6, 7, 7, 15, 7, 15, 20, 15, 11, 11, 9, 10, 15, 8, 15, 18, 8, 15, 7, 18, 9, 7, 7, 7, 0, 6, 9, 16, 18, 15, 15, 15, 7, 9, 15, 8, 15, 17, 15, 8, 15, 15, 11, 15, 18, 8, 15, 8, 6, 7, 11, 6, 19, 9, 15, 3, 9, 7, 9, 19, 6, 3, 18, 15, 7, 11, 7, 8, 9, 8, 15, 7, 10, 17, 7, 9, 11, 8, 9, 9, 11, 7, 7, 8, 8, 9, 16, 15, 7, 8, 9, 16, 6, 9, 7, 18, 8, 11, 18, 8, 7, 19, 9, 16, 7, 7, 15, 8, 7, 8, 18, 9, 15, 9, 15, 18, 7, 8, 9, 18, 15, 9, 7, 15, 15, 7, 6, 16, 9, 11, 7, 16, 8, 9, 15, 9, 0, 8, 8, 10, 16, 15, 15, 19, 11, 15, 7, 18, 9, 18, 8, 0, 8, 10, 8, 15, 15, 18, 17, 8, 8, 9, 7, 11, 4, 8, 15, 9, 15, 16, 9, 9, 10, 9, 7, 10, 18, 7, 18, 15, 7, 15, 15, 7, 7, 9, 18, 9, 7, 8, 3, 15, 7, 9, 17, 7, 8, 7, 15, 18, 9, 7, 13, 8, 15, 9, 6, 7, 10, 7, 9, 6, 9, 7, 15, 15, 11, 13, 8, 11, 9, 8, 9, 18, 8, 7, 9, 7, 15, 7, 13, 9, 7, 17, 3, 9, 13, 7, 9, 15, 16, 15, 1, 15, 8, 7, 0, 8, 9, 13, 15, 9, 16, 9, 9, 15, 7, 18, 7, 16, 9, 8, 7, 15, 18, 11, 14, 10, 9, 11, 15, 7, 13, 9, 9, 7, 9, 9, 15, 8, 7, 7, 19, 8, 19, 18, 9, 19, 8, 9, 11, 9, 8, 8, 8, 15, 15, 15, 15, 20, 19, 7, 7, 17, 8, 7, 11, 7, 9, 7, 9, 6, 15, 16, 18, 15, 15, 9, 15, 15, 9, 8, 13, 8, 9, 8, 8, 16, 4, 15, 7, 15, 7, 15, 6, 7, 10, 11, 9, 7, 13, 15, 15, 15, 15, 9, 18, 15, 19, 7, 15, 18, 15, 15, 9, 6, 11, 9, 15, 8, 9, 15, 7, 7, 8, 14, 11, 7, 19, 8, 7, 6, 6, 15, 14, 16, 13, 7, 15, 7, 10, 7, 7, 18, 7, 13, 18, 15, 7, 6, 7, 7, 9, 7, 7, 18, 9, 9, 7, 15, 16, 10, 15, 13, 15, 15, 8, 9, 8, 8, 11, 15, 6, 15, 9, 19, 7, 8, 15, 0, 8, 18, 15, 7, 7, 7, 11, 8, 8, 9, 7, 15, 7, 7, 15, 9, 11, 8, 7, 6, 19, 15, 15, 7, 15, 8, 18, 11, 8, 7, 7, 8, 15, 13, 6, 19, 15, 18, 8, 8, 6, 8, 16, 7, 7, 10, 9, 7, 8, 7, 15, 7, 7, 9, 15, 15, 14, 9, 8, 13, 10, 9, 6, 8, 8, 9, 6, 18, 9, 7, 8, 9, 8, 8, 7, 9, 7, 7, 7, 7, 11, 8, 9, 15, 9, 9, 15, 10, 7, 7, 7, 8, 7, 8, 7, 8, 9, 7, 15, 7, 8, 16, 18, 8, 15, 15, 7, 18, 7, 18, 9, 15, 11, 15, 6, 15, 8, 7, 9, 7, 8, 7, 7, 8, 9, 9, 6, 7, 8, 11, 19, 8, 6, 15, 8, 7, 18, 7, 15, 15, 15, 15, 7, 14, 19, 10, 7, 15, 15, 7, 6, 6, 8, 13, 8, 8, 18, 8, 16, 15, 8, 9, 8, 9, 8, 9, 7, 6, 7, 16, 15, 9, 15, 8, 10, 7, 18, 9, 9, 9, 6, 15, 7, 15, 10, 18, 9, 8, 11, 9, 8, 7, 16, 7, 8, 7, 9, 9, 7, 7, 19, 9, 18, 15, 15, 15, 8, 7, 8, 16, 7, 8, 15, 0, 8, 6, 8, 15, 15, 16, 15, 7, 8, 17, 10, 7, 16, 8, 17, 8, 8, 8, 9, 8, 18, 7, 7, 8, 15, 6, 11, 16, 7, 7, 7, 9, 15, 15, 15, 15, 8, 13, 11, 8, 8, 9, 7, 7, 19, 9, 8, 7, 18, 7, 8, 7, 7, 8, 7, 15, 16, 7, 8, 18, 0, 9, 7, 7, 9, 15, 7, 15, 9, 15, 8, 9, 9, 7, 7, 17, 19, 7, 9, 8, 8, 9, 7, 9, 13, 16, 8, 15, 7, 7, 15, 13, 18, 7, 7, 11, 9, 15, 15, 11, 7, 8, 9, 8, 8, 9, 18, 9, 9, 7, 7, 11, 13, 15, 15, 11, 15, 8, 7, 9, 15, 15, 6, 9, 19, 15, 9, 6, 4, 8, 7, 15, 10, 11, 15, 7, 10, 8, 7, 7, 11, 8, 8, 15, 18, 17, 8, 8, 9, 16, 15, 7, 8, 7, 19, 8, 7, 7, 7, 8, 9, 7, 8, 16, 18, 9, 7, 7, 8, 8, 7, 9, 14, 7, 8, 9, 8, 7, 7, 9, 15, 7, 15, 8, 7, 15, 8, 8, 7, 7, 10, 15, 8, 17, 9, 8, 18, 17, 18, 18, 7, 15, 19, 7, 8, 7, 8, 15, 7, 7, 8, 9, 9, 7, 13, 9, 6, 11, 9, 8, 18, 8, 15, 16, 7, 8, 11, 7, 15, 7, 7, 9, 7, 7, 8, 18, 7, 15, 18, 9, 8, 8, 6, 15, 7, 3, 19, 8, 6, 9, 15, 7, 9, 15, 9, 7, 6, 9, 7, 15, 7, 7, 19, 9, 15, 8, 7, 8, 9, 9, 6, 15, 1, 9, 11, 8, 15, 7, 7, 8, 7, 16, 11, 8, 9, 7, 15, 10, 4, 15, 8, 8, 18, 15, 9, 15, 8, 11, 9, 9, 3, 17, 8, 7, 8, 8, 18, 18, 8, 15, 7, 9, 8, 13, 17, 7, 9, 15, 15, 7, 7, 15, 8, 7, 8, 9, 15, 0, 8, 18, 19, 18, 8, 7, 13, 15, 9, 3, 18, 9, 9, 15, 15, 7, 8, 19, 9, 6, 18, 11, 9, 15, 8, 9, 13, 9, 9, 8, 11, 15, 15, 7, 7, 7, 17, 16, 7, 8, 9, 8, 15, 8, 15, 11, 9, 11, 18, 7, 18, 13, 18, 7, 7, 8, 9, 7, 15, 8, 9, 6, 18, 11, 7, 7, 9, 15, 6, 7, 15, 9, 7, 15, 8, 11, 15, 7, 7, 7, 9, 9, 9, 9, 9, 8, 8, 6, 15, 9, 7, 15, 7, 16, 9, 8, 8, 13, 13, 7, 15, 8, 11, 7, 7, 18, 8, 3, 3, 8, 10, 7, 8, 3, 16, 8, 6, 7, 13, 15, 8, 8, 15, 9, 17, 8, 11, 7, 7, 7, 18, 18, 8, 10, 8, 18, 7, 7, 8, 9, 8, 7, 7, 7, 8, 7, 7, 8, 8, 15, 7, 7, 15, 11, 6, 15, 6, 11, 7, 9, 13, 9, 7, 18, 8, 7, 15, 8, 8, 9, 7, 8, 6, 7, 7, 8, 8, 7, 8, 7, 11, 9, 15, 8, 7, 1, 15, 15, 8, 7, 9, 11, 18, 15, 15, 8, 6, 16, 14, 18, 8, 6, 11, 19, 9, 7, 9, 8, 9, 17, 15, 7, 16, 9, 9, 18, 8, 8, 17, 7, 9, 7, 15, 7, 18, 9, 7, 11, 7, 6, 8, 10, 17, 3, 8, 4, 9, 13, 7, 18, 9, 10, 7, 7, 8, 7, 13, 15, 8, 7, 19, 7, 9, 15, 9, 10, 7, 8, 8, 18, 15, 18, 8, 9, 15, 8, 8, 11, 8, 7, 15, 18, 13, 11, 8, 7, 7, 6, 7, 9, 8, 7, 7, 18, 9, 15, 15, 7, 9, 15, 9, 18, 7, 7, 7, 13, 15, 8, 9, 8, 15, 18, 7, 7, 8, 8, 15, 15, 8, 9, 9, 7, 10, 4, 15, 10, 7, 13, 8, 13, 18, 8, 13, 8, 13, 6, 8, 15, 7, 10, 9, 17, 15, 18, 6, 15, 18, 7, 9, 8, 7, 7, 9, 18, 9, 10, 6, 9, 15, 7, 9, 7, 8, 15, 8, 7, 13, 15, 18, 6, 9, 8, 9, 1, 7, 8, 9, 15, 8, 7, 18, 7, 15, 15, 8, 9, 8, 9, 18, 7, 15, 7, 9, 7, 7, 15, 15, 7, 8, 8, 7, 9, 10, 7, 7, 8, 9, 19, 7, 15, 17, 17, 15, 7, 15, 7, 6, 15, 9, 6, 7, 16, 7, 16, 6, 7, 9, 7, 8, 7, 8, 9, 7, 8, 15, 15, 15, 7, 15, 7, 8, 10, 15, 15, 8, 11, 7, 10, 7, 15, 15, 7, 8, 15, 7, 15, 9, 7, 7, 9, 6, 15, 8, 8, 8, 7, 15, 15, 6, 9, 8, 8, 9, 7, 15, 8, 9, 15, 8, 3, 7, 8, 9, 13, 8, 9, 6, 7, 18, 15, 9, 6, 15, 6, 8, 9, 15, 15, 15, 8, 8, 18, 18, 6, 9, 8, 8, 15, 7, 8, 15, 9, 8, 6, 15, 8, 13, 7, 9, 7, 10, 7, 7, 6, 8, 7, 15, 15, 0, 9, 15, 10, 15, 7, 18, 8, 15, 7, 7, 8, 7, 15, 9, 18, 9, 10, 8, 15, 19, 16, 8, 8, 15, 19, 15, 15, 9, 9, 8, 8, 17, 15, 15, 15, 7, 8, 9, 7, 6, 8, 9, 7, 9, 7, 9, 18, 7, 8, 13, 7, 8, 9, 7, 8, 7, 8, 9, 8, 11, 13, 8, 7, 15, 9, 13, 8, 8, 15, 7, 8, 8, 19, 15, 7, 7, 9, 6, 15, 19, 7, 15, 15, 7, 0, 7, 19, 7, 3, 8, 7, 9, 9, 7, 8, 13, 15, 0, 8, 8, 15, 7, 15, 8, 8, 8, 15, 9, 9, 19, 13, 8, 8, 11, 9, 15, 18, 8, 15, 11, 11, 10, 13, 7, 15, 15, 15, 13, 13, 7, 6, 3, 7, 15, 11, 18, 8, 15, 8, 9, 19, 7, 7, 9, 8, 6, 9, 11, 15, 15, 7, 7, 7, 18, 13, 17, 15, 7, 7, 7, 7, 18, 18, 7, 16, 7, 8, 6, 7, 8, 8, 16, 15, 9, 18, 18, 9, 8, 15, 15, 18, 9, 8, 13, 7, 7, 10, 15, 19, 7, 8, 8, 0, 7, 15, 15, 8, 9, 9, 15, 15, 15, 7, 8, 7, 7, 6, 9, 7, 7, 15, 15, 6, 8, 7, 16, 8, 7, 8, 8, 8, 8, 18, 7, 16, 9, 8, 7, 7, 7, 8, 7, 6, 8, 15, 9, 15, 18, 15, 1, 13, 8, 7, 8, 7, 8, 8, 9, 6, 9, 8, 15, 11, 10, 8, 6, 18, 9, 6, 17, 7, 10, 6, 9, 8, 8, 15, 9, 6, 18, 9, 9, 6, 9, 8, 9, 18, 9, 9, 11, 15, 11, 18, 9, 8, 7, 6, 0, 10, 9, 15, 18, 9, 19, 7, 15, 8, 15, 15, 7, 9, 16, 13, 8, 9, 17, 7, 15, 9, 8, 3, 7, 15, 8, 8, 15, 8, 9, 18, 7, 15, 11, 8, 17, 13, 9, 9, 7, 15, 9, 8, 7, 7, 18, 7, 8, 7, 8, 8, 8, 7, 7, 8, 15, 18, 8, 15, 8, 7, 8, 7, 6, 7, 15, 7, 9, 15, 8, 15, 9, 10, 8, 7, 7, 11, 13, 8, 8, 15, 8, 9, 15, 16, 18, 7, 8, 8, 6, 8, 7, 1, 15, 6, 15, 8, 8, 15, 8, 7, 15, 9, 15, 7, 11, 11, 9, 9, 15, 15, 9, 8, 15, 8, 8, 0, 7, 7, 11, 15, 7, 6, 9, 6, 15, 7, 7, 7, 16, 7, 6, 9, 15, 7, 18, 7, 7, 15, 6, 7, 11, 7, 7, 8, 11, 7, 7, 9, 7, 18, 7, 9, 7, 17, 15, 17, 8, 6, 8, 8, 9, 9, 7, 11, 7, 8, 9, 18, 7, 7, 8, 8, 15, 15, 7, 16, 15, 8, 8, 18, 19, 16, 15, 11, 7, 7, 15, 7, 8, 18, 9, 7, 7, 15, 9, 15, 7, 7, 15, 16, 6, 9, 0, 7, 7, 9, 0, 15, 8, 9, 8, 4, 15, 7, 10, 8, 15, 15, 7, 9, 15, 9, 15, 16, 15, 9, 8, 7, 7, 8, 7, 7, 7, 18, 7, 3, 8, 9, 9, 8, 8, 11, 8, 8, 18, 18, 15, 15, 7, 8, 8, 19, 8, 7, 7, 9, 9, 15, 7, 8, 6, 15, 8, 13, 15, 18, 15, 7, 11, 18, 8, 15, 15, 19, 15, 8, 8, 8, 7, 15, 10, 15, 7, 8, 3, 15, 8, 0, 15, 7, 7, 18, 7, 8, 15, 8, 9, 9, 7, 18, 9, 7, 8, 13, 7, 15, 7, 17, 8, 7, 8, 7, 16, 9, 13, 15, 9, 3, 15, 7, 8, 9, 15, 10, 19, 9, 7, 19, 10, 13, 9, 11, 15, 7, 9, 9, 15, 9, 9, 9, 8, 9, 7, 9, 17, 9, 8, 6, 0, 14, 7, 4, 8, 19, 8, 15, 15, 6, 7, 10, 7, 18, 19, 7, 8, 8, 7, 8, 7, 0, 11, 7, 9, 8, 8, 18, 10, 15, 7, 9, 15, 15, 7, 6, 9, 8, 9, 9, 16, 9, 9, 8, 11, 6, 15, 7, 7, 7, 9, 18, 18, 7, 8, 15, 9, 9, 9, 8, 19, 19, 19, 6, 11, 0, 7, 15, 6, 7, 10, 8, 8, 8, 8, 7, 7, 6, 7, 7, 8, 8, 19, 9, 18, 13, 18, 7, 15, 8, 9, 8, 8, 6, 8, 15, 8, 3, 10, 8, 15, 15, 11, 18, 6, 11, 7, 7, 9, 9, 6, 7, 10, 18, 19, 7, 7, 15, 15, 9, 9, 7, 6, 9, 8, 9, 8, 18, 6, 6, 15, 13, 8, 9, 8, 8, 7, 7, 9, 15, 7, 0, 13, 8, 15, 16, 18, 8, 18, 7, 7, 15, 8, 7, 8, 11, 13, 9, 8, 18, 15, 7, 7, 15, 8, 13, 8, 7, 19, 15, 15, 7, 19, 0, 10, 11, 18, 8, 15, 7, 8, 7, 6, 15, 8, 15, 9, 18, 9, 8, 13, 16, 7, 7, 7, 6, 15, 8, 7, 7, 7, 7, 7, 7, 7, 11, 7, 9, 7, 9, 6, 15, 8, 9, 9, 6, 15, 7, 15, 9, 8, 18, 8, 9, 15, 17, 9, 9, 9, 11, 7, 7, 7, 18, 7, 7, 15, 9, 18, 7, 8, 8, 7, 8, 6, 7, 7, 8, 15, 11, 8, 7, 15, 8, 9, 18, 8, 18, 8, 15, 15, 7, 7, 7, 8, 7, 7, 16, 7, 7, 3, 7, 3, 8, 9, 13, 8, 14, 18, 9, 8, 13, 8, 18, 15, 15, 18, 11, 8, 9, 18, 15, 18, 11, 9, 8, 7, 8, 11, 7, 9, 6, 9, 7, 8, 7, 8, 8, 8, 6, 8, 7, 8, 15, 16, 7, 15, 3, 16, 7, 8, 15, 7, 8, 8, 8, 9, 19, 7, 9, 9, 7, 15, 9, 7, 18, 15, 6, 6, 8, 15, 15, 19, 7, 17, 8, 9, 15, 7, 7, 8, 15, 16, 7, 7, 15, 19, 8, 7, 18, 9, 9, 7, 8, 18, 8, 7, 8, 7, 15, 15, 15, 9, 15, 9, 8, 7, 7, 9, 19, 7, 18, 7, 8, 6, 18, 9, 15, 15, 7, 8, 15, 7, 7, 7, 16, 9, 7, 15, 15, 6, 15, 11, 7, 8, 8, 19, 15, 7, 7, 18, 7, 7, 13, 8, 15, 9, 6, 15, 8, 6, 8, 7, 8, 15, 7, 7, 15, 8, 8, 13, 8, 6, 11, 8, 9, 7, 18, 7, 7, 18, 8, 18, 15, 9, 15, 9, 15, 8, 7, 11, 7, 7, 8, 15, 8, 9, 15, 11, 8, 15, 3, 13, 9, 9, 7, 7, 14, 8, 7, 18, 7, 7, 7, 18, 15, 9, 9, 11, 15, 6, 13, 9, 16, 15, 7, 6, 7, 15, 15, 9, 11, 7, 6, 9, 6, 13, 11, 15, 7, 15, 15, 7, 14, 15, 7, 7, 15, 9, 13, 15, 7, 9, 15, 7, 9, 8, 8, 18, 6, 18, 15, 7, 9, 6, 9, 6, 17, 7, 8, 7, 6, 7, 7, 7, 15, 17, 9, 8, 18, 6, 7, 16, 8, 7, 19, 15, 9, 9, 6, 15, 15, 8, 7, 15, 8, 15, 11, 18, 11, 7, 16, 9, 7, 8, 9, 8, 18, 10, 18, 7, 7, 8, 6, 8, 7, 10, 15, 15, 15, 15, 9, 8, 18, 8, 8, 16, 6, 7, 9, 13, 11, 9, 18, 7, 11, 13, 15, 9, 15, 9, 9, 11, 8, 8, 17, 18, 15, 7, 7, 15, 8, 15, 7, 8, 9, 7, 9, 7, 15, 9, 7, 9, 7, 7, 15, 7, 7, 15, 15, 15, 8, 9, 7, 17, 13, 15, 11, 9, 19, 8, 9, 8, 7, 7, 9, 9, 15, 7, 7, 15, 6, 6, 18, 16, 6, 7, 7, 17, 13, 7, 7, 18, 9, 15, 7, 15, 9, 15, 8, 18, 7, 7, 16, 8, 8, 7, 9, 15, 16, 8, 8, 18, 7, 7, 18, 8, 18, 15, 11, 17, 13, 6, 15, 8, 6, 15, 15, 8, 7, 15, 9, 7, 7, 9, 8, 15, 10, 8, 8, 15, 9, 10, 20, 7, 8, 15, 6, 16, 7, 7, 9, 9, 7, 15, 11, 8, 9, 7, 11, 18, 7, 8, 15, 7, 8, 15, 10, 16, 8, 9, 7, 8, 13, 7, 7, 9, 8, 7, 8, 8, 7, 6, 15, 15, 9, 7, 7, 9, 7, 9, 8, 18, 11, 7, 7, 13, 15, 9, 15, 7, 7, 8, 15, 8, 6, 18, 7, 15, 15, 8, 15, 6, 15, 11, 11, 7, 8, 6, 9, 9, 7, 9, 18, 7, 18, 13, 6, 8, 15, 16, 7, 9, 7, 19, 18, 8, 15, 7, 15, 18, 7, 7, 18, 7, 15, 9, 9, 18, 3, 7, 15, 8, 7, 9, 7, 17, 7, 15, 16, 7, 9, 7, 9, 15, 6, 8, 9, 8, 7, 9, 9, 19, 18, 9, 8, 9, 8, 8, 19, 18, 8, 8, 14, 9, 9, 15, 8, 8, 15, 8, 7, 8, 8, 7, 18, 18, 8, 7, 15, 9, 8, 15, 0, 7, 14, 16, 7, 19, 18, 11, 7, 7, 18, 15, 15, 15, 15, 18, 8, 7, 9, 8, 7, 9, 15, 15, 8, 20, 8, 11, 10, 13, 15, 15, 7, 8, 9, 7, 11, 15, 9, 9, 15, 15, 15, 9, 18, 7, 16, 9, 7, 9, 7, 7, 8, 19, 9, 7, 8, 8, 8, 10, 7, 7, 8, 9, 18, 7, 9, 11, 15, 7, 8, 7, 6, 6, 7, 9, 6, 7, 8, 7, 13, 16, 18, 8, 8, 9, 8, 15, 7, 15, 18, 7, 15, 15, 8, 15, 7, 18, 7, 15, 15, 19, 7, 9, 7, 9, 7, 7, 18, 8, 15, 15, 9, 9, 15, 18, 3, 7, 17, 9, 7, 8, 8, 8, 9, 11, 8, 9, 7, 7, 8, 16, 19, 7, 7, 15, 13, 16, 7, 16, 19, 18, 8, 9, 15, 8, 9, 8, 11, 7, 7, 15, 8, 8, 8, 15, 7, 8, 7, 9, 8, 8, 18, 16, 9, 8, 7, 8, 9, 11, 8, 11, 7, 6, 7, 11, 19, 9, 8, 18, 7, 8, 8, 9, 9, 18, 8, 7, 18, 8, 8, 4, 9, 13, 15, 15, 6, 8, 19, 15, 8, 7, 15, 7, 11, 11, 7, 11, 8, 9, 8, 7, 15, 7, 15, 15, 15, 7, 8, 7, 7, 7, 15, 7, 15, 11, 7, 8, 8, 8, 18, 9, 15, 15, 7, 18, 18, 8, 7, 7, 8, 9, 7, 7, 3, 8, 9, 16, 15, 8, 7, 9, 9, 15, 7, 18, 10, 16, 18, 18, 7, 18, 7, 15, 15, 7, 7, 7, 11, 7, 6, 9, 7, 20, 3, 9, 7, 9, 15, 16, 7, 9, 7, 8, 11, 13, 18, 15, 6, 8, 6, 10, 6, 7, 6, 9, 15, 9, 7, 13, 17, 9, 15, 15, 6, 15, 18, 8, 15, 7, 10, 8, 7, 15, 7, 8, 9, 17, 18, 8, 17, 9, 16, 8, 7, 19, 3, 8, 8, 15, 7, 3, 7, 18, 13, 15, 8, 8, 9, 18, 9, 8, 8, 9, 8, 15, 9, 13, 6, 15, 6, 11, 7, 8, 7, 9, 9, 18, 7, 6, 9, 15, 18, 7, 15, 9, 8, 11, 7, 6, 13, 8, 8, 7, 9, 6, 9, 6, 7, 18, 8, 15, 16, 7, 15, 7, 8, 7, 7, 8, 15, 9, 8, 8, 7, 8, 15, 3, 15, 15, 15, 11, 6, 15, 8, 8, 7, 10, 8, 8, 9, 7, 8, 8, 15, 9, 7, 10, 15, 11, 7, 14, 9, 11, 7, 15, 8, 7, 15, 15, 9, 8, 8, 18, 8, 15, 11, 9, 10, 9, 9, 8, 18, 10, 15, 8, 8, 15, 9, 15, 7, 9, 8, 9, 18, 9, 3, 7, 8, 8, 7, 15, 8, 11, 7, 9, 9, 7, 15, 15, 8, 15, 9, 8, 15, 13, 15, 9, 7, 9, 15, 7, 7, 9, 15, 8, 15, 7, 15, 15, 9, 8, 15, 8, 7, 7, 15, 7, 11, 7, 7, 9, 8, 8, 6, 7, 11, 11, 6, 8, 18, 8, 10, 7, 8, 6, 9, 9, 8, 7, 7, 9, 18, 15, 7, 9, 8, 7, 9, 8, 8, 8, 7, 9, 15, 8, 9, 8, 7, 9, 11, 8, 9, 9, 9, 9, 11, 6, 7, 8, 7, 15, 7, 15, 7, 15, 9, 15, 18, 18, 7, 15, 7, 7, 7, 11, 9, 9, 9, 7, 8, 8, 8, 9, 7, 8, 18, 9, 8, 15, 17, 16, 7, 9, 8, 15, 10, 7, 15, 7, 7, 8, 10, 16, 7, 9, 15, 18, 7, 7, 7, 7, 8, 15, 9, 7, 15, 15, 8, 7, 7, 18, 16, 13, 8, 15, 16, 8, 8, 8, 7, 7, 15, 8, 16, 8, 8, 8, 7, 8, 15, 19, 11, 15, 15, 15, 7, 10, 9, 18, 15, 8, 8, 15, 3, 9, 9, 9, 7, 0, 15, 7, 18, 16, 8, 15, 16, 9, 18, 9, 19, 7, 7, 15, 15, 8, 9, 13, 6, 18, 15, 7, 7, 9, 8, 8, 18, 13, 15, 8, 8, 11, 3, 15, 15, 9, 9, 10, 6, 7, 6, 7, 11, 6, 7, 9, 8, 7, 9, 15, 8, 8, 7, 15, 15, 9, 13, 16, 16, 9, 8, 7, 16, 7, 8, 16, 0, 19, 7, 9, 9, 0, 7, 7, 8, 7, 7, 16, 15, 18, 8, 13, 7, 6, 11, 9, 15, 15, 9, 15, 7, 9, 11, 8, 7, 15, 15, 7, 9, 11, 16, 8, 8, 8, 9, 7, 11, 7, 15, 15, 11, 11, 7, 8, 7, 9, 8, 15, 8, 19, 9, 11, 9, 15, 9, 15, 10, 7, 6, 7, 15, 13, 8, 8, 9, 8, 7, 7, 10, 20, 7, 18, 15, 7, 18, 8, 17, 7, 13, 7, 8, 6, 9, 8, 10, 9, 7, 11, 8, 15, 9, 19, 19, 3, 18, 15, 15, 8, 7, 16, 7, 8, 15, 9, 15, 9, 18, 8, 18, 7, 7, 9, 8, 3, 7, 9, 15, 15, 7, 8, 13, 8, 7, 8, 7, 15, 9, 9, 19, 3, 9, 8, 6, 16, 8, 7, 15, 7, 15, 7, 9, 8, 3, 7, 8, 9, 7, 9, 15, 20, 9, 9, 6, 19, 11, 9, 8, 7, 10, 9, 7, 10, 7, 15, 6, 16, 16, 15, 3, 16, 7, 7, 7, 15, 7, 13, 8, 18, 7, 7, 9, 8, 19, 15, 16, 11, 8, 8, 7, 8, 8, 7, 9, 8, 7, 16, 18, 7, 18, 17, 7, 7, 9, 9, 15, 15, 15, 7, 8, 15, 9, 7, 7, 16, 9, 0, 9, 15, 6, 7, 7, 6, 11, 7, 8, 15, 7, 8, 18, 8, 19, 9, 8, 8, 8, 7, 8, 7, 15, 6, 17, 10, 9, 18, 9, 8, 15, 8, 7, 7, 7, 6, 9, 11, 7, 19, 7, 19, 8, 8, 7, 15, 7, 8, 8, 18, 7, 7, 7, 7, 15, 9, 16, 17, 7, 7, 10, 7, 15, 16, 7, 8, 18, 8, 19, 7, 16, 9, 18, 16, 9, 9, 9, 9, 7, 9, 19, 15, 7, 7, 15, 15, 7, 8, 7, 18, 6, 8, 15, 7, 9, 9, 7, 6, 9, 18, 8, 6, 9, 9, 15, 16, 7, 8, 15, 9, 19, 13, 15, 15, 13, 15, 8, 8, 18, 6, 8, 6, 8, 7, 9, 7, 7, 7, 8, 15, 7, 9, 9, 10, 8, 7, 17, 15, 15, 9, 7, 13, 8, 9, 6, 3, 7, 8, 15, 17, 9, 18, 18, 8, 9, 18, 8, 18, 7, 7, 7, 7, 7, 15, 7, 8, 15, 6, 11, 9, 9, 15, 7, 18, 14, 7, 15, 14, 7, 18, 8, 7, 15, 6, 3, 9, 7, 7, 15, 9, 8, 17, 13, 19, 9, 15, 10, 7, 7, 15, 4, 9, 9, 8, 3, 9, 6, 8, 6, 6, 7, 9, 7, 11, 15, 19, 18, 6, 6, 7, 8, 15, 9, 8, 9, 8, 9, 8, 9, 7, 17, 9, 9, 8, 7, 7, 15, 9, 8, 15, 10, 18, 9, 6, 7, 9, 8, 3, 7, 8, 6, 8, 7, 7, 16, 9, 8, 10, 9, 9, 6, 7, 15, 8, 15, 15, 8, 9, 15, 7, 18, 15, 9, 7, 19, 7, 9, 9, 7, 0, 7, 7, 9, 7, 8, 7, 8, 8, 11, 10, 7, 15, 7, 7, 15, 7, 9, 8, 7, 8, 15, 15, 15, 20, 9, 13, 15, 15, 6, 11, 10, 15, 15, 16, 17, 8, 9, 11, 8, 7, 15, 9, 7, 19, 7, 11, 7, 15, 16, 13, 10, 7, 15, 19, 7, 3, 8, 7, 11, 7, 9, 14, 8, 8, 8, 7, 11, 15, 8, 8, 9, 15, 7, 8, 9, 18, 20, 7, 18, 9, 15, 13, 8, 15, 9, 13, 14, 15, 15, 8, 6, 15, 15, 15, 6, 15, 15, 8, 8, 7, 15, 10, 8, 8, 7, 16, 13, 15, 7, 8, 18, 17, 7, 14, 18, 18, 7, 9, 8, 8, 7, 7, 9, 6, 15, 18, 8, 13, 8, 15, 9, 15, 15, 11, 9, 7, 8, 6, 15, 13, 18, 13, 16, 3, 8, 8, 15, 9, 7, 9, 10, 15, 7, 8, 8, 9, 15, 7, 9, 15, 8, 9, 9, 3, 8, 8, 7, 10, 15, 8, 7, 7, 8, 9, 9, 6, 7, 9, 8, 8, 8, 18, 15, 8, 15, 15, 13, 15, 8, 15, 7, 16, 7, 7, 8, 15, 7, 7, 9, 7, 9, 15, 3, 6, 8, 11, 7, 8, 15, 19, 8, 7, 7, 6, 8, 8, 19, 15, 7, 19, 8, 6, 8, 8, 7, 15, 9, 7, 9, 9, 15, 7, 7, 9, 8, 18, 16, 7, 18, 18, 7, 15, 8, 8, 13, 15, 18, 18, 8, 7, 15, 10, 7, 9, 6, 8, 0, 15, 9, 7, 17, 7, 8, 6, 9, 11, 13, 7, 7, 8, 15, 16, 15, 15, 9, 8, 3, 8, 15, 15, 15, 8, 11, 13, 15, 19, 8, 8, 7, 6, 15, 7, 15, 7, 16, 15, 8, 13, 8, 7, 19, 9, 8, 7, 8, 7, 15, 7, 15, 11, 7, 15, 8, 15, 8, 9, 9, 7, 6, 6, 13, 16, 19, 9, 7, 8, 13, 13, 8, 16, 7, 7, 7, 15, 7, 11, 11, 15, 8, 9, 9, 7, 7, 8, 7, 7, 7, 9, 7, 15, 7, 7, 8, 9, 7, 15, 7, 17, 7, 7, 9, 15, 11, 15, 9, 11, 8, 7, 8, 7, 9, 8, 15, 15, 7, 8, 15, 10, 8, 19, 16, 15, 9, 8, 9, 18, 18, 9, 9, 15, 9, 7, 13, 8, 15, 8, 8, 18, 9, 11, 7, 15, 15, 15, 8, 15, 7, 10, 15, 17, 8, 7, 17, 8, 6, 15, 18, 13, 15, 11, 7, 8, 15, 11, 7, 8, 7, 7, 9, 9, 15, 8, 9, 18, 9, 8, 9, 7, 15, 19, 7, 15, 8, 0, 15, 6, 6, 7, 7, 8, 7, 7, 9, 9, 9, 7, 19, 7, 6, 8, 15, 6, 7, 7, 7, 15, 7, 7, 15, 15, 15, 15, 7, 8, 9, 6, 7, 13, 6, 11, 7, 17, 7, 8, 18, 7, 8, 9, 7, 7, 7, 9, 8, 15, 9, 6, 15, 8, 15, 13, 9, 7, 10, 7, 15, 7, 7, 7, 3, 8, 7, 18, 9, 8, 9, 15, 15, 8, 7, 15, 7, 7, 15, 7, 7, 18, 15, 9, 15, 15, 7, 7, 8, 17, 9, 8, 8, 0, 15, 15, 18, 8, 8, 15, 6, 7, 0, 9, 15, 8, 7, 7, 8, 15, 15, 13, 15, 15, 13, 8, 13, 13, 15, 8, 8, 8, 3, 7, 15, 18, 15, 8, 6, 10, 3, 6, 20, 8, 9, 8, 11, 15, 15, 7, 10, 4, 11, 8, 7, 13, 9, 13, 8, 0, 7, 19, 15, 8, 18, 7, 9, 19, 7, 11, 15, 15, 15, 7, 9, 9, 8, 8, 15, 15, 9, 7, 8, 15, 11, 13, 8, 15, 15, 11, 18, 7, 15, 6, 9, 18, 3, 7, 9, 15, 8, 16, 8, 9, 7, 16, 9, 8, 17, 16, 6, 15, 18, 15, 16, 10, 15, 15, 7, 7, 3, 7, 15, 19, 8, 6, 7, 9, 6, 8, 8, 8, 9, 8, 6, 10, 15, 9, 8, 7, 15, 18, 15, 16, 8, 15, 15, 10, 8, 16, 8, 8, 7, 7, 9, 18, 13, 11, 19, 3, 7, 13, 8, 7, 9, 15, 7, 7, 15, 15, 18, 9, 11, 9, 9, 7, 16, 7, 7, 7, 0, 18, 8, 9, 10, 9, 9, 9, 9, 16, 8, 15, 7, 16, 8, 18, 8, 6, 7, 9, 16, 0, 9, 13, 7, 7, 9, 9, 11, 8, 10, 7, 17, 13, 15, 15, 15, 8, 9, 19, 11, 9, 7, 8, 7, 11, 15, 8, 9, 7, 13, 9, 7, 15, 10, 8, 16, 9, 8, 8, 7, 9, 7, 8, 7, 7, 15, 8, 16, 15, 9, 7, 8, 15, 9, 15, 7, 7, 9, 19, 7, 7, 8, 9, 9, 7, 15, 9, 9, 15, 7, 15, 11, 15, 9, 15, 10, 7, 14, 15, 18, 15, 8, 11, 9, 18, 7, 11, 15, 6, 8, 7, 7, 8, 15, 15, 7, 16, 7, 10, 13, 8, 15, 8, 6, 10, 13, 8, 8, 19, 15, 10, 7, 18, 8, 9, 8, 9, 7, 11, 7, 3, 7, 8, 15, 8, 6, 6, 6, 8, 15, 15, 7, 9, 8, 8, 3, 8, 15, 0, 8, 19, 9, 15, 8, 8, 7, 9, 7, 6, 7, 16, 8, 7, 15, 7, 7, 7, 7, 8, 8, 7, 7, 9, 7, 15, 8, 13, 0, 15, 18, 9, 8, 16, 7, 8, 7, 12, 7, 9, 15, 8, 8, 17, 15, 15, 9, 7, 8, 8, 6, 16, 15, 7, 17, 10, 7, 9, 9, 18, 8, 10, 15, 15, 8, 4, 15, 9, 16, 9, 15, 18, 9, 15, 9, 9, 7, 15, 9, 7, 4, 7, 17, 9, 9, 7, 6, 8, 18, 16, 9, 11, 16, 15, 8, 18, 8, 15, 15, 8, 10, 19, 15, 15, 15, 7, 8, 7, 15, 7, 15, 7, 8, 9, 7, 9, 13, 18, 8, 7, 15, 8, 8, 7, 13, 18, 8, 11, 15, 8, 9, 8, 15, 18, 7, 9, 8, 15, 13, 15, 7, 11, 6, 13, 8, 8, 7, 8, 8, 7, 13, 7, 13, 8, 8, 7, 19, 15, 8, 16, 8, 8, 7, 8, 8, 20, 3, 11, 9, 9, 7, 8, 15, 15, 15, 8, 7, 19, 7, 6, 8, 9, 7, 9, 7, 7, 16, 9, 6, 17, 16, 11, 9, 7, 7, 13, 16, 9, 18, 11, 3, 7, 8, 8, 8, 15, 17, 11, 8, 9, 8, 7, 8, 9, 18, 15, 8, 7, 9, 8, 9, 9, 8, 18, 7, 7, 7, 7, 8, 8, 15, 9, 7, 11, 18, 9, 9, 7, 9, 8, 18, 18, 9, 7, 18, 18, 7, 7, 7, 9, 8, 8, 15, 15, 8, 16, 7, 16, 15, 7, 9, 15, 11, 20, 8, 11, 7, 8, 9, 7, 9, 15, 0, 16, 7, 9, 8, 8, 16, 3, 15, 15, 15, 15, 11, 8, 9, 9, 8, 9, 15, 7, 9, 15, 18, 8, 15, 9, 8, 11, 8, 15, 0, 7, 13, 14, 15, 8, 9, 16, 9, 6, 9, 9, 7, 15, 13, 8, 15, 18, 7, 9, 16, 8, 8, 18, 20, 7, 15, 8, 19, 19, 15, 8, 9, 7, 16, 9, 6, 18, 7, 15, 8, 6, 15, 7, 15, 15, 15, 18, 7, 7, 8, 18, 15, 7, 9, 15, 9, 7, 8, 12, 7, 7, 7, 7, 7, 7, 8, 9, 10, 15, 15, 9, 8, 17, 8, 8, 8, 9, 7, 18, 9, 9, 7, 9, 9, 0, 16, 9, 8, 7, 7, 7, 7, 7, 9, 8, 15, 9, 15, 7, 13, 13, 15, 15, 7, 18, 8, 8, 9, 8, 18, 18, 6, 8, 9, 15, 7, 6, 7, 9, 7, 18, 15, 9, 7, 3, 8, 8, 7, 11, 15, 15, 8, 7, 7, 8, 15, 9, 7, 9, 8, 11, 15, 13, 15, 9, 9, 8, 8, 10, 9, 9, 7, 18, 8, 15, 16, 15, 3, 15, 15, 19, 9, 9, 7, 7, 8, 7, 15, 8, 6, 11, 15, 7, 7, 15, 9, 15, 8, 0, 15, 7, 15, 8, 7, 6, 15, 18, 14, 17, 8, 15, 15, 8, 18, 7, 15, 3, 9, 17, 15, 15, 7, 15, 19, 8, 6, 18, 9, 15, 7, 7, 6, 8, 15, 8, 10, 18, 15, 3, 7, 15, 15, 14, 7, 13, 7, 15, 7, 8, 18, 8, 7, 18, 9, 7, 13, 11, 7, 7, 9, 9, 9, 3, 7, 3, 7, 15, 10, 7, 15, 10, 8, 7, 8, 9, 16, 7, 11, 10, 9, 13, 3, 9, 7, 15, 18, 9, 16, 8, 8, 18, 8, 15, 15, 11, 13, 7, 6, 17, 7, 18, 8, 8, 9, 7, 7, 6, 6, 13, 15, 15, 7, 7, 8, 15, 17, 9, 8, 7, 19, 7, 7, 11, 8, 6, 7, 18, 15, 13, 18, 15, 7, 9, 15, 15, 9, 8, 16, 13, 8, 7, 9, 15, 13, 7, 9, 15, 20, 16, 19, 8, 15, 7, 19, 9, 9, 7, 16, 7, 7, 7, 15, 15, 7, 7, 18, 6, 8, 9, 15, 9, 15, 8, 11, 15, 17, 8, 8, 15, 0, 7, 19, 9, 7, 18, 8, 6, 9, 11, 8, 7, 10, 7, 9, 6, 8, 9, 7, 15, 7, 7, 15, 13, 18, 7, 8, 7, 10, 9, 8, 8, 8, 18, 15, 9, 18, 9, 8, 0, 8, 7, 15, 15, 15, 7, 8, 15, 13, 10, 15, 9, 10, 11, 9, 9, 19, 19, 9, 8, 8, 9, 7, 14, 18, 7, 15, 18, 11, 19, 15, 7, 9, 7, 7, 15, 8, 15, 3, 9, 15, 8, 15, 9, 18, 15, 15, 7, 6, 7, 7, 6, 7, 15, 7, 11, 9, 15, 9, 7, 8, 9, 15, 15, 9, 8, 7, 8, 8, 16, 15, 11, 7, 9, 15, 9, 13, 9, 7, 9, 13, 15, 7, 16, 9, 7, 8, 9, 7, 7, 15, 6, 7, 6, 9, 7, 16, 15, 7, 9, 18, 9, 7, 9, 15, 15, 7, 9, 11, 11, 8, 6, 18, 7, 8, 16, 10, 9, 13, 8, 18, 9, 9, 9, 13, 18, 7, 7, 8, 7, 16, 7, 15, 6, 8, 9, 20, 8, 10, 7, 9, 9, 9, 7, 15, 16, 15, 8, 7, 7, 7, 9, 7, 8, 8, 8, 7, 9, 7, 15, 8, 15, 9, 9, 7, 15, 15, 13, 13, 8, 7, 7, 7, 15, 7, 18, 9, 15, 9, 9, 6, 7, 8, 7, 18, 16, 8, 8, 6, 8, 8, 7, 8, 7, 15, 15, 15, 15, 9, 18, 15, 11, 8, 8, 9, 15, 8, 7, 9, 7, 9, 8, 15, 7, 7, 13, 7, 8, 19, 7, 9, 15, 7, 9, 7, 6, 8, 8, 15, 6, 15, 8, 7, 15, 18, 7, 7, 7, 6, 9, 7, 9, 18, 18, 15, 9, 8, 15, 15, 7, 8, 15, 15, 16, 7, 8, 7, 9, 15, 11, 16, 9, 6, 16, 18, 7, 9, 15, 7, 9, 9, 7, 18, 15, 18, 8, 7, 7, 7, 15, 8, 15, 8, 15, 9, 8, 18, 15, 15, 8, 15, 15, 6, 8, 9, 10, 10, 6, 11, 7, 7, 7, 16, 18, 7, 8, 8, 7, 15, 8, 15, 7, 6, 8, 7, 8, 7, 7, 15, 15, 9, 9, 15, 7, 18, 9, 7, 9, 8, 9, 8, 15, 18, 7, 15, 8, 9, 8, 15, 18, 7, 8, 15, 7, 11, 9, 0, 8, 9, 8, 8, 19, 7, 6, 11, 7, 7, 11, 16, 8, 7, 18, 8, 7, 9, 7, 11, 7, 15, 18, 6, 15, 7, 18, 9, 6, 8, 15, 9, 7, 8, 13, 8, 7, 8, 7, 15, 13, 7, 18, 6, 7, 3, 7, 8, 7, 8, 3, 9, 7, 9, 8, 8, 9, 9, 17, 15, 8, 18, 7, 9, 6, 8, 7, 16, 11, 9, 13, 7, 7, 15, 15, 7, 7, 15, 15, 3, 9, 7, 8, 9, 9, 9, 8, 9, 19, 15, 8, 7, 15, 19, 15, 9, 7, 7, 0, 7, 13, 9, 6, 7, 9, 9, 4, 7, 6, 11, 9, 3, 15, 8, 15, 9, 8, 8, 10, 20, 7, 8, 15, 18, 3, 8, 8, 7, 8, 15, 7, 8, 9, 9, 15, 8, 7, 9, 15, 9, 17, 18, 7, 11, 8, 9, 15, 7, 15, 8, 7, 7, 8, 8, 15, 8, 7, 18, 15, 7, 7, 16, 7, 7, 7, 18, 8, 7, 9, 15, 15, 7, 8, 15, 18, 17, 15, 6, 7, 11, 15, 7, 16, 7, 8, 19, 15, 0, 8, 9, 8, 7, 15, 8, 16, 8, 7, 8, 7, 16, 15, 8, 3, 11, 8, 6, 7, 8, 7, 10, 18, 7, 7, 15, 15, 18, 6, 8, 9, 8, 9, 11, 18, 9, 8, 9, 9, 15, 15, 7, 15, 11, 8, 9, 8, 8, 8, 9, 9, 6, 15, 8, 7, 9, 7, 11, 7, 8, 15, 9, 15, 7, 15, 8, 13, 15, 13, 15, 15, 15, 8, 15, 13, 8, 8, 13, 15, 8, 8, 10, 7, 8, 0, 6, 15, 7, 13, 6, 9, 8, 9, 9, 7, 7, 15, 15, 15, 18, 9, 16, 6, 11, 7, 18, 7, 7, 10, 18, 7]\n"
     ]
    }
   ],
   "source": [
    "y_pred_Test =[]\n",
    "for i in Y_pred_test:\n",
    "    y_pred_Test.append(np.argmax(i))\n",
    "\n",
    "print(y_pred_Test)"
   ]
  },
  {
   "cell_type": "code",
   "execution_count": 34,
   "metadata": {},
   "outputs": [
    {
     "name": "stdout",
     "output_type": "stream",
     "text": [
      "[[4.30323358e-04 9.38146608e-04 5.65186419e-05 1.71104865e-03\n",
      "  6.50398084e-04 2.19328649e-06 4.89805185e-04 9.46420789e-01\n",
      "  7.71990232e-03 3.52771394e-03 1.15728093e-04 2.00843858e-03\n",
      "  5.23748386e-05 2.75792081e-05 7.65851839e-03 1.64793134e-02\n",
      "  8.93036951e-04 1.41648334e-05 2.21885479e-04 4.59417497e-05\n",
      "  1.05362842e-02]\n",
      " [7.28673348e-03 2.21177028e-03 3.46671644e-04 5.28032985e-03\n",
      "  1.28936814e-03 2.94689293e-04 3.98191530e-03 1.12594031e-01\n",
      "  2.31752262e-01 5.00374258e-01 4.55054641e-03 8.93552881e-03\n",
      "  1.11102313e-03 2.75626837e-04 3.13150287e-02 3.49213667e-02\n",
      "  2.68144943e-02 2.02805176e-03 9.41907428e-03 1.83833181e-03\n",
      "  1.33788409e-02]\n",
      " [9.16828774e-03 3.00551619e-04 1.97770023e-05 7.59764633e-04\n",
      "  1.78857939e-04 1.31764837e-05 1.61921745e-03 7.32899845e-01\n",
      "  6.34759665e-02 6.90279976e-02 2.28097269e-04 1.06670614e-03\n",
      "  7.21649994e-05 2.02557731e-05 3.82791162e-02 1.77775882e-02\n",
      "  2.65835691e-02 5.38754102e-04 1.08570547e-03 9.23220243e-04\n",
      "  3.59613672e-02]\n",
      " [2.88485880e-09 1.22543625e-07 1.31643828e-04 2.01876063e-08\n",
      "  1.66757090e-05 1.67979081e-07 2.92408629e-07 9.29201851e-05\n",
      "  1.02564991e-06 1.85278418e-06 2.42513324e-05 1.41976489e-06\n",
      "  1.18813805e-05 6.17445529e-01 5.93260800e-08 3.82268250e-01\n",
      "  2.08544392e-07 1.99843228e-07 2.77018989e-06 5.80577534e-07\n",
      "  4.75805493e-08]\n",
      " [1.20032416e-03 4.38613817e-03 8.11318692e-04 2.69741402e-03\n",
      "  8.43245629e-03 5.13826308e-05 1.40569068e-03 2.72588938e-01\n",
      "  1.39574874e-02 2.09802702e-01 2.66020074e-02 7.72899855e-03\n",
      "  1.11817820e-02 2.64836382e-03 1.17154242e-02 1.91297736e-02\n",
      "  2.44972273e-03 3.46035900e-04 3.82659912e-01 1.21079795e-02\n",
      "  8.09614081e-03]]\n"
     ]
    }
   ],
   "source": [
    "Y_pred = model.predict(padded_docs_Test)\n",
    "print(Y_pred[0:5])"
   ]
  },
  {
   "cell_type": "code",
   "execution_count": 35,
   "metadata": {},
   "outputs": [
    {
     "data": {
      "text/plain": [
       "numpy.ndarray"
      ]
     },
     "execution_count": 35,
     "metadata": {},
     "output_type": "execute_result"
    }
   ],
   "source": [
    "type(Y_pred)"
   ]
  },
  {
   "cell_type": "code",
   "execution_count": 36,
   "metadata": {},
   "outputs": [
    {
     "name": "stdout",
     "output_type": "stream",
     "text": [
      "[7, 9, 7, 13, 18, 7, 7, 8, 16, 7, 8, 8, 6, 6, 9, 15, 7, 11, 6, 7, 7, 7, 15, 9, 18, 11, 15, 18, 9, 7, 9, 7, 18, 18, 9, 13, 10, 8, 15, 9, 7, 6, 18, 7, 15, 7, 8, 19, 8, 9, 4, 7, 9, 15, 15, 7, 9, 8, 9, 7, 8, 15, 9, 3, 15, 18, 8, 13, 7, 18, 7, 16, 15, 16, 7, 7, 8, 8, 6, 8, 7, 9, 15, 7, 9, 9, 15, 19, 15, 18, 7, 18, 17, 7, 15, 8, 7, 18, 8, 7, 9, 15, 8, 15, 15, 15, 9, 15, 10, 8, 9, 8, 7, 7, 7, 15, 10, 7, 8, 10, 8, 9, 7, 8, 7, 8, 6, 8, 7, 15, 18, 9, 16, 3, 15, 9, 9, 17, 3, 8, 8, 18, 7, 11, 13, 15, 8, 15, 17, 7, 9, 9, 15, 15, 7, 18, 15, 15, 7, 9, 19, 15, 8, 3, 3, 7, 15, 7, 8, 18, 8, 7, 18, 11, 11, 11, 10, 8, 18, 8, 8, 8, 15, 7, 9, 9, 8, 7, 7, 7, 9, 8, 7, 15, 8, 7, 7, 8, 9, 10, 7, 15, 8, 9, 7, 6, 15, 6, 10, 7, 15, 6, 18, 9, 18, 15, 8, 15, 8, 6, 13, 8, 15, 8, 6, 9, 11, 9, 7, 7, 11, 19, 8, 11, 7, 7, 7, 8, 15, 15, 9, 15, 10, 19, 6, 15, 9, 7, 13, 9, 15, 15, 9, 8, 7, 9, 7, 7, 6, 7, 8, 7, 7, 7, 3, 17, 16, 7, 15, 7, 9, 7, 7, 10, 13, 18, 7, 6, 13, 8, 8, 9, 9, 18, 11, 9, 15, 9, 7, 6, 7, 9, 11, 15, 7, 9, 15, 18, 10, 15, 7, 6, 16, 15, 9, 13, 6, 15, 15, 9, 7, 18, 9, 9, 8, 9, 16, 7, 8, 7, 9, 7, 8, 16, 16, 7, 15, 18, 8, 7, 8, 18, 7, 18, 7, 7, 15, 8, 9, 18, 7, 15, 7, 9, 19, 15, 7, 13, 7, 15, 6, 9, 7, 7, 8, 10, 15, 8, 18, 7, 8, 7, 7, 15, 9, 9, 10, 9, 9, 9, 8, 18, 18, 9, 8, 7, 7, 15, 7, 15, 15, 8, 7, 8, 15, 15, 7, 0, 8, 8, 15, 9, 9, 7, 9, 8, 9, 9, 16, 15, 8, 15, 8, 8, 8, 13, 7, 9, 7, 8, 9, 9, 7, 7, 11, 7, 9, 6, 7, 9, 11, 15, 8, 11, 8, 15, 9, 7, 8, 9, 20, 8, 19, 11, 7, 7, 8, 3, 18, 9, 15, 8, 15, 7, 7, 7, 6, 7, 11, 11, 7, 7, 8, 8, 15, 7, 19, 7, 3, 18, 16, 8, 19, 8, 8, 15, 9, 19, 8, 7, 7, 7, 15, 13, 9, 9, 7, 9, 8, 11, 9, 7, 19, 7, 15, 8, 8, 7, 9, 15, 7, 8, 15, 15, 8, 16, 8, 15, 7, 15, 7, 9, 18, 7, 15, 8, 9, 11, 7, 7, 9, 11, 7, 7, 15, 6, 19, 9, 13, 7, 8, 9, 16, 8, 7, 15, 18, 11, 8, 8, 19, 18, 3, 18, 15, 9, 9, 8, 8, 11, 9, 7, 7, 7, 9, 9, 3, 9, 7, 10, 13, 7, 7, 11, 6, 7, 7, 9, 10, 11, 11, 18, 11, 11, 8, 7, 7, 18, 18, 8, 18, 7, 7, 9, 7, 11, 9, 6, 6, 9, 18, 8, 7, 10, 8, 15, 6, 6, 6, 9, 18, 16, 15, 8, 8, 10, 3, 8, 7, 8, 6, 7, 15, 15, 7, 9, 10, 15, 7, 15, 11, 19, 8, 15, 18, 15, 9, 7, 8, 9, 15, 9, 7, 7, 15, 13, 7, 15, 15, 9, 9, 8, 7, 15, 7, 7, 16, 9, 3, 7, 0, 9, 15, 13, 6, 7, 11, 8, 7, 6, 3, 18, 7, 8, 9, 7, 15, 11, 8, 8, 17, 9, 3, 17, 18, 11, 15, 18, 8, 7, 15, 15, 13, 15, 8, 7, 7, 9, 8, 17, 9, 7, 15, 8, 8, 8, 15, 7, 18, 16, 9, 9, 7, 15, 8, 11, 20, 8, 18, 9, 7, 9, 11, 13, 7, 10, 7, 13, 7, 9, 8, 9, 7, 8, 8, 8, 11, 8, 16, 7, 8, 9, 16, 16, 7, 18, 7, 6, 8, 15, 7, 7, 9, 6, 8, 8, 7, 15, 7, 7, 7, 7, 7, 9, 8, 15, 15, 8, 15, 15, 7, 8, 7, 10, 9, 7, 8, 8, 8, 7, 7, 15, 9, 15, 7, 7, 8, 7, 7, 7, 7, 7, 9, 9, 8, 15, 7, 9, 7, 6, 7, 8, 9, 8, 8, 9, 7, 9, 7, 8, 9, 15, 7, 9, 15, 15, 16, 17, 7, 7, 9, 8, 18, 7, 7, 8, 9, 6, 7, 8, 8, 18, 6, 15, 8, 7, 16, 7, 8, 9, 7, 8, 11, 15, 8, 7, 7, 9, 15, 7, 8, 9, 7, 7, 9, 8, 11, 7, 19, 9, 8, 18, 8, 16, 16, 9, 8, 6, 8, 17, 8, 7, 9, 8, 10, 17, 15, 7, 8, 7, 7, 15, 6, 15, 7, 7, 7, 7, 9, 17, 15, 11, 11, 0, 8, 15, 7, 11, 7, 17, 18, 13, 8, 7, 18, 9, 9, 15, 8, 8, 13, 18, 7, 11, 8, 15, 15, 8, 8, 11, 9, 7, 6, 7, 9, 8, 15, 9, 9, 16, 7, 16, 8, 8, 7, 15, 9, 18, 7, 8, 8, 19, 0, 6, 7, 8, 7, 7, 7, 9, 7, 15, 8, 15, 18, 8, 7, 8, 13, 7, 9, 8, 7, 18, 7, 7, 10, 15, 9, 15, 7, 9, 15, 6, 15, 15, 17, 9, 8, 7, 13, 8, 15, 7, 7, 8, 7, 9, 8, 9, 16, 9, 10, 13, 18, 8, 7, 3, 7, 7, 7, 8, 10, 7, 9, 7, 18, 9, 19, 13, 7, 8, 9, 7, 9, 15, 8, 18, 7, 9, 8, 8, 18, 15, 7, 15, 7, 15, 9, 9, 15, 15, 15, 8, 9, 7, 15, 8, 7, 20, 9, 9, 7, 8, 7, 6, 6, 13, 9, 8, 9, 6, 7, 7, 15, 7, 8, 7, 15, 9, 7, 8, 8, 15, 15, 8, 9, 8, 15, 6, 8, 7, 15, 18, 7, 10, 18, 19, 8, 9, 9, 9, 7, 7, 11, 9, 7, 13, 8, 8, 15, 7, 3, 6, 15, 19, 8, 9, 7, 18, 17, 7, 9, 8, 6, 7, 18, 8, 7, 15, 15, 19, 15, 7, 15, 6, 9, 13, 6, 19, 15, 8, 8, 7, 7, 7, 8, 15, 13, 18, 13, 8, 8, 19, 8, 0, 7, 15, 15, 9, 9, 6, 8, 7, 6, 7, 8, 8, 7, 9, 18, 9, 8, 8, 8, 8, 18, 8, 9, 15, 8, 11, 9, 8, 8, 7, 13, 7, 7, 9, 9, 9, 8, 9, 9, 8, 8, 8, 11, 7, 7, 7, 9, 15, 7, 7, 8, 8, 8, 7, 7, 8, 7, 15, 7, 9, 8, 15, 9, 15, 8, 8, 9, 15, 8, 15, 15, 7, 10, 9, 13, 9, 13, 9, 7, 8, 8, 15, 15, 8, 15, 6, 9, 15, 8, 8, 8, 9, 20, 8, 9, 9, 15, 8, 15, 9, 8, 15, 8, 16, 15, 19, 6, 8, 11, 9, 8, 9, 15, 7, 8, 9, 18, 18, 15, 9, 7, 15, 7, 18, 8, 15, 7, 7, 6, 9, 8, 15, 9, 6, 11, 7, 16, 11, 9, 7, 9, 9, 7, 10, 15, 6, 8, 18, 10, 7, 8, 7, 16, 9, 8, 8, 10, 8, 8, 8, 7, 19, 8, 13, 8, 9, 6, 15, 8, 7, 7, 18, 15, 7, 6, 8, 8, 15, 18, 15, 13, 6, 15, 9, 8, 8, 0, 9, 7, 18, 18, 7, 8, 9, 7, 7, 18, 8, 15, 15, 9, 8, 18, 8, 6, 6, 13, 19, 7, 15, 7, 19, 11, 8, 15, 8, 18, 15, 7, 7, 6, 9, 8, 3, 20, 8, 6, 9, 8, 3, 8, 9, 18, 10, 8, 9, 18, 9, 7, 15, 7, 19, 8, 9, 8, 8, 6, 6, 8, 18, 7, 8, 9, 7, 18, 6, 18, 7, 11, 9, 15, 9, 7, 7, 7, 8, 8, 8, 9, 15, 15, 9, 7, 8, 13, 15, 3, 9, 10, 11, 6, 18, 7, 7, 9, 8, 7, 15, 8, 18, 15, 7, 9, 7, 8, 15, 15, 8, 8, 13, 9, 18, 8, 7, 16, 9, 16, 7, 16, 7, 8, 6, 16, 11, 15, 18, 15, 9, 6, 15, 7, 15, 9, 0, 7, 18, 6, 7, 16, 9, 8, 8, 9, 10, 7, 9, 7, 18, 6, 7, 11, 8, 15, 16, 8, 7, 18, 8, 6, 9, 14, 8, 15, 8, 11, 3, 7, 9, 9, 9, 6, 8, 9, 13, 7, 7, 8, 0, 8, 4, 9, 15, 15, 8, 8, 15, 8, 8, 15, 9, 8, 18, 10, 8, 7, 9, 15, 11, 8, 7, 8, 9, 8, 15, 8, 8, 15, 7, 8, 15, 11, 9, 7, 11, 8, 8, 7, 7, 18, 15, 18, 10, 9, 15, 8, 7, 10, 9, 7, 18, 15, 9, 7, 15, 15, 8, 15, 7, 7, 8, 15, 9, 13, 7, 6, 17, 15, 8, 8, 10, 7, 7, 7, 9, 15, 18, 7, 9, 6, 8, 15, 8, 6, 15, 16, 7, 7, 18, 8, 15, 6, 8, 8, 6, 9, 9, 7, 8, 18, 15, 9, 18, 7, 9, 7, 15, 8, 15, 15, 3, 13, 18, 7, 15, 15, 15, 15, 10, 18, 8, 15, 8, 15, 9, 7, 15, 11, 9, 9, 16, 9, 8, 6, 7, 7, 7, 15, 7, 15, 7, 9, 8, 13, 18, 7, 15, 7, 9, 9, 15, 7, 13, 8, 6, 9, 9, 9, 7, 9, 7, 15, 7, 16, 6, 15, 9, 0, 11, 19, 13, 7, 15, 7, 9, 9, 7, 15, 7, 16, 6, 7, 7, 7, 9, 15, 11, 10, 8, 7, 8, 8, 7, 16, 6, 7, 8, 13, 8, 9, 15, 10, 9, 8, 6, 7, 8, 10, 9, 11, 8, 9, 7, 18, 7, 15, 8, 18, 9, 18, 9, 8, 7, 18, 8, 8, 15, 15, 17, 7, 7, 8, 6, 7, 11, 7, 9, 13, 9, 7, 8, 8, 15, 3, 8, 15, 9, 9, 18, 7, 15, 8, 8, 18, 7, 19, 18, 7, 7, 9, 15, 7, 8, 7, 7, 20, 15, 18, 9, 7, 7, 9, 7, 15, 15, 7, 8, 9, 9, 7, 7, 17, 9, 9, 11, 11, 15, 9, 8, 8, 7, 15, 8, 15, 6, 16, 8, 7, 8, 8, 8, 4, 8, 7, 16, 9, 7, 19, 8, 18, 13, 8, 9, 8, 9, 7, 7, 8, 6, 6, 13, 11, 9, 9, 9, 15, 7, 6, 8, 17, 7, 7, 18, 7, 13, 7, 19, 7, 15, 20, 8, 0, 7, 18, 18, 18, 7, 16, 15, 15, 7, 8, 15, 3, 7, 15, 15, 15, 9, 8, 18, 9, 7, 9, 3, 15, 15, 15, 13, 7, 7, 7, 15, 8, 9, 8, 8, 15, 9, 13, 9, 9, 8, 13, 15, 11, 9, 7, 15, 15, 7, 9, 9, 10, 7, 8, 13, 8, 0, 20, 7, 8, 9, 6, 7, 7, 7, 6, 10, 18, 8, 8, 11, 6, 8, 13, 7, 15, 18, 7, 9, 9, 9, 8, 18, 11, 13, 9, 15, 9, 15, 8, 13, 17, 19, 17, 13, 10, 13, 7, 18, 9, 7, 8, 15, 7, 18, 9, 7, 15, 19, 8, 13, 9, 8, 9, 15, 7, 7, 8, 8, 18, 7, 9, 7, 16, 15, 8, 7, 9, 8, 8, 7, 16, 6, 8, 7, 0, 7, 13, 7, 8, 8, 16, 10, 16, 3, 11, 15, 7, 8, 10, 6, 15, 9, 11, 13, 8, 9, 15, 13, 13, 19, 7, 9, 15, 8, 7, 7, 10, 9, 11, 9, 8, 19, 7, 9, 7, 17, 13, 7, 13, 8, 6, 6, 6, 9, 9, 7, 15, 9, 8, 8, 8, 9, 15, 11, 7, 18, 7, 15, 7, 11, 9, 18, 15, 7, 7, 7, 7, 8, 16, 17, 9, 8, 8, 11, 8, 15, 11, 8, 13, 15, 8, 18, 9, 20, 7, 15, 3, 9, 7, 6, 4, 7, 14, 15, 8, 16, 10, 8, 8, 8, 15, 9, 15, 10, 7, 7, 8, 15, 9, 7, 7, 7, 7, 8, 13, 8, 15, 18, 15, 7, 8, 9, 9, 18, 7, 8, 18, 8, 9, 18, 17, 15, 8, 9, 19, 15, 7, 15, 8, 8, 9, 11, 8, 7, 7, 11, 8, 7, 15, 15, 9, 15, 15, 7, 7, 15, 8, 7, 15, 7, 8, 13, 9, 9, 6, 3, 16, 8, 17, 6, 15, 9, 15, 9, 9, 8, 15, 7, 18, 7, 8, 7, 7, 7, 15, 16, 15, 8, 8, 7, 6, 16, 8, 7, 16, 7, 11, 15, 9, 9, 16, 8, 8, 10, 7, 8, 11, 7, 9, 9, 10, 8, 8, 7, 9, 19, 7, 9, 7, 10, 8, 7, 8, 16, 7, 8, 7, 15, 6, 15, 7, 9, 15, 8, 6, 18, 13, 9, 15, 9, 17, 15, 9, 7, 8, 15, 7, 8, 15, 15, 8, 7, 8, 15, 7, 9, 7, 8, 7, 7, 9, 8, 15, 15, 8, 9, 0, 9, 7, 17, 19, 15, 15, 18, 9, 1, 8, 16, 7, 8, 7, 7, 8, 17, 9, 15, 7, 8, 15, 15, 15, 9, 15, 8, 7, 15, 11, 18, 16, 7, 6, 6, 16, 9, 18, 18, 7, 8, 9, 8, 8, 7, 15, 15, 19, 9, 15, 15, 9, 10, 18, 18, 15, 16, 7, 7, 3, 8, 15, 7, 7, 10, 13, 15, 6, 9, 9, 18, 9, 9, 6, 8, 15, 8, 11, 15, 15, 7, 19, 9, 9, 16, 9, 6, 9, 15, 7, 11, 7, 8, 15, 10, 9, 4, 7, 8, 10, 15, 9, 15, 6, 16, 15, 8, 10, 16, 18, 9, 15, 9, 8, 8, 7, 6, 9, 3, 6, 7, 15, 15, 9, 7, 18, 7, 15, 8, 7, 7, 9, 7, 9, 15, 15, 8, 7, 9, 6, 7, 13, 7, 8, 9, 4, 8, 18, 11, 15, 7, 8, 9, 8, 8, 8, 7, 9, 16, 7, 10, 8, 7, 15, 6, 18, 18, 8, 11, 8, 9, 8, 8, 19, 6, 7, 9, 9, 9, 8, 7, 15, 15, 7, 9, 15, 6, 7, 15, 8, 8, 15, 8, 15, 7, 6, 15, 7, 8, 14, 7, 8, 7, 6, 8, 7, 7, 15, 6, 8, 7, 6, 7, 8, 13, 7, 7, 3, 6, 8, 8, 8, 15, 8, 6, 18, 13, 15, 8, 13, 15, 9, 9, 15, 18, 9, 15, 15, 16, 3, 15, 7, 9, 15, 15, 9, 15, 9, 8, 11, 7, 7, 7, 9, 8, 15, 6, 7, 15, 18, 16, 6, 8, 16, 8, 8, 15, 9, 7, 7, 8, 8, 11, 7, 15, 7, 7, 9, 7, 7, 15, 8, 7, 7, 7, 8, 18, 7, 8, 7, 9, 7, 7, 8, 15, 8, 15, 18, 9, 0, 7, 9, 8, 9, 9, 7, 18, 7, 8, 6, 15, 8, 18, 11, 15, 7, 19, 7, 15, 9, 7, 15, 19, 13, 9, 7, 17, 15, 9, 9, 8, 8, 7, 8, 10, 6, 7, 18, 9, 8, 13, 6, 9, 7, 8, 8, 15, 8, 9, 15, 13, 13, 7, 11, 9, 13, 7, 18, 18, 9, 9, 7, 9, 7, 15, 11, 17, 7, 7, 10, 8, 15, 7, 15, 9, 7, 15, 19, 18, 9, 7, 6, 9, 7, 13, 15, 8, 8, 7, 8, 7, 15, 7, 7, 13, 7, 9, 10, 7, 15, 7, 15, 8, 16, 13, 15, 8, 7, 7, 9, 8, 7, 19, 7, 7, 15, 18, 7, 7, 9, 11, 18, 8, 6, 18, 15, 7, 15, 7, 13, 15, 6, 9, 16, 9, 7, 15, 15, 18, 8, 15, 7, 8, 15, 3, 8, 7, 9, 15, 19, 8, 18, 8, 8, 6, 15, 15, 18, 16, 3, 15, 8, 9, 15, 8, 15, 11, 15, 3, 15, 7, 9, 7, 8, 16, 9, 11, 15, 9, 8, 19, 19, 18, 8, 7, 7, 8, 8, 9, 8, 16, 6, 8, 15, 8, 18, 13, 15, 15, 16, 9, 15, 13, 9, 8, 6, 15, 9, 9, 7, 7, 13, 8, 8, 9, 8, 8, 7, 14, 15, 15, 9, 6, 8, 9, 7, 15, 8, 11, 15, 9, 18, 7, 8, 7, 8, 15, 19, 7, 15, 11, 15, 15, 6, 7, 7, 15, 8, 9, 15, 6, 15, 11, 15, 7, 9, 8, 18, 8, 7, 15, 8, 7, 8, 7, 18, 0, 8, 11, 15, 8, 19, 8, 7, 8, 9, 20, 8, 15, 7, 15, 15, 9, 13, 11, 8, 7, 3, 7, 8, 6, 9, 8, 3, 7, 15, 7, 9, 9, 9, 15, 11, 7, 7, 15, 9, 6, 16, 15, 15, 9, 18, 15, 15, 17, 8, 15, 8, 8, 8, 8, 6, 8, 8, 19, 8, 7, 7, 8, 7, 15, 7, 15, 8, 8, 6, 13, 15, 7, 7, 8, 15, 7, 15, 9, 6, 9, 8, 9, 18, 9, 8, 15, 7, 9, 8, 8, 7, 10, 9, 9, 7, 7, 7, 8, 8, 13, 8, 16, 8, 7, 9, 7, 7, 11, 10, 15, 13, 10, 8, 9, 15, 16, 8, 8, 13, 15, 15, 9, 9, 8, 15, 11, 8, 15, 15, 9, 8, 7, 11, 7, 7, 8, 6, 6, 7, 8, 13, 9, 15, 9, 18, 19, 8, 6, 15, 18, 8, 9, 8, 9, 9, 9, 8, 15, 15, 7, 7, 7, 7, 11, 15, 18, 9, 3, 9, 7, 7, 15, 8, 8, 6, 15, 15, 8, 8, 3, 7, 9, 7, 8, 15, 9, 18, 8, 13, 6, 17, 15, 8, 15, 15, 9, 7, 6, 15, 9, 9, 7, 7, 15, 17, 8, 18, 6, 9, 10, 16, 7, 6, 6, 8, 8, 8, 6, 15, 18, 19, 8, 8, 16, 15, 8, 17, 17, 8, 9, 10, 8, 15, 7, 8, 15, 6, 19, 8, 7, 7, 8, 8, 9, 7, 9, 9, 7, 9, 15, 9, 9, 7, 6, 15, 15, 8, 8, 15, 6, 16, 17, 9, 9, 13, 9, 8, 9, 9, 8, 9, 16, 9, 18, 15, 7, 9, 15, 7, 8, 8, 7, 13, 9, 15, 8, 19, 15, 9, 9, 3, 7, 6, 17, 9, 8, 15, 7, 13, 13, 18, 7, 7, 11, 8, 7, 7, 15, 8, 7, 15, 7, 18, 15, 7, 8, 9, 9, 15, 18, 7, 17, 8, 15, 7, 9, 7, 18, 15, 9, 15, 15, 8, 9, 8, 10, 9, 9, 8, 8, 7, 17, 15, 11, 15, 7, 7, 8, 15, 8, 10, 15, 15, 8, 9, 15, 15, 9, 8, 9, 9, 15, 7, 18, 18, 15, 19, 16, 15, 9, 9, 9, 7, 7, 8, 15, 6, 18, 14, 8, 7, 15, 11, 6, 3, 9, 15, 16, 18, 9, 19, 13, 9, 18, 9, 15, 7, 19, 7, 7, 7, 15, 18, 8, 8, 9, 13, 9, 15, 16, 19, 9, 11, 15, 15, 7, 9, 17, 13, 7, 8, 7, 9, 15, 6, 15, 18, 7, 8, 15, 9, 8, 7, 18, 7, 8, 7, 15, 6, 8, 11, 7, 15, 13, 9, 7, 9, 9, 8, 8, 8, 19, 7, 15, 9, 7, 18, 7, 15, 7, 8, 18, 15, 0, 7, 7, 7, 15, 8, 9, 9, 9, 7, 15, 14, 7, 8, 15, 19, 9, 11, 6, 7, 8, 9, 15, 15, 15, 7, 11, 15, 6, 8, 9, 6, 9, 11, 6, 8, 15, 15, 15, 8, 13, 18, 7, 9, 8, 7, 8, 15, 7, 7, 9, 8, 19, 15, 9, 7, 7, 15, 15, 9, 15, 8, 9, 15, 8, 8, 7, 8, 8, 8, 19, 9, 18, 18, 15, 8, 9, 10, 15, 13, 7, 7, 8, 9, 6, 7, 11, 9, 0, 17, 11, 15, 9, 7, 6, 7, 6, 9, 7, 11, 15, 8, 8, 16, 9, 13, 8, 7, 7, 9, 9, 9, 9, 8, 8, 6, 11, 9, 10, 7, 13, 16, 9, 11, 6, 7, 15, 11, 7, 18, 15, 7, 8, 20, 9, 8, 7, 3, 8, 8, 13, 9, 8, 6, 9, 9, 15, 10, 10, 9, 8, 19, 7, 8, 10, 7, 9, 19, 9, 16, 9, 9, 7, 8, 9, 15, 19, 9, 15, 15, 18, 18, 16, 15, 7, 9, 15, 15, 15, 15, 8, 8, 9, 8, 9, 6, 9, 7, 6, 8, 7, 15, 7, 7, 8, 8, 9, 8, 7, 7, 9, 7, 13, 6, 18, 8, 10, 7, 8, 15, 11, 7, 7, 7, 8, 9, 15, 18, 9, 19, 8, 9, 8, 11, 11, 16, 7, 6, 7, 8, 9, 10, 15, 15, 15, 16, 6, 7, 7, 6, 18, 15, 11, 7, 7, 7, 7, 7, 8, 9, 15, 15, 7, 15, 8, 7, 8, 15, 15, 9, 9, 16, 7, 18, 15, 15, 15, 7, 15, 7, 11, 15, 7, 9, 7, 6, 15, 8, 15, 9, 15, 4, 7, 9, 15, 6, 13, 8, 7, 15, 15, 11, 9, 15, 11, 9, 15, 19, 11, 16, 9, 6, 8, 18, 10, 9, 19, 7, 9, 15, 7, 11, 15, 19, 11, 8, 8, 7, 6, 8, 0, 7, 9, 15, 7, 7, 15, 8, 8, 7, 15, 7, 9, 3, 16, 8, 15, 7, 8, 6, 8, 8, 7, 6, 15, 6, 18, 15, 15, 7, 7, 8, 15, 8, 7, 9, 8, 16, 17, 7, 8, 15, 15, 9, 9, 7, 10, 9, 18, 17, 9, 7, 15, 15, 8, 19, 15, 15, 15, 13, 7, 15, 18, 7, 9, 15, 7, 6, 9, 13, 7, 7, 15, 15, 13, 7, 13, 8, 15, 15, 9, 15, 10, 8, 8, 6, 9, 9, 7, 8, 8, 9, 8, 7, 9, 10, 15, 11, 7, 7, 9, 15, 7, 17, 18, 7, 11, 8, 7, 9, 18, 15, 11, 6, 7, 7, 8, 18, 8, 9, 15, 8, 6, 13, 8, 10, 18, 9, 15, 6, 16, 7, 15, 8, 18, 9, 9, 13, 9, 15, 17, 7, 9, 18, 13, 9, 20, 9, 8, 6, 15, 6, 7, 8, 8, 11, 7, 8, 9, 8, 8, 7, 9, 9, 9, 10, 15, 10, 7, 18, 7, 9, 8, 7, 11, 11, 15, 8, 15, 6, 8, 7, 7, 7, 8, 8, 15, 7, 13, 13, 15, 7, 15, 7, 7, 19, 16, 13, 8, 7, 15, 15, 18, 15, 8, 15, 15, 9, 7, 9, 18, 8, 4, 7, 7, 15, 8, 8, 15, 7, 9, 15, 7, 10, 7, 7, 9, 10, 7, 9, 7, 8, 16, 15, 9, 15, 7, 15, 9, 18, 15, 15, 14, 9, 6, 7, 18, 15, 8, 15, 6, 8, 0, 8, 8, 7, 15, 8, 9, 8, 9, 7, 4, 8, 6, 7, 15, 7, 19, 7, 11, 8, 19, 15, 9, 15, 11, 7, 15, 8, 8, 9, 8, 15, 7, 11, 18, 18, 6, 15, 11, 11, 17, 6, 8, 8, 8, 7, 7, 8, 11, 8, 18, 8, 15, 18, 15, 15, 8, 18, 8, 15, 10, 11, 9, 11, 15, 7, 7, 8, 15, 7, 9, 0, 15, 15, 7, 8, 18, 11, 6, 8, 7, 8, 9, 9, 19, 15, 15, 9, 10, 15, 8, 18, 9, 7, 15, 15, 8, 7, 17, 7, 7, 6, 16, 17, 15, 8, 9, 18, 7, 19, 3, 8, 7, 7, 7, 7, 15, 18, 15, 7, 6, 13, 8, 8, 15, 15, 7, 7, 8, 9, 15, 13, 15, 15, 7, 15, 8, 9, 8, 7, 7, 14, 18, 9, 7, 0, 8, 7, 15, 6, 11, 9, 8, 15, 7, 7, 15, 8, 7, 9, 9, 7, 15, 7, 16, 8, 15, 9, 6, 8, 15, 7, 8, 7, 9, 7, 8, 7, 8, 8, 10, 9, 7, 7, 6, 9, 8, 11, 11, 15, 18, 7, 8, 15, 7, 16, 15, 8, 8, 15, 15, 19, 7, 19, 11, 9, 7, 8, 8, 7, 8, 7, 9, 7, 8, 19, 8, 7, 11, 15, 9, 9, 7, 9, 18, 7, 7, 3, 7, 9, 9, 15, 18, 19, 15, 9, 8, 8, 7, 8, 7, 8, 7, 18, 15, 20, 11, 8, 11, 9, 7, 9, 8, 18, 7, 6, 9, 7, 7, 18, 3, 9, 8, 15, 3, 11, 18, 8, 15, 8, 8, 7, 8, 8, 15, 11, 7, 7, 15, 15, 8, 9, 15, 7, 15, 19, 18, 19, 11, 7, 8, 15, 7, 8, 7, 15, 9, 8, 10, 13, 7, 15, 8, 17, 15, 8, 7, 7, 6, 7, 6, 9, 8, 8, 7, 8, 7, 7, 15, 8, 15, 8, 15, 15, 10, 3, 8, 9, 15, 16, 15, 9, 3, 11, 15, 11, 7, 8, 15, 11, 18, 17, 18, 8, 7, 16, 15, 9, 4, 7, 7, 9, 9, 7, 11, 9, 14, 10, 7, 11, 9, 9, 8, 15, 15, 7, 19, 15, 9, 16, 18, 10, 7, 6, 9, 13, 8, 8, 19, 15, 9, 9, 7, 7, 7, 9, 19, 20, 13, 15, 15, 15, 8, 8, 18, 15, 18, 9, 7, 8, 8, 15, 10, 7, 18, 7, 8, 17, 3, 18, 10, 7, 15, 9, 7, 8, 7, 18, 15, 15, 16, 3, 7, 8, 7, 8, 6, 6, 8, 15, 8, 13, 15, 15, 7, 18, 18, 7, 19, 7, 8, 8, 19, 9, 15, 7, 7, 7, 9, 7, 7, 15, 8, 18, 7, 13, 8, 15, 9, 15, 8, 15, 7, 8, 9, 8, 7, 7, 8, 8, 7, 10, 13, 8, 16, 15, 9, 16, 7, 7, 8, 6, 8, 9, 9, 7, 8, 0, 7, 16, 16, 15, 9, 17, 19, 15, 6, 7, 13, 7, 13, 18, 15, 15, 9, 9, 8, 18, 11, 15, 8, 9, 7, 18, 8, 8, 9, 8, 15, 7, 16, 15, 7, 7, 8, 16, 8, 9, 6, 8, 8, 7, 7, 8, 7, 8, 9, 19, 15, 7, 8, 17, 8, 17, 15, 8, 7, 9, 7, 19, 10, 15, 13, 9, 11, 8, 8, 18, 8, 15, 15, 9, 18, 15, 9, 15, 17, 9, 6, 16, 7, 7, 8, 15, 7, 7, 10, 7, 7, 6, 13, 9, 13, 8, 15, 9, 7, 9, 15, 7, 9, 7, 7, 8, 16, 15, 9, 8, 15, 7, 7, 15, 13, 8, 18, 8, 7, 15, 15, 16, 8, 13, 15, 9, 8, 7, 8, 15, 9, 11, 8, 7, 9, 8, 8, 7, 8, 9, 9, 15, 8, 9, 15, 7, 15, 11, 7, 16, 9, 15, 7, 7, 8, 7, 7, 8, 8, 18, 19, 7, 17, 7, 7, 7, 15, 8, 8, 15, 9, 8, 6, 15, 15, 8, 11, 11, 13, 8, 15, 15, 8, 9, 8, 8, 7, 7, 15, 17, 3, 7, 15, 8, 7, 7, 7, 7, 8, 8, 9, 9, 10, 15, 7, 8, 15, 15, 0, 10, 7, 9, 11, 7, 7, 8, 7, 6, 14, 9, 15, 7, 6, 8, 15, 19, 7, 9, 9, 15, 8, 19, 18, 8, 9, 8, 15, 8, 8, 8, 8, 8, 17, 19, 18, 8, 8, 18, 9, 7, 8, 15, 18, 19, 7, 15, 9, 6, 9, 15, 7, 6, 15, 6, 15, 15, 15, 15, 18, 6, 7, 7, 7, 7, 15, 17, 7, 19, 9, 9, 7, 15, 10, 9, 9, 17, 15, 9, 7, 15, 15, 13, 9, 15, 7, 7, 7, 7, 15, 15, 8, 9, 3, 11, 11, 8, 15, 7, 0, 18, 8, 9, 3, 15, 7, 8, 8, 17, 8, 9, 9, 18, 15, 7, 15, 6, 9, 7, 13, 11, 19, 7, 15, 7, 8, 15, 20, 6, 9, 8, 7, 8, 18, 18, 8, 7, 8, 7, 8, 7, 7, 7, 9, 7, 8, 15, 13, 9, 19, 15, 9, 13, 6, 7, 9, 8, 7, 7, 7, 19, 7, 7, 7, 15, 8, 0, 9, 16, 7, 15, 7, 8, 7, 9, 7, 7, 7, 15, 9, 9, 8, 7, 11, 18, 9, 9, 15, 20, 15, 8, 18, 18, 15, 19, 9, 6, 8, 7, 15, 8, 9, 10, 18, 8, 18, 10, 9, 7, 7, 9, 9, 7, 15, 15, 8, 18, 15, 15, 3, 9, 8, 7, 19, 6, 13, 7, 10, 9, 8, 15, 11, 8, 15, 7, 15, 15, 9, 7, 7, 15, 9, 8, 15, 7, 8, 7, 7, 6, 7, 8, 7, 7, 8, 17, 8, 16, 3, 9, 15, 15, 8, 19, 6, 4, 6, 7, 9, 9, 15, 9, 8, 9, 13, 9, 9, 19, 9, 6, 9, 20, 15, 9, 6, 7, 15, 15, 7, 13, 7, 15, 15, 15, 6, 15, 15, 7, 8, 8, 3, 7, 15, 7, 10, 18, 0, 6, 3, 7, 18, 9, 9, 15, 15, 8, 0, 15, 6, 8, 9, 7, 6, 15, 15, 7, 7, 8, 7, 15, 8, 8, 13, 8, 9, 9, 18, 8, 9, 7, 8, 8, 15, 8, 8, 9, 7, 7, 7, 9, 18, 7, 15, 16, 8, 8, 8, 8, 8, 15, 15, 8, 6, 8, 9, 8, 8, 8, 15, 15, 7, 10, 9, 7, 9, 8, 8, 9, 7, 8, 7, 8, 7, 13, 7, 8, 8, 8, 16, 7, 19, 8, 16, 6, 16, 9, 9, 7, 11, 15, 18, 6, 8, 18, 18, 7, 8, 15, 7, 8, 10, 8, 9, 7, 15, 10, 7, 7, 9, 8, 18, 8, 7, 7, 8, 15, 7, 8, 19, 11, 18, 16, 7, 8, 9, 10, 8, 6, 8, 8, 8, 9, 7, 13, 15, 15, 13, 9, 0, 9, 6, 15, 9, 7, 15, 7, 9, 9, 7, 8, 8, 16, 7, 13, 15, 8, 8, 9, 15, 9, 7, 15, 15, 8, 7, 16, 10, 15, 7, 18, 0, 11, 7, 17, 18, 8, 9, 15, 15, 15, 9, 8, 7, 11, 15, 0, 13, 18, 8, 9, 8, 15, 16, 9, 9, 7, 9, 7, 7, 8, 7, 7, 9, 8, 7, 7, 13, 8, 15, 7, 10, 10, 7, 7, 15, 9, 15, 7, 9, 15, 16, 7, 19, 7, 15, 15, 15, 8, 7, 9, 8, 7, 18, 8, 0, 10, 8, 8, 7, 15, 15, 8, 7, 13, 9, 8, 18, 8, 8, 15, 7, 6, 9, 15, 7, 9, 9, 7, 15, 7, 9, 15, 15, 15, 9, 7, 6, 9, 7, 8, 7, 7, 8, 7, 11, 7, 7, 16, 8, 15, 6, 9, 16, 8, 1, 9, 9, 7, 20, 15, 19, 8, 18, 15, 8, 7, 19, 8, 7, 7, 8, 8, 8, 10, 7, 7, 6, 7, 9, 7, 7, 7, 7, 7, 9, 15, 9, 18, 7, 8, 15, 18, 7, 9, 7, 7, 8, 15, 13, 9, 18, 7, 7, 13, 17, 15, 15, 10, 7, 8, 7, 8, 7, 7, 8, 8, 7, 15, 6, 8, 7, 15, 8, 7, 13, 7, 8, 6, 9, 8, 15, 15, 15, 8, 9, 8, 10, 7, 9, 15, 10, 15, 15, 15, 15, 7, 18, 18, 7, 15, 8, 9, 7, 3, 9, 18, 13, 9, 8, 9, 18, 8, 8, 7, 15, 15, 8, 8, 8, 7, 14, 8, 8, 9, 15, 8, 7, 13, 7, 7, 9, 8, 8, 13, 7, 15, 18, 7, 19, 15, 15, 17, 19, 7, 8, 18, 7, 15, 8, 10, 15, 8, 8, 9, 7, 15, 4, 8, 6, 16, 9, 8, 7, 9, 11, 8, 7, 18, 7, 7, 7, 10, 7, 10, 8, 8, 9, 7, 9, 19, 15, 7, 8, 7, 7, 9, 15, 9, 15, 19, 15, 10, 8, 15, 8, 9, 7, 0, 13, 15, 6, 15, 13, 7, 15, 9, 8, 6, 16, 9, 7, 7, 7, 9, 8, 9, 9, 7, 9, 15, 8, 18, 8, 7, 8, 7, 9, 7, 16, 6, 11, 15, 7, 8, 7, 15, 15, 7, 9, 8, 9, 15, 15, 6, 7, 15, 7, 8, 17, 9, 9, 9, 3, 7, 15, 19, 17, 7, 13, 18, 19, 7, 9, 0, 18, 15, 18, 19, 9, 20, 9, 15, 11, 7, 9, 18, 8, 15, 6, 7, 19, 7, 8, 8, 11, 8, 9, 9, 7, 7, 7, 8, 15, 9, 16, 4, 15, 7, 8, 8, 9, 8, 6, 18, 9, 9, 8, 7, 9, 7, 18, 8, 7, 8, 15, 9, 10, 15, 15, 9, 7, 15, 6, 7, 9, 15, 18, 7, 15, 19, 15, 9, 10, 15, 8, 15, 0, 18, 19, 8, 8, 8, 7, 9, 7, 7, 8, 9, 6, 15, 7, 7, 8, 7, 13, 6, 6, 7, 7, 7, 8, 13, 7, 8, 7, 7, 16, 9, 9, 7, 3, 8, 9, 7, 8, 15, 8, 7, 18, 8, 8, 15, 7, 15, 17, 8, 18, 8, 15, 10, 15, 7, 7, 8, 7, 15, 7, 9, 7, 15, 7, 16, 13, 7, 8, 9, 8, 8, 6, 8, 7, 9, 10, 8, 7, 7, 15, 16, 7, 18, 15, 3, 8, 8, 15, 15, 9, 15, 3, 20, 8, 18, 7, 8, 9, 18, 7, 11, 9, 15, 8, 7, 9, 9, 7, 7, 8, 9, 18, 9, 9, 18, 15, 15, 15, 15, 18, 13, 11, 15, 8, 18, 7, 9, 7, 9, 19, 8, 6, 9, 15, 8, 9, 8, 8, 8, 8, 7, 8, 13, 9, 3, 7, 9, 15, 8, 9, 9, 8, 9, 7, 7, 7, 7, 8, 9, 8, 0, 8, 8, 9, 8, 15, 15, 8, 15, 8, 7, 8, 6, 10, 18, 19, 7, 6, 10, 13, 15, 13, 15, 18, 9, 9, 8, 0, 19, 9, 7, 13, 15, 7, 7, 15, 6, 8, 9, 7, 3, 18, 8, 8, 8, 7, 7, 15, 9, 7, 18, 8, 15, 7, 7, 9, 9, 9, 18, 3, 8, 7, 15, 15, 8, 9, 15, 15, 6, 7, 19, 18, 7, 11, 7, 9, 7, 7, 15, 13, 9, 15, 6, 8, 8, 9, 8, 11, 9, 7, 9, 9, 9, 15, 6, 19, 6, 8, 17, 9, 17, 15, 0, 7, 9, 18, 7, 7, 7, 15, 8, 6, 7, 9, 9, 15, 7, 8, 17, 11, 7, 16, 15, 7, 18, 16, 9, 8, 7, 7, 15, 9, 8, 7, 9, 8, 7, 8, 18, 7, 7, 9, 9, 8, 7, 15, 8, 15, 15, 16, 8, 11, 8, 15, 7, 16, 7, 16, 14, 18, 15, 15, 7, 9, 6, 9, 15, 7, 8, 15, 8, 9, 15, 15, 9, 9, 15, 18, 7, 9, 9, 9, 7, 15, 15, 7, 8, 19, 6, 18, 7, 18, 8, 7, 9, 7, 3, 9, 11, 15, 0, 7, 7, 15, 7, 10, 18, 8, 9, 15, 19, 8, 18, 7, 9, 18, 7, 7, 15, 8, 6, 7, 8, 18, 9, 9, 8, 7, 8, 0, 15, 10, 15, 18, 8, 15, 8, 15, 15, 7, 8, 15, 17, 9, 18, 15, 15, 15, 15, 8, 7, 9, 8, 16, 7, 7, 15, 15, 8, 7, 10, 15, 15, 11, 8, 15, 7, 16, 17, 7, 17, 7, 15, 9, 7, 17, 14, 7, 15, 15, 9, 7, 15, 15, 7, 15, 7, 8, 7, 7, 9, 11, 8, 7, 19, 7, 7, 15, 7, 15, 15, 4, 16, 7, 7, 6, 6, 8, 9, 15, 7, 15, 20, 4, 9, 8, 11, 18, 13, 10, 9, 7, 7, 7, 8, 7, 3, 9, 9, 19, 7, 9, 13, 7, 7, 6, 8, 8, 8, 8, 8, 9, 8, 3, 8, 7, 7, 15, 8, 11, 8, 15, 15, 8, 9, 8, 9, 15, 15, 9, 8, 8, 7, 10, 6, 18, 9, 9, 18, 7, 15, 15, 9, 3, 20, 7, 13, 17, 7, 8, 10, 7, 7, 10, 6, 8, 8, 11, 9, 7, 9, 15, 7, 8, 9, 7, 16, 9, 8, 15, 8, 7, 8, 17, 17, 8, 9, 9, 15, 15, 8, 8, 7, 15, 15, 7, 8, 3, 15, 15, 8, 15, 8, 7, 8, 7, 15, 9, 7, 19, 8, 7, 9, 15, 8, 7, 15, 19, 7, 7, 15, 7, 8, 7, 7, 8, 8, 7, 9, 8, 7, 15, 9, 15, 20, 18, 18, 20, 9, 11, 19, 7, 15, 7, 7, 16, 15, 6, 8, 8, 8, 16, 11, 15, 9, 7, 15, 8, 18, 9, 18, 15, 9, 18, 9, 13, 15, 7, 16, 9, 7, 7, 18, 7, 8, 7, 8, 3, 8, 15, 3, 8, 7, 7, 8, 15, 7, 16, 19, 7, 8, 9, 15, 13, 9, 13, 7, 8, 7, 10, 3, 8, 7, 8, 7, 15, 7, 7, 15, 8, 7, 18, 10, 7, 15, 19, 18, 8, 18, 15, 17, 8, 9, 15, 15, 9, 13, 9, 15, 8, 8, 13, 11, 8, 15, 9, 9, 20, 13, 8, 18, 8, 9, 9, 18, 8, 8, 15, 15, 15, 7, 9, 6, 9, 8, 15, 7, 6, 11, 9, 8, 9, 6, 8, 13, 8, 15, 15, 7, 18, 11, 15, 8, 7, 7, 18, 19, 0, 9, 8, 15, 15, 18, 15, 8, 8, 15, 19, 8, 18, 15, 19, 15, 15, 16, 16, 13, 8, 15, 8, 16, 15, 16, 9, 8, 11, 18, 3, 3, 9, 10, 11, 7, 15, 8, 8, 16, 8, 9, 7, 15, 7, 8, 8, 7, 18, 9, 7, 8, 15, 7, 19, 6, 9, 8, 6, 8, 15, 7, 17, 7, 9, 7, 9, 7, 8, 15, 15, 9, 8, 7, 19, 15, 8, 15, 9, 18, 8, 16, 8, 17, 11, 7, 7, 7, 15, 15, 7, 6, 8, 8, 9, 9, 15, 7, 15, 9, 15, 7, 15, 15, 15, 9, 7, 15, 7, 15, 18, 7, 9, 15, 9, 8, 15, 8, 9, 15, 9, 9, 7, 8, 6, 7, 8, 15, 18, 15, 19, 15, 18, 9, 8, 15, 15, 8, 19, 7, 15, 15, 15, 20, 7, 7, 9, 6, 8, 8, 17, 9, 18, 15, 15, 9, 8, 7, 6, 8, 7, 9, 6, 18, 16, 0, 15, 9, 8, 9, 7, 7, 11, 9, 7, 6, 7, 9, 7, 9, 19, 18, 9, 7, 8, 8, 7, 15, 7, 9, 15, 15, 9, 8, 11, 9, 13, 7, 7, 9, 7, 9, 7, 15, 9, 7, 14, 9, 18, 9, 18, 8, 8, 10, 9, 8, 16, 9, 8, 9, 15, 4, 7, 9, 16, 18, 11, 7, 9, 9, 8, 11, 8, 7, 15, 15, 6, 8, 7, 15, 7, 15, 7, 10, 8, 7, 20, 15, 9, 15, 13, 0, 8, 8, 11, 9, 8, 13, 13, 7, 16, 10, 15, 9, 15, 7, 8, 15, 18, 7, 13, 8, 8, 10, 18, 15, 11, 18, 15, 8, 18, 15, 9, 6, 18, 13, 8, 8, 7, 0, 7, 8, 15, 8, 6, 8, 7, 16, 7, 11, 16, 3, 7, 8, 18, 6, 15, 11, 8, 8, 11, 15, 7, 15, 8, 15, 8, 18, 7, 9, 8, 16, 9, 19, 15, 9, 9, 8, 7, 11, 15, 9, 9, 16, 9, 8, 18, 17, 3, 11, 6, 15, 7, 3, 10, 9, 9, 8, 7, 8, 7, 13, 18, 7, 8, 7, 15, 15, 15, 7, 7, 8, 16, 8, 15, 9, 9, 15, 15, 19, 16, 7, 7, 15, 9, 20, 9, 9, 15, 7, 6, 18, 7, 16, 9, 18, 9, 17, 8, 7, 9, 8, 6, 13, 0, 8, 15, 6, 9, 8, 9, 9, 8, 7, 15, 7, 9, 7, 7, 18, 7, 7, 8, 19, 8, 9, 8, 4, 15, 6, 13, 7, 15, 9, 15, 18, 9, 8, 9, 15, 7, 9, 15, 18, 16, 13, 8, 7, 9, 9, 7, 8, 9, 10, 8, 15, 7, 15, 7, 9, 8, 8, 16, 17, 8, 10, 9, 7, 18, 15, 15, 13, 8, 19, 0, 9, 6, 15, 9, 13, 3, 16, 9, 9, 6, 7, 8, 7, 7, 6, 7, 16, 8, 8, 15, 8, 15, 8, 7, 9, 8, 6, 9, 0, 19, 6, 8, 8, 7, 18, 7, 13, 8, 8, 7, 15, 14, 7, 15, 7, 13, 11, 9, 7, 15, 8, 6, 7, 8, 7, 15, 7, 15, 9, 9, 9, 10, 15, 8, 3, 7, 9, 9, 9, 7, 7, 8, 8, 8, 8, 15, 9, 18, 19, 3, 11, 8, 19, 7, 16, 10, 7, 15, 9, 8, 18, 18, 16, 7, 7, 7, 19, 19, 15, 7, 8, 18, 7, 13, 8, 9, 8, 15, 8, 7, 15, 7, 10, 1, 7, 19, 15, 11, 10, 9, 7, 11, 10, 8, 15, 8, 13, 18, 7, 8, 9, 15, 7, 7, 9, 7, 19, 11, 9, 8, 7, 6, 9, 8, 3, 15, 8, 18, 11, 6, 15, 15, 9, 9, 9, 10, 7, 4, 9, 9, 7, 8, 15, 7, 9, 9, 9, 13, 8, 8, 9, 8, 8, 7, 7, 18, 7, 15, 9, 19, 7, 9, 8, 19, 15, 15, 15, 7, 11, 0, 7, 7, 7, 15, 11, 7, 16, 10, 7, 15, 8, 14, 9, 6, 7, 15, 15, 17, 15, 15, 8, 9, 7, 7, 9, 8, 15, 9, 7, 15, 9, 9, 18, 8, 7, 18, 15, 9, 16, 15, 7, 15, 15, 8, 11, 7, 9, 9, 7, 8, 9, 18, 15, 7, 18, 15, 7, 15, 9, 8, 13, 9, 7, 9, 6, 7, 15, 9, 9, 7, 13, 8, 16, 7, 8, 18, 15, 8, 18, 7, 11, 9, 15, 15, 7, 15, 7, 7, 9, 7, 9, 19, 6, 15, 15, 8, 8, 13, 7, 7, 16, 7, 9, 15, 7, 15, 15, 8, 15, 15, 9, 18, 15, 7, 18, 8, 7, 9, 9, 11, 16, 7, 11, 9, 7, 8, 11, 9, 9, 18, 7, 8, 7, 7, 8, 15, 6, 9, 9, 8, 7, 9, 20, 15, 9, 8, 9, 7, 7, 15, 7, 8, 9, 11, 7, 15, 8, 7, 7, 8, 15, 15, 18, 7, 8, 8, 8, 7, 18, 8, 7, 8, 8, 0, 15, 7, 9, 7, 15, 8, 15, 18, 6, 15, 8, 7, 15, 9, 15, 8, 7, 10, 18, 8, 7, 9, 9, 8, 15, 8, 18, 8, 7, 8, 15, 15, 10, 9, 10, 9, 18, 8, 7, 11, 7, 15, 8, 9, 9, 20, 7, 7, 15, 18, 7, 15, 16, 7, 15, 8, 7, 7, 9, 7, 8, 9, 9, 16, 7, 8, 6, 8, 7, 10, 9, 8, 6, 7, 10, 7, 7, 15, 7, 9, 6, 7, 13, 18, 7, 15, 9, 7, 8, 7, 9, 6, 13, 8, 8, 7, 9, 8, 7, 8, 15, 15, 7, 3, 6, 14, 18, 15, 7, 15, 8, 11, 8, 15, 17, 9, 6, 7, 13, 9, 10, 7, 15, 9, 8, 15, 7, 18, 8, 7, 9, 7, 15, 8, 7, 13, 6, 8, 15, 18, 15, 15, 0, 18, 15, 18, 8, 15, 7, 9, 19, 8, 18, 15, 7, 8, 16, 7, 15, 15, 15, 19, 9, 17, 7, 8, 7, 17, 15, 13, 15, 15, 8, 7, 10, 7, 9, 8, 9, 9, 7, 8, 7, 7, 7, 15, 15, 15, 14, 15, 8, 7, 7, 15, 18, 8, 8, 8, 7, 6, 15, 8, 9, 15, 7, 9, 7, 8, 8, 15, 15, 15, 9, 11, 15, 18, 7, 7, 7, 15, 16, 8, 8, 7, 17, 17, 15, 11, 9, 6, 8, 13, 8, 3, 18, 8, 16, 15, 7, 8, 9, 0, 8, 10, 7, 8, 7, 7, 15, 15, 7, 7, 9, 19, 15, 11, 7, 8, 9, 9, 8, 0, 15, 15, 9, 7, 9, 7, 18, 7, 11, 8, 13, 7, 18, 8, 9, 6, 7, 16, 18, 11, 8, 7, 7, 6, 18, 9, 9, 8, 7, 15, 15, 8, 16, 13, 8, 9, 15, 7, 7, 7, 6, 8, 9, 16, 7, 8, 8, 7, 7, 7, 8, 6, 6, 19, 6, 15, 10, 8, 8, 13, 15, 9, 8, 17, 7, 8, 8, 18, 18, 3, 18, 15, 7, 19, 15, 9, 15, 9, 15, 0, 7, 10, 7, 9, 8, 11, 7, 8, 8, 11, 15, 10, 18, 6, 7, 7, 15, 8, 15, 19, 7, 6, 13, 15, 7, 7, 7, 15, 11, 7, 13, 15, 6, 8, 15, 9, 18, 11, 8, 9, 9, 18, 13, 3, 6, 7, 8, 15, 7, 15, 15, 7, 15, 15, 7, 15, 16, 7, 11, 9, 17, 16, 15, 15, 8, 7, 8, 9, 11, 9, 7, 9, 15, 15, 9, 8, 9, 15, 15, 11, 8, 16, 8, 8, 8, 8, 13, 7, 7, 6, 7, 15, 7, 9, 16, 9, 15, 7, 8, 15, 15, 7, 6, 8, 10, 8, 11, 8, 7, 7, 13, 7, 15, 8, 20, 9, 7, 15, 8, 8, 9, 18, 11, 7, 9, 9, 7, 9, 15, 9, 8, 7, 7, 6, 18, 17, 7, 8, 7, 7, 9, 9, 8, 8, 7, 9, 20, 9, 8, 8, 18, 16, 7, 13, 8, 9, 13, 13, 6, 6, 9, 9, 7, 9, 7, 15, 6, 9, 13, 9, 9, 15, 6, 15, 15, 6, 13, 9, 15, 15, 15, 7, 19, 8, 9, 15, 8, 15, 0, 7, 9, 7, 15, 15, 17, 7, 19, 9, 7, 8, 9, 7, 7, 8, 16, 6, 7, 15, 8, 8, 7, 7, 7, 7, 7, 13, 11, 15, 15, 8, 7, 7, 9, 11, 8, 18, 15, 15, 15, 7, 15, 8, 15, 18, 15, 18, 7, 8, 8, 9, 7, 7, 8, 15, 8, 9, 9, 7, 9, 9, 15, 7, 15, 7, 9, 8, 8, 15, 9, 8, 15, 8, 8, 17, 7, 15, 15, 15, 8, 7, 8, 9, 18, 15, 13, 11, 7, 7, 15, 7, 8, 9, 6, 8, 17, 15, 9, 7, 7, 18, 7, 18, 18, 9, 17, 8, 15, 15, 7, 9, 8, 15, 9, 7, 15, 16, 9, 9, 16, 3, 7, 10, 7, 15, 8, 4, 15, 7, 7, 8, 7, 7, 7, 6, 16, 15, 9, 11, 13, 7, 6, 7, 6, 15, 8, 3, 8, 9, 7, 7, 8, 9, 6, 9, 15, 7, 7, 15, 9, 19, 8, 9, 8, 6, 8, 7, 7, 7, 7, 7, 7, 13, 17, 13, 9, 18, 7, 8, 7, 15, 10, 19, 8, 9, 10, 15, 15, 7, 8, 11, 7, 16, 15, 7, 7, 9, 7, 9, 18, 15, 8, 18, 17, 9, 15, 15, 18, 16, 6, 0, 7, 15, 18, 13, 8, 19, 7, 15, 7, 8, 9, 13, 9, 6, 18, 7, 6, 7, 9, 16, 11, 7, 9, 8, 7, 15, 9, 10, 8, 7, 8, 7, 15, 6, 8, 7, 7, 3, 7, 8, 8, 15, 15, 7, 8, 9, 8, 8, 18, 15, 7, 6, 15, 9, 8, 9, 7, 15, 18, 7, 8, 15, 6, 7, 15, 9, 7, 8, 8, 7, 8, 15, 9, 8, 8, 8, 15, 16, 7, 15, 8, 16, 9, 8, 9, 15, 13, 4, 7, 7, 9, 8, 15, 7, 15, 19, 7, 8, 15, 9, 7, 9, 15, 8, 7, 7, 8, 7, 7, 9, 15, 7, 7, 19, 8, 15, 11, 7, 7, 8, 20, 9, 7, 10, 7, 7, 8, 15, 7, 11, 9, 15, 7, 7, 11, 19, 17, 7, 8, 6, 6, 15, 8, 19, 10, 9, 7, 7, 8, 9, 7, 9, 9, 10, 9, 9, 9, 8, 6, 7, 11, 8, 9, 18, 9, 7, 13, 9, 15, 9, 7, 9, 15, 15, 19, 7, 15, 7, 13, 6, 19, 11, 15, 15, 7, 15, 7, 7, 7, 6, 8, 9, 8, 18, 3, 8, 8, 15, 7, 7, 15, 16, 9, 7, 7, 7, 3, 8, 9, 8, 9, 15, 7, 8, 7, 15, 15, 15, 8, 7, 18, 18, 7, 7, 8, 15, 11, 7, 16, 9, 8, 16, 8, 9, 9, 15, 7, 15, 19, 7, 9, 18, 8, 18, 16, 7, 7, 7, 8, 8, 9, 6, 18, 7, 9, 7, 7, 7, 13, 7, 15, 15, 7, 8, 9, 19, 6, 8, 15, 8, 7, 15, 8, 18, 18, 7, 13, 9, 15, 8, 8, 7, 7, 18, 3, 13, 7, 7, 8, 6, 16, 3, 7, 11, 20, 8, 16, 9, 7, 0, 7, 10, 7, 16, 15, 9, 13, 15, 18, 7, 15, 18, 15, 18, 16, 9, 11, 8, 15, 8, 9, 7, 7, 9, 6, 15, 8, 16, 7, 18, 9, 8, 3, 7, 17, 9, 8, 15, 8, 8, 7, 17, 15, 17, 19, 16, 9, 7, 15, 7, 19, 7, 15, 7, 15, 8, 9, 9, 3, 9, 8, 19, 15, 9, 11, 7, 8, 8, 7, 7, 19, 13, 9, 15, 15, 9, 9, 6, 18, 8, 7, 8, 18, 6, 8, 15, 0, 15, 15, 18, 7, 8, 8, 15, 6, 15, 15, 9, 6, 7, 19, 8, 15, 7, 18, 9, 8, 9, 15, 8, 15, 7, 6, 15, 6, 15, 7, 13, 8, 7, 7, 7, 6, 18, 8, 6, 15, 9, 7, 9, 9, 6, 8, 7, 18, 7, 7, 7, 8, 7, 15, 7, 11, 18, 8, 18, 15, 7, 15, 9, 7, 9, 15, 11, 9, 8, 0, 15, 3, 10, 8, 15, 9, 9, 19, 15, 15, 11, 8, 18, 10, 9, 13, 7, 9, 7, 9, 8, 8, 19, 18, 7, 7, 8, 6, 9, 7, 15, 9, 8, 6, 8, 6, 7, 8, 15, 10, 8, 10, 9, 7, 11, 8, 8, 9, 15, 15, 7, 7, 9, 18, 7, 7, 7, 18, 7, 9, 11, 7, 7, 8, 7, 8, 8, 7, 8, 8, 9, 9, 15, 19, 7, 0, 8, 15, 9, 15, 9, 9, 8, 9, 9, 3, 7, 16, 8, 8, 7, 9, 8, 15, 8, 7, 8, 9, 7, 9, 13, 18, 6, 8, 10, 8, 8, 7, 9, 8, 13, 6, 7, 9, 9, 9, 8, 9, 8, 9, 8, 8, 8, 8, 7, 15, 9, 7, 15, 7, 7, 7, 7, 8, 11, 7, 8, 4, 8, 7, 10, 15, 8, 9, 7, 7, 7, 9, 8, 15, 9, 11, 6, 3, 7, 7, 7, 7, 9, 8, 8, 15, 6, 7, 15, 8, 7, 15, 8, 6, 7, 7, 9, 7, 9, 9, 7, 7, 8, 15, 7, 8, 15, 11, 8, 8, 18, 7, 6, 11, 6, 8, 8, 7, 9, 11, 17, 18, 15, 9, 9, 8, 15, 18, 13, 8, 3, 7, 9, 7, 15, 18, 13, 8, 9, 7, 7, 8, 7, 7, 7, 19, 19, 15, 16, 7, 7, 8, 18, 15, 9, 9, 8, 6, 15, 8, 7, 15, 9, 7, 18, 14, 7, 8, 20, 8, 10, 15, 19, 19, 8, 15, 15, 9, 9, 15, 7, 9, 9, 8, 9, 18, 8, 8, 8, 7, 7, 7, 15, 9, 7, 15, 0, 9, 18, 7, 6, 3, 15, 4, 19, 15, 6, 14, 13, 19, 15, 7, 18, 9, 9, 8, 15, 8, 9, 7, 10, 16, 3, 18, 15, 16, 19, 16, 6, 16, 8, 9, 10, 8, 8, 8, 15, 8, 19, 8, 8, 14, 9, 8, 18, 7, 10, 19, 15, 9, 19, 8, 11, 7, 18, 7]\n"
     ]
    }
   ],
   "source": [
    "#print(np.argmax(i))\n",
    "y_pred =[]\n",
    "for i in Y_pred:\n",
    "    y_pred.append(np.argmax(i))\n",
    "\n",
    "print(y_pred)"
   ]
  },
  {
   "cell_type": "code",
   "execution_count": 37,
   "metadata": {},
   "outputs": [
    {
     "data": {
      "text/plain": [
       "id            8577\n",
       "categories    8577\n",
       "dtype: int64"
      ]
     },
     "execution_count": 37,
     "metadata": {},
     "output_type": "execute_result"
    }
   ],
   "source": [
    "op =labelencoder.inverse_transform(y_pred)\n",
    "d = {'id': Data_Test['id'], 'categories': op}\n",
    "df = pd.DataFrame(data=d)\n",
    "df.count()"
   ]
  },
  {
   "cell_type": "code",
   "execution_count": 38,
   "metadata": {
    "scrolled": true
   },
   "outputs": [
    {
     "name": "stdout",
     "output_type": "stream",
     "text": [
      "Predictions saved: C:/INSOFE/CuTe_7321_AI/Result.csv\n"
     ]
    }
   ],
   "source": [
    "out_file = 'C:/INSOFE/CuTe_7321_AI/Result.csv'\n",
    "df.to_csv(out_file, index=False, header=True)\n",
    "print(\"Predictions saved: {0}\".format(out_file))"
   ]
  },
  {
   "cell_type": "code",
   "execution_count": null,
   "metadata": {
    "collapsed": true
   },
   "outputs": [],
   "source": [
    "##LSTM"
   ]
  },
  {
   "cell_type": "code",
   "execution_count": 86,
   "metadata": {},
   "outputs": [
    {
     "name": "stdout",
     "output_type": "stream",
     "text": [
      "_________________________________________________________________\n",
      "Layer (type)                 Output Shape              Param #   \n",
      "=================================================================\n",
      "embedding_2 (Embedding)      (None, 500, 32)           1139424   \n",
      "_________________________________________________________________\n",
      "lstm_1 (LSTM)                (None, 100)               53200     \n",
      "_________________________________________________________________\n",
      "dense_2 (Dense)              (None, 21)                2121      \n",
      "=================================================================\n",
      "Total params: 1,194,745\n",
      "Trainable params: 1,194,745\n",
      "Non-trainable params: 0\n",
      "_________________________________________________________________\n",
      "None\n"
     ]
    }
   ],
   "source": [
    "# define the model\n",
    "model = Sequential()\n",
    "model.add(Embedding(vocab_size, 32, input_length=max_length))\n",
    "model.add(LSTM(100))\n",
    "#model.add(Flatten())\n",
    "model.add(Dense(21,activation='softmax'))\n",
    "# compile the model\n",
    "model.compile(optimizer='adam', loss='categorical_crossentropy', metrics=['accuracy'])\n",
    "print(model.summary())"
   ]
  },
  {
   "cell_type": "code",
   "execution_count": 87,
   "metadata": {},
   "outputs": [
    {
     "name": "stdout",
     "output_type": "stream",
     "text": [
      "Train on 38933 samples, validate on 9734 samples\n",
      "Epoch 1/3\n",
      "38933/38933 [==============================] - 402s 10ms/step - loss: 2.3937 - acc: 0.1792 - val_loss: 2.3776 - val_acc: 0.1851\n",
      "Epoch 2/3\n",
      "38933/38933 [==============================] - 399s 10ms/step - loss: 2.3785 - acc: 0.1819 - val_loss: 2.3760 - val_acc: 0.1851\n",
      "Epoch 3/3\n",
      "38933/38933 [==============================] - 402s 10ms/step - loss: 2.3776 - acc: 0.1811 - val_loss: 2.3796 - val_acc: 0.1831\n"
     ]
    },
    {
     "data": {
      "text/plain": [
       "<keras.callbacks.History at 0x1fe836e3630>"
      ]
     },
     "execution_count": 87,
     "metadata": {},
     "output_type": "execute_result"
    }
   ],
   "source": [
    "model.fit(X_train, y_train, validation_data=(X_test, y_test), epochs=3,verbose=1, batch_size=64)"
   ]
  },
  {
   "cell_type": "code",
   "execution_count": 88,
   "metadata": {},
   "outputs": [
    {
     "name": "stdout",
     "output_type": "stream",
     "text": [
      "Accuracy: 18.306965\n"
     ]
    }
   ],
   "source": [
    "# evaluate the model\n",
    "loss, accuracy = model.evaluate(X_test, y_test, verbose=0)\n",
    "print('Accuracy: %f' % (accuracy*100))"
   ]
  }
 ],
 "metadata": {
  "colab": {
   "collapsed_sections": [],
   "name": "CUTe_2299.ipynb",
   "provenance": [],
   "toc_visible": true,
   "version": "0.3.2"
  },
  "kernelspec": {
   "display_name": "Python 3",
   "language": "python",
   "name": "python3"
  },
  "language_info": {
   "codemirror_mode": {
    "name": "ipython",
    "version": 3
   },
   "file_extension": ".py",
   "mimetype": "text/x-python",
   "name": "python",
   "nbconvert_exporter": "python",
   "pygments_lexer": "ipython3",
   "version": "3.6.3"
  }
 },
 "nbformat": 4,
 "nbformat_minor": 1
}
